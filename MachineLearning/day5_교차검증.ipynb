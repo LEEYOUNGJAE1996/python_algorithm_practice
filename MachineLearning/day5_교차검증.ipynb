{
 "cells": [
  {
   "attachments": {},
   "cell_type": "markdown",
   "metadata": {},
   "source": [
    "# 교차 검증\n",
    "\n",
    "\n",
    "---> 일반화된 모델을 만들기 위함!!!!\n",
    "한정적인 데이터를 잘 활용하기 위한???\n",
    "과적합 문제를 해결하고자 \n",
    "\n",
    "해결책 : 검증 Data를 하나로 고정하지 않고, Test 데이터의 모든 부분을 사용\n",
    "\n",
    "\n",
    "### 모델 성능 평가\n",
    "\n",
    "K-fold cross-validation\n",
    "\n",
    "1. Train 데이터를 k개의 그룹으로 나누기\n",
    "2. K-1개의 그룹을 학습에 사용\n",
    "3. 나머지 1개의 그룹을 이용해서 평가 수행\n",
    "4. 2번, 3번 과정을 k번 반복\n",
    "5. 모든 결과의 평균을 구하기\n",
    "\n",
    "\n",
    "### Cross-validation 장단점\n",
    "\n",
    "- 모든 데이터 셋을 학습과 평가에 활용하기 때문에 안정적이고 정확함\n",
    "    - 통계적 기법으로 과대적합을 감소시킴\n",
    "- 모델이 훈련 데이터의 변경에 대해 얼마나 민감한지 파악 가능\n",
    "- 데이터 셋의 크기가 충분히 크지 않은 경우에도 유용하게 사용\n",
    "- 여러번 학습 --> 계산량 증가"
   ]
  },
  {
   "cell_type": "code",
   "execution_count": null,
   "metadata": {},
   "outputs": [],
   "source": []
  },
  {
   "cell_type": "code",
   "execution_count": null,
   "metadata": {},
   "outputs": [],
   "source": []
  },
  {
   "cell_type": "code",
   "execution_count": null,
   "metadata": {},
   "outputs": [],
   "source": []
  },
  {
   "cell_type": "code",
   "execution_count": null,
   "metadata": {},
   "outputs": [],
   "source": []
  },
  {
   "cell_type": "code",
   "execution_count": null,
   "metadata": {},
   "outputs": [],
   "source": []
  }
 ],
 "metadata": {
  "kernelspec": {
   "display_name": "Python 3",
   "language": "python",
   "name": "python3"
  },
  "language_info": {
   "codemirror_mode": {
    "name": "ipython",
    "version": 3
   },
   "file_extension": ".py",
   "mimetype": "text/x-python",
   "name": "python",
   "nbconvert_exporter": "python",
   "pygments_lexer": "ipython3",
   "version": "3.10.11"
  },
  "orig_nbformat": 4
 },
 "nbformat": 4,
 "nbformat_minor": 2
}
