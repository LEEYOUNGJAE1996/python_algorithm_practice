{
 "cells": [
  {
   "cell_type": "code",
   "execution_count": 8,
   "metadata": {},
   "outputs": [
    {
     "name": "stdout",
     "output_type": "stream",
     "text": [
      "1.4285714285714286\n",
      "1\n",
      "3\n",
      "10000000\n",
      "0.3\n",
      "0.30000000000000004\n",
      "False\n",
      "20\n",
      "1010\n"
     ]
    }
   ],
   "source": [
    "# 연산자\n",
    "\n",
    "# / 일반적인 나누기 (소수점까지)\n",
    "# // 몫만 \n",
    "# % 나머지\n",
    "# ** 제곱\n",
    "# 나머지는 동일\n",
    "num1 , num2 = 10 , 7\n",
    "print(num1/ num2)\n",
    "print(num1// num2)\n",
    "print(num1% num2)\n",
    "print(num1** num2)\n",
    "print(0.3)\n",
    "print(0.1*3)\n",
    "print(0.3 == 0.1*3)\n",
    "\n",
    "# 형변환\n",
    "num3 = '10'\n",
    "print(num1 + int(num3))\n",
    "print(str(num1) + num3)"
   ]
  }
 ],
 "metadata": {
  "kernelspec": {
   "display_name": "Python 3",
   "language": "python",
   "name": "python3"
  },
  "language_info": {
   "codemirror_mode": {
    "name": "ipython",
    "version": 3
   },
   "file_extension": ".py",
   "mimetype": "text/x-python",
   "name": "python",
   "nbconvert_exporter": "python",
   "pygments_lexer": "ipython3",
   "version": "3.10.10"
  },
  "orig_nbformat": 4
 },
 "nbformat": 4,
 "nbformat_minor": 2
}
