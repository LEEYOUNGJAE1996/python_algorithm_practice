{
 "cells": [
  {
   "cell_type": "code",
   "execution_count": 8,
   "metadata": {},
   "outputs": [
    {
     "name": "stdout",
     "output_type": "stream",
     "text": [
      "1.4285714285714286\n",
      "1\n",
      "3\n",
      "10000000\n",
      "0.3\n",
      "0.30000000000000004\n",
      "False\n",
      "20\n",
      "1010\n"
     ]
    }
   ],
   "source": [
    "# 연산자\n",
    "\n",
    "# / 일반적인 나누기 (소수점까지)\n",
    "# // 몫만 \n",
    "# % 나머지\n",
    "# ** 제곱\n",
    "# 나머지는 동일\n",
    "num1 , num2 = 10 , 7\n",
    "print(num1/ num2)\n",
    "print(num1// num2)\n",
    "print(num1% num2)\n",
    "print(num1** num2)\n",
    "print(0.3)\n",
    "print(0.1*3)\n",
    "print(0.3 == 0.1*3)\n",
    "\n",
    "# 형변환\n",
    "num3 = '10'\n",
    "print(num1 + int(num3))\n",
    "print(str(num1) + num3)"
   ]
  },
  {
   "cell_type": "code",
   "execution_count": 2,
   "metadata": {},
   "outputs": [
    {
     "data": {
      "text/plain": [
       "'안녕안녕안녕안녕안녕안녕안녕안녕안녕안녕'"
      ]
     },
     "execution_count": 2,
     "metadata": {},
     "output_type": "execute_result"
    }
   ],
   "source": [
    "# 문자열 곱하기도 가능\n",
    "s1 = '안녕'\n",
    "s1 * 10"
   ]
  },
  {
   "attachments": {},
   "cell_type": "markdown",
   "metadata": {},
   "source": [
    "###### input()메서드를 활용한 데이터 입력\n",
    "    기능을 \n",
    "## input()으로 데이터를 받을 경우 문자열 형태를 가지고 있다."
   ]
  },
  {
   "cell_type": "code",
   "execution_count": 6,
   "metadata": {},
   "outputs": [
    {
     "ename": "ValueError",
     "evalue": "invalid literal for int() with base 10: ''",
     "output_type": "error",
     "traceback": [
      "\u001b[1;31m---------------------------------------------------------------------------\u001b[0m",
      "\u001b[1;31mValueError\u001b[0m                                Traceback (most recent call last)",
      "Cell \u001b[1;32mIn[6], line 2\u001b[0m\n\u001b[0;32m      1\u001b[0m \u001b[39m# 산술 연산자 결과 출력하기\u001b[39;00m\n\u001b[1;32m----> 2\u001b[0m num1 \u001b[39m=\u001b[39m \u001b[39mint\u001b[39;49m(\u001b[39minput\u001b[39;49m(\u001b[39m'\u001b[39;49m\u001b[39m정수를 입력하세요\u001b[39;49m\u001b[39m'\u001b[39;49m))\n\u001b[0;32m      3\u001b[0m num2 \u001b[39m=\u001b[39m \u001b[39mint\u001b[39m(\u001b[39minput\u001b[39m(\u001b[39m'\u001b[39m\u001b[39m정수를 입력하세요\u001b[39m\u001b[39m'\u001b[39m))\n\u001b[0;32m      6\u001b[0m \u001b[39mprint\u001b[39m(\u001b[39mf\u001b[39m\u001b[39m\"\u001b[39m\u001b[39m더하기 결과 :\u001b[39m\u001b[39m{\u001b[39;00m\u001b[39m \u001b[39mnum1\u001b[39m+\u001b[39mnum2\u001b[39m}\u001b[39;00m\u001b[39m\"\u001b[39m)\n",
      "\u001b[1;31mValueError\u001b[0m: invalid literal for int() with base 10: ''"
     ]
    }
   ],
   "source": [
    "# 산술 연산자 결과 출력하기\n",
    "num1 = int(input('정수를 입력하세요'))\n",
    "num2 = int(input('정수를 입력하세요'))\n",
    "\n",
    "\n",
    "print(f\"더하기 결과 :{ num1+num2}\")\n",
    "print(f\"뺴기 결과 : {num1-num2}\")\n",
    "print(f\"곱하기 결과 : {num1*num2}\")\n",
    "print(f\"나누기 결과 : {num1/num2}\")\n",
    "print(f\"나누기 몫 결과 : {num1//num2}\")\n",
    "print(f\"나머지 결과 : {num1%num2}\")\n",
    "print(f\"제곱 결과 : {num1**num2}\")"
   ]
  },
  {
   "cell_type": "code",
   "execution_count": 9,
   "metadata": {},
   "outputs": [
    {
     "name": "stdout",
     "output_type": "stream",
     "text": [
      "420 시간 24 분 22 초\n"
     ]
    }
   ],
   "source": [
    "time = int(input(\"시간 입력 >> \"))\n",
    "hour = time // 3600\n",
    "minute = time % 3600 // 60\n",
    "second = time % 60\n",
    "print(f\"{hour} 시간 {minute} 분 {second} 초\")"
   ]
  },
  {
   "cell_type": "code",
   "execution_count": 14,
   "metadata": {},
   "outputs": [
    {
     "name": "stdout",
     "output_type": "stream",
     "text": [
      "False\n",
      "True\n",
      "True\n",
      "True\n"
     ]
    }
   ],
   "source": [
    "print(3 > 5 and 10 ==10)\n",
    "print(3<5 and 10 == 10)\n",
    "\n",
    "\n",
    "print(3 > 5 or 10 ==10\n",
    "      )\n",
    "\n",
    "# not 연산자 논리 부정 다른 곳의 !와 동일\n",
    "print(not(3> 5 and 10 == 10 ))\n"
   ]
  },
  {
   "cell_type": "code",
   "execution_count": 18,
   "metadata": {},
   "outputs": [
    {
     "data": {
      "text/plain": [
       "3"
      ]
     },
     "execution_count": 18,
     "metadata": {},
     "output_type": "execute_result"
    }
   ],
   "source": [
    "# 삼항 연산자!\n",
    "# a if 조건식 else b\n",
    "# 조건식이 참인 경우  앞에 문장 또는 변수 다른 기능을 수행한다. false인 경우 오른쪽에 있는 것을 수행\n",
    "a= 3 \n",
    "b= 2\n",
    "a if a>b else b"
   ]
  },
  {
   "cell_type": "code",
   "execution_count": 19,
   "metadata": {},
   "outputs": [
    {
     "name": "stdout",
     "output_type": "stream",
     "text": [
      "22는(은) 짝수입니다.\n"
     ]
    }
   ],
   "source": [
    "num = int(input(\"정수를 입력하세요 >> \"))\n",
    "result = \"홀수\" if num %2 ==1 else \"짝수\"\n",
    "\n",
    "print(f\"{num}는(은) {result}입니다.\")"
   ]
  }
 ],
 "metadata": {
  "kernelspec": {
   "display_name": "Python 3",
   "language": "python",
   "name": "python3"
  },
  "language_info": {
   "codemirror_mode": {
    "name": "ipython",
    "version": 3
   },
   "file_extension": ".py",
   "mimetype": "text/x-python",
   "name": "python",
   "nbconvert_exporter": "python",
   "pygments_lexer": "ipython3",
   "version": "3.10.10"
  },
  "orig_nbformat": 4
 },
 "nbformat": 4,
 "nbformat_minor": 2
}
