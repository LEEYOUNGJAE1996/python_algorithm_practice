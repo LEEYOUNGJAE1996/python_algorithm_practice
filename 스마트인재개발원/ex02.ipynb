{
 "cells": [
  {
   "cell_type": "code",
   "execution_count": 8,
   "metadata": {},
   "outputs": [
    {
     "name": "stdout",
     "output_type": "stream",
     "text": [
      "1.4285714285714286\n",
      "1\n",
      "3\n",
      "10000000\n",
      "0.3\n",
      "0.30000000000000004\n",
      "False\n",
      "20\n",
      "1010\n"
     ]
    }
   ],
   "source": [
    "# 연산자\n",
    "\n",
    "# / 일반적인 나누기 (소수점까지)\n",
    "# // 몫만 \n",
    "# % 나머지\n",
    "# ** 제곱\n",
    "# 나머지는 동일\n",
    "num1 , num2 = 10 , 7\n",
    "print(num1/ num2)\n",
    "print(num1// num2)\n",
    "print(num1% num2)\n",
    "print(num1** num2)\n",
    "print(0.3)\n",
    "print(0.1*3)\n",
    "print(0.3 == 0.1*3)\n",
    "\n",
    "# 형변환\n",
    "num3 = '10'\n",
    "print(num1 + int(num3))\n",
    "print(str(num1) + num3)"
   ]
  },
  {
   "cell_type": "code",
   "execution_count": 2,
   "metadata": {},
   "outputs": [
    {
     "data": {
      "text/plain": [
       "'안녕안녕안녕안녕안녕안녕안녕안녕안녕안녕'"
      ]
     },
     "execution_count": 2,
     "metadata": {},
     "output_type": "execute_result"
    }
   ],
   "source": [
    "# 문자열 곱하기도 가능\n",
    "s1 = '안녕'\n",
    "s1 * 10"
   ]
  },
  {
   "attachments": {},
   "cell_type": "markdown",
   "metadata": {},
   "source": [
    "###### input()메서드를 활용한 데이터 입력\n",
    "    기능을 \n",
    "## input()으로 데이터를 받을 경우 문자열 형태를 가지고 있다."
   ]
  },
  {
   "cell_type": "code",
   "execution_count": 5,
   "metadata": {},
   "outputs": [
    {
     "ename": "ValueError",
     "evalue": "invalid literal for int() with base 10: ''",
     "output_type": "error",
     "traceback": [
      "\u001b[1;31m---------------------------------------------------------------------------\u001b[0m",
      "\u001b[1;31mValueError\u001b[0m                                Traceback (most recent call last)",
      "Cell \u001b[1;32mIn[5], line 2\u001b[0m\n\u001b[0;32m      1\u001b[0m \u001b[39m# 산술 연산자 결과 출력하기\u001b[39;00m\n\u001b[1;32m----> 2\u001b[0m num1 \u001b[39m=\u001b[39m \u001b[39mint\u001b[39;49m(\u001b[39minput\u001b[39;49m(\u001b[39m'\u001b[39;49m\u001b[39m정수를 입력하세요\u001b[39;49m\u001b[39m'\u001b[39;49m))\n\u001b[0;32m      3\u001b[0m num2 \u001b[39m=\u001b[39m \u001b[39mint\u001b[39m(\u001b[39minput\u001b[39m(\u001b[39m'\u001b[39m\u001b[39m정수를 입력하세요\u001b[39m\u001b[39m'\u001b[39m))\n\u001b[0;32m      6\u001b[0m \u001b[39mprint\u001b[39m(\u001b[39mf\u001b[39m\u001b[39m\"\u001b[39m\u001b[39m더하기 결과 :\u001b[39m\u001b[39m{\u001b[39;00m\u001b[39m \u001b[39mnum1\u001b[39m+\u001b[39mnum2\u001b[39m}\u001b[39;00m\u001b[39m\"\u001b[39m)\n",
      "\u001b[1;31mValueError\u001b[0m: invalid literal for int() with base 10: ''"
     ]
    }
   ],
   "source": [
    "# 산술 연산자 결과 출력하기\n",
    "num1 = int(input('정수를 입력하세요'))\n",
    "num2 = int(input('정수를 입력하세요'))\n",
    "\n",
    "\n",
    "print(f\"더하기 결과 :{ num1+num2}\")\n",
    "print(f\"뺴기 결과 : {num1-num2}\")\n",
    "print(f\"곱하기 결과 : {num1*num2}\")\n",
    "print(f\"나누기 결과 : {num1/num2}\")\n",
    "print(f\"나누기 몫 결과 : {num1//num2}\")\n",
    "print(f\"나머지 결과 : {num1%num2}\")\n",
    "print(f\"제곱 결과 : {num1**num2}\")"
   ]
  }
 ],
 "metadata": {
  "kernelspec": {
   "display_name": "Python 3",
   "language": "python",
   "name": "python3"
  },
  "language_info": {
   "codemirror_mode": {
    "name": "ipython",
    "version": 3
   },
   "file_extension": ".py",
   "mimetype": "text/x-python",
   "name": "python",
   "nbconvert_exporter": "python",
   "pygments_lexer": "ipython3",
   "version": "3.10.10"
  },
  "orig_nbformat": 4
 },
 "nbformat": 4,
 "nbformat_minor": 2
}
