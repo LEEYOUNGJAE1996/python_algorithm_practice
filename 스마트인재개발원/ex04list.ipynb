{
 "cells": [
  {
   "cell_type": "code",
   "execution_count": 1,
   "metadata": {},
   "outputs": [],
   "source": [
    "### 리스트\n",
    "# 많은 양의 데이터를 관리할 때 사용/ 여러개의 데이터를 하나로 묶어서 관리\n",
    "# 자료형을 구분하지 않고 하나로 묶는 것이 가능하다.\n",
    "# 인덱스 번호를 가진다.\n",
    "# 대괄호 [] 를 사용하여 생성가능하다.\n",
    "# 추가, 수정, 삭제가 가능하다. (튜플과 차이점)\n"
   ]
  },
  {
   "cell_type": "code",
   "execution_count": 3,
   "metadata": {},
   "outputs": [],
   "source": [
    "#  list 인덱싱, 슬라이싱\n",
    "food_list = ['국밥', '고기', '라면', '우동', ['김','치','찌','개']]"
   ]
  },
  {
   "cell_type": "code",
   "execution_count": 5,
   "metadata": {},
   "outputs": [
    {
     "name": "stdout",
     "output_type": "stream",
     "text": [
      "고기\n"
     ]
    }
   ],
   "source": [
    "# 고기 데이터 출력\n",
    "print(food_list[1])"
   ]
  },
  {
   "cell_type": "code",
   "execution_count": 7,
   "metadata": {},
   "outputs": [
    {
     "name": "stdout",
     "output_type": "stream",
     "text": [
      "치\n"
     ]
    }
   ],
   "source": [
    "print(food_list[4][1])"
   ]
  },
  {
   "cell_type": "code",
   "execution_count": 8,
   "metadata": {},
   "outputs": [],
   "source": [
    "num_list = [0,1,2,3,4,5,6,7,8,9,10]"
   ]
  },
  {
   "cell_type": "code",
   "execution_count": 10,
   "metadata": {},
   "outputs": [
    {
     "name": "stdout",
     "output_type": "stream",
     "text": [
      "[4, 5, 6]\n",
      "[0, 1, 2, 3, 4, 5]\n",
      "[6, 7, 8, 9, 10]\n"
     ]
    }
   ],
   "source": [
    "print(num_list[4:7])\n",
    "print(num_list[:6])\n",
    "print(num_list[6:])"
   ]
  },
  {
   "cell_type": "code",
   "execution_count": 11,
   "metadata": {},
   "outputs": [],
   "source": [
    "# list에 값을 넣기\n",
    "list5 = [0,1,2,3,4,5]\n"
   ]
  },
  {
   "cell_type": "code",
   "execution_count": 12,
   "metadata": {},
   "outputs": [],
   "source": [
    "# 제일 뒤에 값 넣기\n",
    "list5.append(6)\n",
    "# 특정 위치에 값 넣기\n",
    "list5.insert(2,'넣을 값입니다.')"
   ]
  },
  {
   "cell_type": "code",
   "execution_count": 14,
   "metadata": {},
   "outputs": [
    {
     "name": "stdout",
     "output_type": "stream",
     "text": [
      "[0, 1, '넣을 값입니다.', 2, 3, 4, 5, 6]\n"
     ]
    }
   ],
   "source": [
    "print(list5)"
   ]
  },
  {
   "cell_type": "code",
   "execution_count": 15,
   "metadata": {},
   "outputs": [],
   "source": [
    "f_list = ['사과','포도',['수박','황도'],'복숭아','딸기','오렌지']\n"
   ]
  },
  {
   "cell_type": "code",
   "execution_count": 19,
   "metadata": {},
   "outputs": [
    {
     "name": "stdout",
     "output_type": "stream",
     "text": [
      "['사과', '수박', '오렌지']\n"
     ]
    }
   ],
   "source": [
    "choice_list = []\n",
    "choice_list.append(f_list[0])\n",
    "choice_list.append(f_list[2][0])\n",
    "choice_list.append(f_list[-1])\n",
    "\n",
    "print(choice_list)"
   ]
  },
  {
   "cell_type": "code",
   "execution_count": 22,
   "metadata": {},
   "outputs": [
    {
     "ename": "ValueError",
     "evalue": "invalid literal for int() with base 10: ''",
     "output_type": "error",
     "traceback": [
      "\u001b[1;31m---------------------------------------------------------------------------\u001b[0m",
      "\u001b[1;31mValueError\u001b[0m                                Traceback (most recent call last)",
      "Cell \u001b[1;32mIn[22], line 2\u001b[0m\n\u001b[0;32m      1\u001b[0m music_list \u001b[39m=\u001b[39m [[\u001b[39m'\u001b[39m\u001b[39mhype boy\u001b[39m\u001b[39m'\u001b[39m,\u001b[39m'\u001b[39m\u001b[39mnewjeans\u001b[39m\u001b[39m'\u001b[39m],[\u001b[39m'\u001b[39m\u001b[39mlovedive\u001b[39m\u001b[39m'\u001b[39m,\u001b[39m'\u001b[39m\u001b[39m아이브\u001b[39m\u001b[39m'\u001b[39m],[\u001b[39m'\u001b[39m\u001b[39m살별\u001b[39m\u001b[39m'\u001b[39m,\u001b[39m'\u001b[39m\u001b[39m윤하\u001b[39m\u001b[39m'\u001b[39m]]\n\u001b[1;32m----> 2\u001b[0m loc \u001b[39m=\u001b[39m \u001b[39mint\u001b[39;49m(\u001b[39minput\u001b[39;49m(\u001b[39m'\u001b[39;49m\u001b[39m값을 넣을 위치\u001b[39;49m\u001b[39m'\u001b[39;49m))\n\u001b[0;32m      3\u001b[0m song\u001b[39m=\u001b[39m \u001b[39minput\u001b[39m(\u001b[39m'\u001b[39m\u001b[39m노래 제목을 입력 >> \u001b[39m\u001b[39m'\u001b[39m)\n\u001b[0;32m      4\u001b[0m singer \u001b[39m=\u001b[39m \u001b[39minput\u001b[39m(\u001b[39m'\u001b[39m\u001b[39m가수를 입력\u001b[39m\u001b[39m'\u001b[39m)\n",
      "\u001b[1;31mValueError\u001b[0m: invalid literal for int() with base 10: ''"
     ]
    }
   ],
   "source": [
    "music_list = [['hype boy','newjeans'],['lovedive','아이브'],['살별','윤하']]\n",
    "loc = int(input('값을 넣을 위치'))\n",
    "song= input('노래 제목을 입력 >> ')\n",
    "singer = input('가수를 입력')\n",
    "list_song = [song,singer]\n",
    "\n",
    "music_list.insert(loc,list_song)\n",
    "print(music_list)"
   ]
  },
  {
   "cell_type": "code",
   "execution_count": 26,
   "metadata": {},
   "outputs": [
    {
     "name": "stdout",
     "output_type": "stream",
     "text": [
      "[0, 1, '수정된 값입니다.', 2, 3, 4, 5, 6]\n"
     ]
    }
   ],
   "source": [
    "# 리스트에 있는 값 수정하기\n",
    "# 리스트면[수정하고 싶은 인덱스 번호] = 수정할 값 \n",
    "list5[2] = '수정된 값입니다.'\n",
    "print(list5)"
   ]
  },
  {
   "cell_type": "code",
   "execution_count": 28,
   "metadata": {},
   "outputs": [],
   "source": [
    "# list 값 삭제 (del, remove)\n",
    "# del 리스트명[인덱스번호]\n",
    "# list.remove(삭제하고자 하는 값을 입력)\n",
    "# 전체를 삭제하고 싶은 경우 빈리스트 생성"
   ]
  },
  {
   "cell_type": "code",
   "execution_count": 35,
   "metadata": {},
   "outputs": [
    {
     "name": "stdout",
     "output_type": "stream",
     "text": [
      "[2, 647, 95, 7567, 536, 4692, 68, 356, 49, 56, 4767, 9, 356, 68, 535, 13, 6, 43, 23, 6, 54, 13, 35, 34, 62, 3, 234, 6, 634, 43, 15, 1124]\n",
      "[2, 3, 6, 6, 6, 9, 13, 13, 15, 23, 34, 35, 43, 43, 49, 54, 56, 62, 68, 68, 95, 234, 356, 356, 535, 536, 634, 647, 1124, 4692, 4767, 7567]\n",
      "[7567, 4767, 4692, 1124, 647, 634, 536, 535, 356, 356, 234, 95, 68, 68, 62, 56, 54, 49, 43, 43, 35, 34, 23, 15, 13, 13, 9, 6, 6, 6, 3, 2]\n"
     ]
    }
   ],
   "source": [
    "# 정렬\n",
    "list7 = [1124,15,43,634,6,234,3,62,34,35,13,54,6,23,43,6,13,535,68,356,9,4767,56,49,356,68,4692,536,7567,95,647,2]\n",
    "# reverse -> 현재 값들의 위치를 뒤집어서 보여준다\n",
    "list7.reverse()\n",
    "print(list7)\n",
    "# 정렬하는 방법\n",
    "# list명.sort()\n",
    "list7.sort()\n",
    "print(list7)\n",
    "# reverse -> 현재 값들의 위치를 뒤집어서 보여준다\n",
    "list7.reverse()\n",
    "print(list7)"
   ]
  },
  {
   "cell_type": "code",
   "execution_count": null,
   "metadata": {},
   "outputs": [],
   "source": [
    "# 기타 함수들\n",
    "# index(값) -> 찾고자 하는 값의 위치를 알려주는 함수"
   ]
  }
 ],
 "metadata": {
  "kernelspec": {
   "display_name": "Python 3",
   "language": "python",
   "name": "python3"
  },
  "language_info": {
   "codemirror_mode": {
    "name": "ipython",
    "version": 3
   },
   "file_extension": ".py",
   "mimetype": "text/x-python",
   "name": "python",
   "nbconvert_exporter": "python",
   "pygments_lexer": "ipython3",
   "version": "3.10.10"
  },
  "orig_nbformat": 4
 },
 "nbformat": 4,
 "nbformat_minor": 2
}
