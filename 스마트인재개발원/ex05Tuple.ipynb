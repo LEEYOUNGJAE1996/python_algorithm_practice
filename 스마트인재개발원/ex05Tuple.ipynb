{
 "cells": [
  {
   "attachments": {},
   "cell_type": "markdown",
   "metadata": {},
   "source": [
    "### 튜플(tuple)\n",
    "\n",
    "() 로 생성하며 리스트와 비슷한 형태\n",
    "차이점이 존재 --- 초기에 생성시 이후 값의 추가 수정 삭제가 불가능\n",
    "\n",
    "인덱싱, 슬라이싱"
   ]
  },
  {
   "cell_type": "code",
   "execution_count": 2,
   "metadata": {},
   "outputs": [
    {
     "data": {
      "text/plain": [
       "(1, 2, 3, ('보원', '음'), 4, 5, 6)"
      ]
     },
     "execution_count": 2,
     "metadata": {},
     "output_type": "execute_result"
    }
   ],
   "source": [
    "tuple1 = (1,2,3,('보원','음'),4,5,6)\n",
    "tuple1"
   ]
  },
  {
   "cell_type": "code",
   "execution_count": null,
   "metadata": {},
   "outputs": [],
   "source": [
    "# 추가 수정 삭제 불가능"
   ]
  },
  {
   "cell_type": "code",
   "execution_count": 5,
   "metadata": {},
   "outputs": [],
   "source": [
    "### in, not in \n",
    "# in : 찾고자 하는 값이 포함이 되어있는 경우 True 출력\n",
    "# not in : 찾고자 하는 값이 해당 배열에 없는 경우 True 출력\n",
    "# 문자열도 문자 하나하나를 저장한 배열인 상태\n",
    "s1 = '집가서 공부하고 싶어요'"
   ]
  },
  {
   "cell_type": "code",
   "execution_count": 7,
   "metadata": {},
   "outputs": [
    {
     "data": {
      "text/plain": [
       "True"
      ]
     },
     "execution_count": 7,
     "metadata": {},
     "output_type": "execute_result"
    }
   ],
   "source": [
    "'공부' in s1"
   ]
  },
  {
   "cell_type": "code",
   "execution_count": 8,
   "metadata": {},
   "outputs": [],
   "source": [
    "lst = ['딸기', '바나나','수박','체리','포도']"
   ]
  },
  {
   "cell_type": "code",
   "execution_count": 12,
   "metadata": {},
   "outputs": [
    {
     "name": "stdout",
     "output_type": "stream",
     "text": [
      "******************************\n",
      "은/는 리스트에 들어있지 않습니다.\n",
      "******************************\n"
     ]
    }
   ],
   "source": [
    "print('*'*30)\n",
    "finding = input()\n",
    "find_index = 0\n",
    "if finding in lst:\n",
    "    find_index = lst.index(finding)\n",
    "    find_index = str(find_index) + \"번째 인덱스에 들어있습니다.\"\n",
    "else:\n",
    "    find_index = \"들어있지 않습니다.\"\n",
    "\n",
    "print(f'{finding}은/는 리스트에 {find_index}')\n",
    "\n",
    "print('*'*30)"
   ]
  },
  {
   "cell_type": "code",
   "execution_count": 17,
   "metadata": {},
   "outputs": [
    {
     "name": "stdout",
     "output_type": "stream",
     "text": [
      "****************************************************************************************************\n",
      "\"i\"은/는 문자열에 2번 들어있습니다.\n",
      "****************************************************************************************************\n"
     ]
    }
   ],
   "source": [
    "name = \"Hi, My naem is YoungJae\"\n",
    "print('*' * 100)\n",
    "finding = input('검색할 문자를 입력하세요 >> ')\n",
    "if finding in name:\n",
    "    print(f\"\\\"{finding}\\\"은/는 문자열에 {name.count(finding)}번 들어있습니다.\")\n",
    "else:\n",
    "    print(f\"\\\"{finding}\\\"은/는 문자열에 들어있지 않습니다.\")\n",
    "\n",
    "\n",
    "print('*' * 100)"
   ]
  }
 ],
 "metadata": {
  "kernelspec": {
   "display_name": "Python 3",
   "language": "python",
   "name": "python3"
  },
  "language_info": {
   "codemirror_mode": {
    "name": "ipython",
    "version": 3
   },
   "file_extension": ".py",
   "mimetype": "text/x-python",
   "name": "python",
   "nbconvert_exporter": "python",
   "pygments_lexer": "ipython3",
   "version": "3.10.10"
  },
  "orig_nbformat": 4
 },
 "nbformat": 4,
 "nbformat_minor": 2
}
