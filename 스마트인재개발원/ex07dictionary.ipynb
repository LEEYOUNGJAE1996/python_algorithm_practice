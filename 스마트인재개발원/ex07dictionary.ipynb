{
 "cells": [
  {
   "attachments": {},
   "cell_type": "markdown",
   "metadata": {},
   "source": [
    "### dictionary\n",
    "- 단어 그대로 해석하면 사저\n",
    "- 딕션ㄹ너리는 ㅂ녀할 수 없는 키와 변한 수이쓴ㄴ value 한쌍으로 가지고 있는 자료형\n",
    "- key 불변  , value 가변적\n",
    "- 각각의 개성을 표현하고 시픙ㄹ 떄 딕셔너리\n",
    "- 기호는 중괄호 {} 구분 ,\n",
    "- key 와 value 한쌍으로 표현시 :"
   ]
  },
  {
   "cell_type": "code",
   "execution_count": 36,
   "metadata": {},
   "outputs": [],
   "source": [
    "# 튜플 키 , 리스트 밸류\n",
    "dic4 = {(1,2):[1,2,3]}"
   ]
  },
  {
   "cell_type": "code",
   "execution_count": 37,
   "metadata": {},
   "outputs": [
    {
     "data": {
      "text/plain": [
       "{'영': 28, '원': 24}"
      ]
     },
     "execution_count": 37,
     "metadata": {},
     "output_type": "execute_result"
    }
   ],
   "source": [
    "dic1 = {}\n",
    "dic1.update({'영':28})\n",
    "dic1\n",
    "dic1.update({'원':24})\n",
    "dic1\n",
    "\n"
   ]
  },
  {
   "cell_type": "code",
   "execution_count": 38,
   "metadata": {},
   "outputs": [
    {
     "data": {
      "text/plain": [
       "{'name': 'young', 'age': 28, 'Tel': '010-01010101'}"
      ]
     },
     "execution_count": 38,
     "metadata": {},
     "output_type": "execute_result"
    }
   ],
   "source": [
    "mydic = {'name':'young', 'age':28 , 'Tel':'010-01010101' }\n",
    "mydic"
   ]
  },
  {
   "cell_type": "code",
   "execution_count": 39,
   "metadata": {},
   "outputs": [
    {
     "data": {
      "text/plain": [
       "{'name': 'young', 'age': 28, 'Tel': '010-01010101', 'birth': '0/0'}"
      ]
     },
     "execution_count": 39,
     "metadata": {},
     "output_type": "execute_result"
    }
   ],
   "source": [
    "# dictionary 값 추가\n",
    "mydic['birth'] = '0/0'\n",
    "mydic"
   ]
  },
  {
   "cell_type": "code",
   "execution_count": 40,
   "metadata": {},
   "outputs": [
    {
     "name": "stdout",
     "output_type": "stream",
     "text": [
      "young\n",
      "young\n",
      "None\n"
     ]
    }
   ],
   "source": [
    "# dictionary value 가져오기\n",
    "# 인덱싱처럼\n",
    "print(mydic['name'])\n",
    "# print(mydic.['성별') --> 없을 경우 에러 \n",
    "\n",
    "# dictionary.get('key')\n",
    "print(mydic.get('name'))\n",
    "print(mydic.get('성별'))"
   ]
  },
  {
   "cell_type": "code",
   "execution_count": 41,
   "metadata": {},
   "outputs": [
    {
     "name": "stdout",
     "output_type": "stream",
     "text": [
      "dict_keys(['name', 'age', 'Tel', 'birth'])\n"
     ]
    }
   ],
   "source": [
    "# dictionary의 key 값 가져오기\n",
    "# dictionary.keys()\n",
    "print(mydic.keys())\n",
    "# 인덱싱 불가능 인덱싱해서 키값 자체를 사용하고 싶다면 리스트로 형변환 후 사용\n"
   ]
  },
  {
   "cell_type": "code",
   "execution_count": 42,
   "metadata": {},
   "outputs": [
    {
     "data": {
      "text/plain": [
       "dict_values(['young', 28, '010-01010101', '0/0'])"
      ]
     },
     "execution_count": 42,
     "metadata": {},
     "output_type": "execute_result"
    }
   ],
   "source": [
    "#dictionary value 값만 전부\n",
    "mydic.values()"
   ]
  },
  {
   "cell_type": "code",
   "execution_count": 43,
   "metadata": {},
   "outputs": [
    {
     "name": "stdout",
     "output_type": "stream",
     "text": [
      "name\n",
      "young\n",
      "age\n",
      "28\n",
      "Tel\n",
      "010-01010101\n",
      "birth\n",
      "0/0\n"
     ]
    }
   ],
   "source": [
    "# dictionary의 for문 활용\n",
    "for key , value in mydic.items():\n",
    "    print(key)\n",
    "    print(value)"
   ]
  },
  {
   "cell_type": "code",
   "execution_count": 44,
   "metadata": {},
   "outputs": [
    {
     "data": {
      "text/plain": [
       "True"
      ]
     },
     "execution_count": 44,
     "metadata": {},
     "output_type": "execute_result"
    }
   ],
   "source": [
    "# dictionary 안에 in 키워드 사용\n",
    "# key 값은 정상적으로 찾는 것을 확인\n",
    "'name' in mydic\n",
    "# value는 찾을 수 없는 것으로 나타남\n",
    "'young' in mydic\n",
    "# 해결 방안\n",
    "'young' in mydic.values()"
   ]
  },
  {
   "cell_type": "code",
   "execution_count": 46,
   "metadata": {},
   "outputs": [
    {
     "ename": "KeyError",
     "evalue": "'birth'",
     "output_type": "error",
     "traceback": [
      "\u001b[1;31m---------------------------------------------------------------------------\u001b[0m",
      "\u001b[1;31mKeyError\u001b[0m                                  Traceback (most recent call last)",
      "Cell \u001b[1;32mIn[46], line 2\u001b[0m\n\u001b[0;32m      1\u001b[0m \u001b[39m# dictionary 값 삭제\u001b[39;00m\n\u001b[1;32m----> 2\u001b[0m \u001b[39mdel\u001b[39;00m mydic[\u001b[39m'\u001b[39m\u001b[39mbirth\u001b[39m\u001b[39m'\u001b[39m]\n\u001b[0;32m      3\u001b[0m \u001b[39mprint\u001b[39m(mydic)\n",
      "\u001b[1;31mKeyError\u001b[0m: 'birth'"
     ]
    }
   ],
   "source": [
    "# dictionary 값 삭제\n",
    "del mydic['birth']\n",
    "print(mydic)"
   ]
  },
  {
   "cell_type": "code",
   "execution_count": 47,
   "metadata": {},
   "outputs": [
    {
     "name": "stdout",
     "output_type": "stream",
     "text": [
      "{}\n"
     ]
    }
   ],
   "source": [
    "# dictionary 모든 값 삭제\n",
    "mydic.clear()\n",
    "print(mydic)"
   ]
  },
  {
   "cell_type": "code",
   "execution_count": 51,
   "metadata": {},
   "outputs": [
    {
     "name": "stdout",
     "output_type": "stream",
     "text": [
      "{'수학': 221, '영어': 170, '국어': 203}\n"
     ]
    }
   ],
   "source": [
    "score_dic = {'홍길동':{'수학':99,'영어':80,'국어':75},\n",
    "             '김미정':{'영어':67,'국어':87,'수학':55},\n",
    "             '정수진':{'수학':67,'국어':41,'영어':23}}\n",
    "new = {}\n",
    "for name, subject in score_dic.items():\n",
    "    for subject, score in subject.items():\n",
    "        if new.get(subject) == None :\n",
    "            new[subject] = score\n",
    "        else:\n",
    "            new[subject] += score\n",
    "print(new)"
   ]
  }
 ],
 "metadata": {
  "kernelspec": {
   "display_name": "Python 3",
   "language": "python",
   "name": "python3"
  },
  "language_info": {
   "codemirror_mode": {
    "name": "ipython",
    "version": 3
   },
   "file_extension": ".py",
   "mimetype": "text/x-python",
   "name": "python",
   "nbconvert_exporter": "python",
   "pygments_lexer": "ipython3",
   "version": "3.10.10"
  },
  "orig_nbformat": 4
 },
 "nbformat": 4,
 "nbformat_minor": 2
}
