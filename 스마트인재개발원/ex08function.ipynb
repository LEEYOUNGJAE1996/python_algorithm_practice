{
 "cells": [
  {
   "attachments": {},
   "cell_type": "markdown",
   "metadata": {},
   "source": [
    "### Function\n",
    "- 하나의 특별한 목적의 작업을 수행하기 위해 독립적으로 설계된 코드의 집합\n",
    "\n",
    "- 함수를 사용하는 이유\n",
    "    - 반복적인 프로그래밍을 피할 수 있다\n",
    "    - 모듈화를 통해 전체적인 코드의 가독성이 좋아진다.\n",
    "    -프로그램에 문제가 발생하거나 기능의 변경이 필요할 때 손쉽게 유지보수가 가능하다.\n",
    "    "
   ]
  },
  {
   "cell_type": "code",
   "execution_count": 4,
   "metadata": {},
   "outputs": [
    {
     "name": "stdout",
     "output_type": "stream",
     "text": [
      "45\n"
     ]
    }
   ],
   "source": [
    "# attribute sum function\n",
    "def number_sum(*args):\n",
    "    \n",
    "    return sum(args)\n",
    "print(number_sum(1,2,3,4,5,6,7,8,9))        "
   ]
  },
  {
   "cell_type": "code",
   "execution_count": 15,
   "metadata": {},
   "outputs": [],
   "source": [
    "def replace_string(string, remove):\n",
    "    string.replace(remove,'')"
   ]
  },
  {
   "cell_type": "code",
   "execution_count": 17,
   "metadata": {},
   "outputs": [
    {
     "ename": "ValueError",
     "evalue": "'ㅋ' is not in list",
     "output_type": "error",
     "traceback": [
      "\u001b[1;31m---------------------------------------------------------------------------\u001b[0m",
      "\u001b[1;31mValueError\u001b[0m                                Traceback (most recent call last)",
      "Cell \u001b[1;32mIn[17], line 4\u001b[0m\n\u001b[0;32m      2\u001b[0m s \u001b[39m=\u001b[39m \u001b[39minput\u001b[39m(\u001b[39m'\u001b[39m\u001b[39m문자열 입력 >> \u001b[39m\u001b[39m'\u001b[39m)\n\u001b[0;32m      3\u001b[0m remo \u001b[39m=\u001b[39m \u001b[39minput\u001b[39m(\u001b[39m'\u001b[39m\u001b[39m지울 값을 입력 >> \u001b[39m\u001b[39m'\u001b[39m)\n\u001b[1;32m----> 4\u001b[0m \u001b[39mprint\u001b[39m(replace_string(s,remo))\n",
      "Cell \u001b[1;32mIn[15], line 7\u001b[0m, in \u001b[0;36mreplace_string\u001b[1;34m(string, remove)\u001b[0m\n\u001b[0;32m      5\u001b[0m \u001b[39mwhile\u001b[39;00m check:\n\u001b[0;32m      6\u001b[0m     \u001b[39mfor\u001b[39;00m letter \u001b[39min\u001b[39;00m remove:\n\u001b[1;32m----> 7\u001b[0m         \u001b[39mprint\u001b[39m(string\u001b[39m.\u001b[39;49mindex(letter))\n\u001b[0;32m      8\u001b[0m         check\u001b[39m=\u001b[39m \u001b[39mFalse\u001b[39;00m\n",
      "\u001b[1;31mValueError\u001b[0m: 'ㅋ' is not in list"
     ]
    }
   ],
   "source": [
    "# 문자열에 특정값 대체\n",
    "s = input('문자열 입력 >> ')\n",
    "remo = input('지울 값을 입력 >> ')\n",
    "print(replace_string(s,remo))"
   ]
  },
  {
   "cell_type": "code",
   "execution_count": 13,
   "metadata": {},
   "outputs": [
    {
     "name": "stdout",
     "output_type": "stream",
     "text": [
      "(3, -1)\n",
      "<class 'tuple'>\n"
     ]
    }
   ],
   "source": [
    "# 여러 값을 반환하는 경우 튜플 형태로 반환\n",
    "def add_sub(num1,num2):\n",
    "    return num1+num2 , num1 - num2\n",
    "\n",
    "\n",
    "print (add_sub(1,2))\n",
    "print (type(add_sub(1,2)))"
   ]
  }
 ],
 "metadata": {
  "kernelspec": {
   "display_name": "Python 3",
   "language": "python",
   "name": "python3"
  },
  "language_info": {
   "codemirror_mode": {
    "name": "ipython",
    "version": 3
   },
   "file_extension": ".py",
   "mimetype": "text/x-python",
   "name": "python",
   "nbconvert_exporter": "python",
   "pygments_lexer": "ipython3",
   "version": "3.10.10"
  },
  "orig_nbformat": 4
 },
 "nbformat": 4,
 "nbformat_minor": 2
}
