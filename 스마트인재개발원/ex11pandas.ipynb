{
 "cells": [
  {
   "attachments": {},
   "cell_type": "markdown",
   "metadata": {},
   "source": [
    "# Pandas(Panel datas)\n",
    "표 형태의 데이터\n",
    "    <br>\n",
    "    <br>\n",
    "    <br>\n",
    "- series data\n",
    "\n",
    "\n",
    "- DataFrame class 2차원 : 행과 열을 가지는 표와 같은 형태\n"
   ]
  },
  {
   "cell_type": "code",
   "execution_count": 2,
   "metadata": {},
   "outputs": [
    {
     "data": {
      "text/plain": [
       "0    9668465\n",
       "1    3391946\n",
       "2    2942828\n",
       "3    1450062\n",
       "dtype: int64"
      ]
     },
     "execution_count": 2,
     "metadata": {},
     "output_type": "execute_result"
    }
   ],
   "source": [
    "# series 데이터 생성\n",
    "import pandas as pd\n",
    "population = pd.Series([9668465,3391946,2942828,1450062])\n",
    "population"
   ]
  },
  {
   "cell_type": "code",
   "execution_count": 3,
   "metadata": {},
   "outputs": [
    {
     "data": {
      "text/plain": [
       "서울    9668465\n",
       "부산    3391946\n",
       "인천    2942828\n",
       "광주    1450062\n",
       "dtype: int64"
      ]
     },
     "execution_count": 3,
     "metadata": {},
     "output_type": "execute_result"
    }
   ],
   "source": [
    "# 인덱스에 이름을 지정하면서 생성\n",
    "population = pd.Series([9668465,3391946,2942828,1450062],index = ['서울','부산','인천','광주'])\n",
    "population"
   ]
  },
  {
   "cell_type": "code",
   "execution_count": 4,
   "metadata": {},
   "outputs": [
    {
     "data": {
      "text/plain": [
       "array([9668465, 3391946, 2942828, 1450062], dtype=int64)"
      ]
     },
     "execution_count": 4,
     "metadata": {},
     "output_type": "execute_result"
    }
   ],
   "source": [
    "# Series 데이터 확인하기\n",
    "# Series에 값만 확인하기\n",
    "population.values"
   ]
  },
  {
   "cell_type": "code",
   "execution_count": 5,
   "metadata": {},
   "outputs": [
    {
     "data": {
      "text/plain": [
       "Index(['서울', '부산', '인천', '광주'], dtype='object')"
      ]
     },
     "execution_count": 5,
     "metadata": {},
     "output_type": "execute_result"
    }
   ],
   "source": [
    "# Seires에 인덱스값 확인하기\n",
    "population.index"
   ]
  },
  {
   "cell_type": "code",
   "execution_count": 6,
   "metadata": {},
   "outputs": [
    {
     "data": {
      "text/plain": [
       "dtype('int64')"
      ]
     },
     "execution_count": 6,
     "metadata": {},
     "output_type": "execute_result"
    }
   ],
   "source": [
    "# Series 데이터 타입 확인하기\n",
    "# Series의 데이터 타입은 실제 value 값을 기준으로 출력\n",
    "population.dtype\n",
    "# print(type(population.values))"
   ]
  },
  {
   "cell_type": "code",
   "execution_count": 7,
   "metadata": {},
   "outputs": [
    {
     "data": {
      "text/plain": [
       "서울    9668465\n",
       "부산    3391946\n",
       "인천    2942828\n",
       "광주    1450062\n",
       "Name: 인구, dtype: int64"
      ]
     },
     "execution_count": 7,
     "metadata": {},
     "output_type": "execute_result"
    }
   ],
   "source": [
    "# Serues  데이터 이름 지정하기\n",
    "population.name = '인구'\n",
    "population"
   ]
  },
  {
   "cell_type": "code",
   "execution_count": 8,
   "metadata": {},
   "outputs": [],
   "source": [
    "# Series 데이터 인덱스 이름 지정하기\n",
    "population.index.name = '도시'\n",
    "\n",
    "# values 값 확인\n",
    "# index 인덱스 확인\n",
    "# dtype 데이터 타입 확인 - values 기준\n",
    "# name : Series의 이름 지정\n",
    "# index.name : 인덱스의 이름 지정"
   ]
  },
  {
   "cell_type": "code",
   "execution_count": 9,
   "metadata": {},
   "outputs": [
    {
     "data": {
      "text/plain": [
       "도시\n",
       "서울    9.668465\n",
       "부산    3.391946\n",
       "인천    2.942828\n",
       "광주    1.450062\n",
       "Name: 인구, dtype: float64"
      ]
     },
     "execution_count": 9,
     "metadata": {},
     "output_type": "execute_result"
    }
   ],
   "source": [
    "# Series 데이터 연산\n",
    "# 100만 나눠주기\n",
    "# 넘파이 파입의 배열 형태를 가지고 있기에 요소별 연산이 가능\n",
    "population/1000000"
   ]
  },
  {
   "cell_type": "code",
   "execution_count": 10,
   "metadata": {},
   "outputs": [
    {
     "data": {
      "text/plain": [
       "3391946"
      ]
     },
     "execution_count": 10,
     "metadata": {},
     "output_type": "execute_result"
    }
   ],
   "source": [
    "# indexing slicing\n",
    "population.values[1]"
   ]
  },
  {
   "cell_type": "code",
   "execution_count": 11,
   "metadata": {},
   "outputs": [
    {
     "data": {
      "text/plain": [
       "도시\n",
       "서울    9668465\n",
       "광주    1450062\n",
       "부산    3391946\n",
       "Name: 인구, dtype: int64"
      ]
     },
     "execution_count": 11,
     "metadata": {},
     "output_type": "execute_result"
    }
   ],
   "source": [
    "# 인덱싱을 활용하여 특정데이터를 가져오기 - 특정 데이터들을 가져오는 경우 리스트 형태로 묶어서 인덱싱\n",
    "population[['서울','광주','부산']]"
   ]
  },
  {
   "cell_type": "code",
   "execution_count": 12,
   "metadata": {},
   "outputs": [
    {
     "data": {
      "text/plain": [
       "도시\n",
       "부산    3391946\n",
       "인천    2942828\n",
       "Name: 인구, dtype: int64"
      ]
     },
     "execution_count": 12,
     "metadata": {},
     "output_type": "execute_result"
    }
   ],
   "source": [
    "# slicing\n",
    "population[1:3]"
   ]
  },
  {
   "cell_type": "code",
   "execution_count": 13,
   "metadata": {},
   "outputs": [
    {
     "data": {
      "text/plain": [
       "도시\n",
       "부산    3391946\n",
       "인천    2942828\n",
       "Name: 인구, dtype: int64"
      ]
     },
     "execution_count": 13,
     "metadata": {},
     "output_type": "execute_result"
    }
   ],
   "source": [
    "# index 이름을 지정한 경우 이름 데이터로도 슬라이싱 가능\n",
    "population['부산':'인천']"
   ]
  },
  {
   "cell_type": "code",
   "execution_count": 14,
   "metadata": {},
   "outputs": [
    {
     "data": {
      "text/plain": [
       "도시\n",
       "부산    3391946\n",
       "인천    2942828\n",
       "Name: 인구, dtype: int64"
      ]
     },
     "execution_count": 14,
     "metadata": {},
     "output_type": "execute_result"
    }
   ],
   "source": [
    "# 불리언 인덱싱\n",
    "# 조건에 따라서 참인 값만 추출하는 방식\n",
    "# 250만 이상인 데이터만 추출\n",
    "# 2개 이상의 조건을 and 나 or 을 하는 경우 연산자로 대체  & |\n",
    "# 그리고 순서를 정해서 알려줘야 한다.\n",
    "population[(population>=2500000) & (population <= 5000000)]\n",
    "# population[population>=2500000]"
   ]
  },
  {
   "cell_type": "code",
   "execution_count": 15,
   "metadata": {},
   "outputs": [
    {
     "data": {
      "text/plain": [
       "피카츄     1\n",
       "잠만보     2\n",
       "치코리타    3\n",
       "리자몽     4\n",
       "dtype: int64"
      ]
     },
     "execution_count": 15,
     "metadata": {},
     "output_type": "execute_result"
    }
   ],
   "source": [
    "# dictionary 자료구조를 활용하여 Series 생성\n",
    "poketmon = pd.Series({'피카츄':1 , '잠만보':2 , '치코리타':3,'리자몽':4})\n",
    "poketmon"
   ]
  },
  {
   "cell_type": "code",
   "execution_count": 16,
   "metadata": {},
   "outputs": [],
   "source": [
    "# 레벨업한 데이터가 들어가 있는 poketmon_up\n",
    "poketmon_up = pd.Series({'거북왕':1923 , '피죤': 231,'피카츄':999 , '잠만보':1111 , '치코리타':2222,'리자몽':11115})\n",
    "# 인덱스 이름이 같은 데이터끼리 연산을 각각 진행\n",
    "# 인덱스 이름이 같은 것이 없는 경우 NaN(결측치)를 반환\n",
    "state =poketmon_up - poketmon"
   ]
  },
  {
   "cell_type": "code",
   "execution_count": 17,
   "metadata": {},
   "outputs": [
    {
     "data": {
      "text/plain": [
       "리자몽     11111.0\n",
       "잠만보      1109.0\n",
       "치코리타     2219.0\n",
       "피카츄       998.0\n",
       "dtype: float64"
      ]
     },
     "execution_count": 17,
     "metadata": {},
     "output_type": "execute_result"
    }
   ],
   "source": [
    "# 비어있지 않은 데이터만 확인 -> notnull()\n",
    "state[state.notnull()]"
   ]
  },
  {
   "cell_type": "code",
   "execution_count": 18,
   "metadata": {},
   "outputs": [
    {
     "data": {
      "text/plain": [
       "거북왕   NaN\n",
       "피죤    NaN\n",
       "dtype: float64"
      ]
     },
     "execution_count": 18,
     "metadata": {},
     "output_type": "execute_result"
    }
   ],
   "source": [
    "# 비어있는 Nan 데이터만 출력 -> .isnull()\n",
    "state[state.isnull()]"
   ]
  },
  {
   "attachments": {},
   "cell_type": "markdown",
   "metadata": {},
   "source": [
    "# DataFrame\n",
    "- 행과 열로 구성되어있는 표와 같은 형태\n",
    "- Series 데이터들이 모여서 생성된다.\n"
   ]
  },
  {
   "cell_type": "code",
   "execution_count": 19,
   "metadata": {},
   "outputs": [
    {
     "data": {
      "text/html": [
       "<div>\n",
       "<style scoped>\n",
       "    .dataframe tbody tr th:only-of-type {\n",
       "        vertical-align: middle;\n",
       "    }\n",
       "\n",
       "    .dataframe tbody tr th {\n",
       "        vertical-align: top;\n",
       "    }\n",
       "\n",
       "    .dataframe thead th {\n",
       "        text-align: right;\n",
       "    }\n",
       "</style>\n",
       "<table border=\"1\" class=\"dataframe\">\n",
       "  <thead>\n",
       "    <tr style=\"text-align: right;\">\n",
       "      <th></th>\n",
       "      <th>2020</th>\n",
       "      <th>2010</th>\n",
       "    </tr>\n",
       "  </thead>\n",
       "  <tbody>\n",
       "    <tr>\n",
       "      <th>0</th>\n",
       "      <td>9668465</td>\n",
       "      <td>10312545</td>\n",
       "    </tr>\n",
       "    <tr>\n",
       "      <th>1</th>\n",
       "      <td>3391946</td>\n",
       "      <td>3567910</td>\n",
       "    </tr>\n",
       "    <tr>\n",
       "      <th>2</th>\n",
       "      <td>2942828</td>\n",
       "      <td>2758296</td>\n",
       "    </tr>\n",
       "    <tr>\n",
       "      <th>3</th>\n",
       "      <td>1450062</td>\n",
       "      <td>1454636</td>\n",
       "    </tr>\n",
       "  </tbody>\n",
       "</table>\n",
       "</div>"
      ],
      "text/plain": [
       "      2020      2010\n",
       "0  9668465  10312545\n",
       "1  3391946   3567910\n",
       "2  2942828   2758296\n",
       "3  1450062   1454636"
      ]
     },
     "execution_count": 19,
     "metadata": {},
     "output_type": "execute_result"
    }
   ],
   "source": [
    "# dictionary 자료 구조를 통해서 생성이 가능하다.\n",
    "data = {'2020': [9668465,3391946,2942828,1450062],\n",
    "        '2010': [10312545,3567910,2758296,1454636]}\n",
    "population = pd.DataFrame(data)\n",
    "# 키값은 column으로 value는 value로 튜플 형태로\n",
    "population"
   ]
  },
  {
   "cell_type": "code",
   "execution_count": 20,
   "metadata": {},
   "outputs": [
    {
     "data": {
      "text/html": [
       "<div>\n",
       "<style scoped>\n",
       "    .dataframe tbody tr th:only-of-type {\n",
       "        vertical-align: middle;\n",
       "    }\n",
       "\n",
       "    .dataframe tbody tr th {\n",
       "        vertical-align: top;\n",
       "    }\n",
       "\n",
       "    .dataframe thead th {\n",
       "        text-align: right;\n",
       "    }\n",
       "</style>\n",
       "<table border=\"1\" class=\"dataframe\">\n",
       "  <thead>\n",
       "    <tr style=\"text-align: right;\">\n",
       "      <th></th>\n",
       "      <th>2020</th>\n",
       "      <th>2010</th>\n",
       "    </tr>\n",
       "  </thead>\n",
       "  <tbody>\n",
       "    <tr>\n",
       "      <th>서울</th>\n",
       "      <td>9668465</td>\n",
       "      <td>10312545</td>\n",
       "    </tr>\n",
       "    <tr>\n",
       "      <th>부산</th>\n",
       "      <td>3391946</td>\n",
       "      <td>3567910</td>\n",
       "    </tr>\n",
       "    <tr>\n",
       "      <th>인천</th>\n",
       "      <td>2942828</td>\n",
       "      <td>2758296</td>\n",
       "    </tr>\n",
       "    <tr>\n",
       "      <th>광주</th>\n",
       "      <td>1450062</td>\n",
       "      <td>1454636</td>\n",
       "    </tr>\n",
       "  </tbody>\n",
       "</table>\n",
       "</div>"
      ],
      "text/plain": [
       "       2020      2010\n",
       "서울  9668465  10312545\n",
       "부산  3391946   3567910\n",
       "인천  2942828   2758296\n",
       "광주  1450062   1454636"
      ]
     },
     "execution_count": 20,
     "metadata": {},
     "output_type": "execute_result"
    }
   ],
   "source": [
    "population.index = ['서울','부산','인천','광주']\n",
    "population"
   ]
  },
  {
   "cell_type": "code",
   "execution_count": 21,
   "metadata": {},
   "outputs": [
    {
     "data": {
      "text/plain": [
       "array([[ 9668465, 10312545],\n",
       "       [ 3391946,  3567910],\n",
       "       [ 2942828,  2758296],\n",
       "       [ 1450062,  1454636]], dtype=int64)"
      ]
     },
     "execution_count": 21,
     "metadata": {},
     "output_type": "execute_result"
    }
   ],
   "source": [
    "# data 값 확ㅇ니\n",
    "population.values"
   ]
  },
  {
   "cell_type": "code",
   "execution_count": 22,
   "metadata": {},
   "outputs": [
    {
     "data": {
      "text/plain": [
       "Index(['서울', '부산', '인천', '광주'], dtype='object')"
      ]
     },
     "execution_count": 22,
     "metadata": {},
     "output_type": "execute_result"
    }
   ],
   "source": [
    "# 인덱스 확인\n",
    "population.index"
   ]
  },
  {
   "cell_type": "code",
   "execution_count": 23,
   "metadata": {},
   "outputs": [
    {
     "data": {
      "text/plain": [
       "Index(['2020', '2010'], dtype='object')"
      ]
     },
     "execution_count": 23,
     "metadata": {},
     "output_type": "execute_result"
    }
   ],
   "source": [
    "# column 확인\n",
    "population.columns"
   ]
  },
  {
   "cell_type": "code",
<<<<<<< HEAD
   "execution_count": 23,
=======
   "execution_count": 24,
>>>>>>> 835c6aaef1b5901dd22b752a4302c0f20ab57772
   "metadata": {},
   "outputs": [
    {
     "name": "stdout",
     "output_type": "stream",
     "text": [
      "            서울       부산       인천       광주\n",
      "2020   9668465  3391946  2942828  1450062\n",
      "2010  10312545  3567910  2758296  1454636\n",
      "       2020      2010\n",
      "서울  9668465  10312545\n",
      "부산  3391946   3567910\n",
      "인천  2942828   2758296\n",
      "광주  1450062   1454636\n"
     ]
    }
   ],
   "source": [
    "# list 구조를 활용하여 DataFrame 생성하기\n",
    "data2 = [[9668465,3391946,2942828,1450062],\n",
    "         [10312545,3567910,2758296,1454636]]\n",
    "# index\n",
    "ind = ['2020','2010']\n",
    "col = ['서울','부산','인천','광주']\n",
    "df = pd.DataFrame(data2,index=ind, columns=col)\n",
    "print(df)\n",
    "# DataFrame 전치\n",
    "print(df.T)\n",
    "df = df.T"
   ]
  },
  {
   "cell_type": "code",
<<<<<<< HEAD
   "execution_count": 24,
=======
   "execution_count": 25,
>>>>>>> 835c6aaef1b5901dd22b752a4302c0f20ab57772
   "metadata": {},
   "outputs": [
    {
     "name": "stdout",
     "output_type": "stream",
     "text": [
      "Series 형태 출력\n",
      " 서울    9668465\n",
      "부산    3391946\n",
      "인천    2942828\n",
      "광주    1450062\n",
      "Name: 2020, dtype: int64\n",
      "2차원 형태 출력\n",
      "        2020\n",
      "서울  9668465\n",
      "부산  3391946\n",
      "인천  2942828\n",
      "광주  1450062\n",
      "       2020      2010\n",
      "서울  9668465  10312545\n",
      "부산  3391946   3567910\n",
      "인천  2942828   2758296\n",
      "광주  1450062   1454636\n"
     ]
    },
    {
     "data": {
      "text/html": [
       "<div>\n",
       "<style scoped>\n",
       "    .dataframe tbody tr th:only-of-type {\n",
       "        vertical-align: middle;\n",
       "    }\n",
       "\n",
       "    .dataframe tbody tr th {\n",
       "        vertical-align: top;\n",
       "    }\n",
       "\n",
       "    .dataframe thead th {\n",
       "        text-align: right;\n",
       "    }\n",
       "</style>\n",
       "<table border=\"1\" class=\"dataframe\">\n",
       "  <thead>\n",
       "    <tr style=\"text-align: right;\">\n",
       "      <th></th>\n",
       "      <th>2020</th>\n",
       "    </tr>\n",
       "  </thead>\n",
       "  <tbody>\n",
       "    <tr>\n",
       "      <th>서울</th>\n",
       "      <td>9668465</td>\n",
       "    </tr>\n",
       "    <tr>\n",
       "      <th>부산</th>\n",
       "      <td>3391946</td>\n",
       "    </tr>\n",
       "  </tbody>\n",
       "</table>\n",
       "</div>"
      ],
      "text/plain": [
       "       2020\n",
       "서울  9668465\n",
       "부산  3391946"
      ]
     },
<<<<<<< HEAD
     "execution_count": 24,
=======
     "execution_count": 25,
>>>>>>> 835c6aaef1b5901dd22b752a4302c0f20ab57772
     "metadata": {},
     "output_type": "execute_result"
    }
   ],
   "source": [
    "# 인덱싱 슬라이싱\n",
    "# 인덱싱 -- 1개를 가져올 때\n",
    "# 슬라이싱 범위로 가져온다.\n",
    "\n",
    "\n",
    "# 데이터 확인?\n",
    "# 인덱싱 [column name] -> Series 형태 출력\n",
    "print('Series 형태 출력\\n',df['2020'])\n",
    "# 2차원 형태로 출력 가로의 갯수 ---> 차원을 의미\n",
    "print('2차원 형태 출력\\n',df[['2020']])\n",
    "print(df[['2020','2010']])\n",
    "\n",
    "\n",
    "# DataFrame에서 인덱싱ㅇㄴ 열단위만 가능하다! 👾👾\n",
    "# slicing은 행 단위 가능\n",
    "\n",
    "df[['2020']]['서울':'부산']"
   ]
  },
  {
   "cell_type": "code",
<<<<<<< HEAD
   "execution_count": 25,
=======
   "execution_count": 26,
>>>>>>> 835c6aaef1b5901dd22b752a4302c0f20ab57772
   "metadata": {},
   "outputs": [
    {
     "data": {
      "text/html": [
       "<div>\n",
       "<style scoped>\n",
       "    .dataframe tbody tr th:only-of-type {\n",
       "        vertical-align: middle;\n",
       "    }\n",
       "\n",
       "    .dataframe tbody tr th {\n",
       "        vertical-align: top;\n",
       "    }\n",
       "\n",
       "    .dataframe thead th {\n",
       "        text-align: right;\n",
       "    }\n",
       "</style>\n",
       "<table border=\"1\" class=\"dataframe\">\n",
       "  <thead>\n",
       "    <tr style=\"text-align: right;\">\n",
       "      <th></th>\n",
       "      <th>2020</th>\n",
       "      <th>2010</th>\n",
       "      <th>2005</th>\n",
       "    </tr>\n",
       "  </thead>\n",
       "  <tbody>\n",
       "    <tr>\n",
       "      <th>서울</th>\n",
       "      <td>9668465</td>\n",
       "      <td>10312545</td>\n",
       "      <td>9762546</td>\n",
       "    </tr>\n",
       "    <tr>\n",
       "      <th>부산</th>\n",
       "      <td>3391946</td>\n",
       "      <td>3567910</td>\n",
       "      <td>3512547</td>\n",
       "    </tr>\n",
       "    <tr>\n",
       "      <th>인천</th>\n",
       "      <td>2942828</td>\n",
       "      <td>2758296</td>\n",
       "      <td>2517680</td>\n",
       "    </tr>\n",
       "    <tr>\n",
       "      <th>광주</th>\n",
       "      <td>1450062</td>\n",
       "      <td>1454636</td>\n",
       "      <td>1456016</td>\n",
       "    </tr>\n",
       "  </tbody>\n",
       "</table>\n",
       "</div>"
      ],
      "text/plain": [
       "       2020      2010     2005\n",
       "서울  9668465  10312545  9762546\n",
       "부산  3391946   3567910  3512547\n",
       "인천  2942828   2758296  2517680\n",
       "광주  1450062   1454636  1456016"
      ]
     },
<<<<<<< HEAD
     "execution_count": 25,
=======
     "execution_count": 26,
>>>>>>> 835c6aaef1b5901dd22b752a4302c0f20ab57772
     "metadata": {},
     "output_type": "execute_result"
    }
   ],
   "source": [
    "data3 = {'2020':[9668465,3391946,2942828,1450062],\n",
    "        '2010' :[10312545,3567910,2758296,1454636],\n",
    "         '2005':[9762546,3512547,2517680,1456016]\n",
    "        }\n",
    "df3 = pd.DataFrame(data3,index = ['서울','부산','인천','광주'])\n",
    "df3"
   ]
  },
  {
   "cell_type": "code",
<<<<<<< HEAD
   "execution_count": 26,
=======
   "execution_count": 27,
>>>>>>> 835c6aaef1b5901dd22b752a4302c0f20ab57772
   "metadata": {},
   "outputs": [
    {
     "data": {
      "text/html": [
       "<div>\n",
       "<style scoped>\n",
       "    .dataframe tbody tr th:only-of-type {\n",
       "        vertical-align: middle;\n",
       "    }\n",
       "\n",
       "    .dataframe tbody tr th {\n",
       "        vertical-align: top;\n",
       "    }\n",
       "\n",
       "    .dataframe thead th {\n",
       "        text-align: right;\n",
       "    }\n",
       "</style>\n",
       "<table border=\"1\" class=\"dataframe\">\n",
       "  <thead>\n",
       "    <tr style=\"text-align: right;\">\n",
       "      <th></th>\n",
       "      <th>2020</th>\n",
       "      <th>2010</th>\n",
       "      <th>2005</th>\n",
       "    </tr>\n",
       "  </thead>\n",
       "  <tbody>\n",
       "    <tr>\n",
       "      <th>부산</th>\n",
       "      <td>3391946</td>\n",
       "      <td>3567910</td>\n",
       "      <td>3512547</td>\n",
       "    </tr>\n",
       "    <tr>\n",
       "      <th>인천</th>\n",
       "      <td>2942828</td>\n",
       "      <td>2758296</td>\n",
       "      <td>2517680</td>\n",
       "    </tr>\n",
       "  </tbody>\n",
       "</table>\n",
       "</div>"
      ],
      "text/plain": [
       "       2020     2010     2005\n",
       "부산  3391946  3567910  3512547\n",
       "인천  2942828  2758296  2517680"
      ]
     },
<<<<<<< HEAD
     "execution_count": 26,
=======
     "execution_count": 27,
>>>>>>> 835c6aaef1b5901dd22b752a4302c0f20ab57772
     "metadata": {},
     "output_type": "execute_result"
    }
   ],
   "source": [
    "# slicing\n",
    "df3[1:3]\n",
    "\n"
   ]
  },
  {
   "cell_type": "code",
<<<<<<< HEAD
   "execution_count": 27,
=======
   "execution_count": 28,
>>>>>>> 835c6aaef1b5901dd22b752a4302c0f20ab57772
   "metadata": {},
   "outputs": [
    {
     "data": {
      "text/html": [
       "<div>\n",
       "<style scoped>\n",
       "    .dataframe tbody tr th:only-of-type {\n",
       "        vertical-align: middle;\n",
       "    }\n",
       "\n",
       "    .dataframe tbody tr th {\n",
       "        vertical-align: top;\n",
       "    }\n",
       "\n",
       "    .dataframe thead th {\n",
       "        text-align: right;\n",
       "    }\n",
       "</style>\n",
       "<table border=\"1\" class=\"dataframe\">\n",
       "  <thead>\n",
       "    <tr style=\"text-align: right;\">\n",
       "      <th></th>\n",
       "      <th>2020</th>\n",
       "      <th>2010</th>\n",
       "      <th>2005</th>\n",
       "    </tr>\n",
       "  </thead>\n",
       "  <tbody>\n",
       "    <tr>\n",
       "      <th>부산</th>\n",
       "      <td>3391946</td>\n",
       "      <td>3567910</td>\n",
       "      <td>3512547</td>\n",
       "    </tr>\n",
       "    <tr>\n",
       "      <th>인천</th>\n",
       "      <td>2942828</td>\n",
       "      <td>2758296</td>\n",
       "      <td>2517680</td>\n",
       "    </tr>\n",
       "  </tbody>\n",
       "</table>\n",
       "</div>"
      ],
      "text/plain": [
       "       2020     2010     2005\n",
       "부산  3391946  3567910  3512547\n",
       "인천  2942828  2758296  2517680"
      ]
     },
<<<<<<< HEAD
     "execution_count": 27,
=======
     "execution_count": 28,
>>>>>>> 835c6aaef1b5901dd22b752a4302c0f20ab57772
     "metadata": {},
     "output_type": "execute_result"
    }
   ],
   "source": [
    "# 하나의 행만 가져오고 싶다면 \n",
    "df3[1:2]\n",
    "# 인덱스의 이름으로는?\n",
    "df3['부산':'인천']"
   ]
  },
  {
   "cell_type": "code",
<<<<<<< HEAD
   "execution_count": 28,
=======
   "execution_count": 29,
>>>>>>> 835c6aaef1b5901dd22b752a4302c0f20ab57772
   "metadata": {},
   "outputs": [
    {
     "data": {
      "text/html": [
       "<div>\n",
       "<style scoped>\n",
       "    .dataframe tbody tr th:only-of-type {\n",
       "        vertical-align: middle;\n",
       "    }\n",
       "\n",
       "    .dataframe tbody tr th {\n",
       "        vertical-align: top;\n",
       "    }\n",
       "\n",
       "    .dataframe thead th {\n",
       "        text-align: right;\n",
       "    }\n",
       "</style>\n",
       "<table border=\"1\" class=\"dataframe\">\n",
       "  <thead>\n",
       "    <tr style=\"text-align: right;\">\n",
       "      <th></th>\n",
       "      <th>2010</th>\n",
       "      <th>2005</th>\n",
       "    </tr>\n",
       "  </thead>\n",
       "  <tbody>\n",
       "    <tr>\n",
       "      <th>부산</th>\n",
       "      <td>3567910</td>\n",
       "      <td>3512547</td>\n",
       "    </tr>\n",
       "    <tr>\n",
       "      <th>인천</th>\n",
       "      <td>2758296</td>\n",
       "      <td>2517680</td>\n",
       "    </tr>\n",
       "  </tbody>\n",
       "</table>\n",
       "</div>"
      ],
      "text/plain": [
       "       2010     2005\n",
       "부산  3567910  3512547\n",
       "인천  2758296  2517680"
      ]
     },
<<<<<<< HEAD
     "execution_count": 28,
=======
     "execution_count": 29,
>>>>>>> 835c6aaef1b5901dd22b752a4302c0f20ab57772
     "metadata": {},
     "output_type": "execute_result"
    }
   ],
   "source": [
    "df3[['2010','2005']][1:3]"
   ]
  },
  {
   "attachments": {
    "image.png": {
     "image/png": "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"
    }
   },
   "cell_type": "markdown",
   "metadata": {},
   "source": [
    "# 인덱서\n",
    "![image.png](attachment:image.png)\n",
    "\n",
    "-loc[] : 실제 인덱스 이름. 컬럼 이름을 사용하여 데이터를 가져오는 경우 사용한다.\n",
    "-iloc[] : 인덱스 번호를 사용하여 데이터를 가져오는 경우 사용한다. "
   ]
  },
  {
   "cell_type": "code",
<<<<<<< HEAD
   "execution_count": 29,
=======
   "execution_count": 30,
>>>>>>> 835c6aaef1b5901dd22b752a4302c0f20ab57772
   "metadata": {},
   "outputs": [
    {
     "data": {
      "text/html": [
       "<div>\n",
       "<style scoped>\n",
       "    .dataframe tbody tr th:only-of-type {\n",
       "        vertical-align: middle;\n",
       "    }\n",
       "\n",
       "    .dataframe tbody tr th {\n",
       "        vertical-align: top;\n",
       "    }\n",
       "\n",
       "    .dataframe thead th {\n",
       "        text-align: right;\n",
       "    }\n",
       "</style>\n",
       "<table border=\"1\" class=\"dataframe\">\n",
       "  <thead>\n",
       "    <tr style=\"text-align: right;\">\n",
       "      <th></th>\n",
       "      <th>2010</th>\n",
       "      <th>2005</th>\n",
       "    </tr>\n",
       "  </thead>\n",
       "  <tbody>\n",
       "    <tr>\n",
       "      <th>부산</th>\n",
       "      <td>3567910</td>\n",
       "      <td>3512547</td>\n",
       "    </tr>\n",
       "    <tr>\n",
       "      <th>인천</th>\n",
       "      <td>2758296</td>\n",
       "      <td>2517680</td>\n",
       "    </tr>\n",
       "  </tbody>\n",
       "</table>\n",
       "</div>"
      ],
      "text/plain": [
       "       2010     2005\n",
       "부산  3567910  3512547\n",
       "인천  2758296  2517680"
      ]
     },
<<<<<<< HEAD
     "execution_count": 29,
=======
     "execution_count": 30,
>>>>>>> 835c6aaef1b5901dd22b752a4302c0f20ab57772
     "metadata": {},
     "output_type": "execute_result"
    }
   ],
   "source": [
    "# DataFrame명.loc[행범위,열범위]\n",
    "df3.loc['부산':'인천','2010':'2005']"
   ]
  },
  {
   "cell_type": "code",
<<<<<<< HEAD
   "execution_count": 30,
=======
   "execution_count": 31,
>>>>>>> 835c6aaef1b5901dd22b752a4302c0f20ab57772
   "metadata": {},
   "outputs": [
    {
     "data": {
      "text/html": [
       "<div>\n",
       "<style scoped>\n",
       "    .dataframe tbody tr th:only-of-type {\n",
       "        vertical-align: middle;\n",
       "    }\n",
       "\n",
       "    .dataframe tbody tr th {\n",
       "        vertical-align: top;\n",
       "    }\n",
       "\n",
       "    .dataframe thead th {\n",
       "        text-align: right;\n",
       "    }\n",
       "</style>\n",
       "<table border=\"1\" class=\"dataframe\">\n",
       "  <thead>\n",
       "    <tr style=\"text-align: right;\">\n",
       "      <th></th>\n",
       "      <th>2010</th>\n",
       "      <th>2005</th>\n",
       "    </tr>\n",
       "  </thead>\n",
       "  <tbody>\n",
       "    <tr>\n",
       "      <th>부산</th>\n",
       "      <td>3567910</td>\n",
       "      <td>3512547</td>\n",
       "    </tr>\n",
       "    <tr>\n",
       "      <th>인천</th>\n",
       "      <td>2758296</td>\n",
       "      <td>2517680</td>\n",
       "    </tr>\n",
       "  </tbody>\n",
       "</table>\n",
       "</div>"
      ],
      "text/plain": [
       "       2010     2005\n",
       "부산  3567910  3512547\n",
       "인천  2758296  2517680"
      ]
     },
<<<<<<< HEAD
     "execution_count": 30,
=======
     "execution_count": 31,
>>>>>>> 835c6aaef1b5901dd22b752a4302c0f20ab57772
     "metadata": {},
     "output_type": "execute_result"
    }
   ],
   "source": [
    "# DataFrame명.iloc[행범위,열범위] -> 인덱스 번호를 사용\n",
    "df3.iloc[1:3,1:3]"
   ]
  },
  {
   "cell_type": "code",
<<<<<<< HEAD
   "execution_count": 31,
=======
   "execution_count": 32,
>>>>>>> 835c6aaef1b5901dd22b752a4302c0f20ab57772
   "metadata": {},
   "outputs": [
    {
     "data": {
      "text/plain": [
       "서울    10312545\n",
       "부산     3567910\n",
       "인천     2758296\n",
       "Name: 2010, dtype: int64"
      ]
     },
<<<<<<< HEAD
     "execution_count": 31,
=======
     "execution_count": 32,
>>>>>>> 835c6aaef1b5901dd22b752a4302c0f20ab57772
     "metadata": {},
     "output_type": "execute_result"
    }
   ],
   "source": [
    "# boolean indexing\n",
    "# 변수에 대입하여\n",
    "s3 = df3['2010']\n",
    "s3[s3>=2500000]\n",
    "# 바로 \n",
    "df3['2010'][df3['2010']>= 2500000]"
   ]
  },
  {
   "cell_type": "code",
<<<<<<< HEAD
   "execution_count": 32,
=======
   "execution_count": 33,
>>>>>>> 835c6aaef1b5901dd22b752a4302c0f20ab57772
   "metadata": {},
   "outputs": [
    {
     "data": {
      "text/html": [
       "<div>\n",
       "<style scoped>\n",
       "    .dataframe tbody tr th:only-of-type {\n",
       "        vertical-align: middle;\n",
       "    }\n",
       "\n",
       "    .dataframe tbody tr th {\n",
       "        vertical-align: top;\n",
       "    }\n",
       "\n",
       "    .dataframe thead th {\n",
       "        text-align: right;\n",
       "    }\n",
       "</style>\n",
       "<table border=\"1\" class=\"dataframe\">\n",
       "  <thead>\n",
       "    <tr style=\"text-align: right;\">\n",
       "      <th></th>\n",
       "      <th>2020</th>\n",
       "      <th>2010</th>\n",
       "      <th>2005</th>\n",
       "      <th>2000</th>\n",
       "    </tr>\n",
       "  </thead>\n",
       "  <tbody>\n",
       "    <tr>\n",
       "      <th>서울</th>\n",
       "      <td>9668465</td>\n",
       "      <td>10312545</td>\n",
       "      <td>9762546</td>\n",
       "      <td>9545231</td>\n",
       "    </tr>\n",
       "    <tr>\n",
       "      <th>부산</th>\n",
       "      <td>3391946</td>\n",
       "      <td>3567910</td>\n",
       "      <td>3512547</td>\n",
       "      <td>3456286</td>\n",
       "    </tr>\n",
       "    <tr>\n",
       "      <th>인천</th>\n",
       "      <td>2942828</td>\n",
       "      <td>2758296</td>\n",
       "      <td>2517680</td>\n",
       "      <td>2412569</td>\n",
       "    </tr>\n",
       "    <tr>\n",
       "      <th>광주</th>\n",
       "      <td>1450062</td>\n",
       "      <td>1454636</td>\n",
       "      <td>1456016</td>\n",
       "      <td>1495456</td>\n",
       "    </tr>\n",
       "  </tbody>\n",
       "</table>\n",
       "</div>"
      ],
      "text/plain": [
       "       2020      2010     2005     2000\n",
       "서울  9668465  10312545  9762546  9545231\n",
       "부산  3391946   3567910  3512547  3456286\n",
       "인천  2942828   2758296  2517680  2412569\n",
       "광주  1450062   1454636  1456016  1495456"
      ]
     },
<<<<<<< HEAD
     "execution_count": 32,
=======
     "execution_count": 33,
>>>>>>> 835c6aaef1b5901dd22b752a4302c0f20ab57772
     "metadata": {},
     "output_type": "execute_result"
    }
   ],
   "source": [
    "# DataFrame 행,열 추가,수정 삭제\n",
    "\n",
    "# 새로운 column 추가?\n",
    "df3['2000'] = [9545231,3456286,2412569,1495456]\n",
    "df3"
   ]
  },
  {
   "cell_type": "code",
<<<<<<< HEAD
   "execution_count": 33,
=======
   "execution_count": 34,
>>>>>>> 835c6aaef1b5901dd22b752a4302c0f20ab57772
   "metadata": {},
   "outputs": [],
   "source": [
    "# column 수정하고 싶다면?\n",
    "# .rename(columns={'수정 전':'수정 후 })\n",
    "# 바로 적용하고 싶다면 inplace\n",
    "df3.rename(columns={'2010':'1900'}, inplace=True)"
   ]
  },
  {
   "cell_type": "code",
<<<<<<< HEAD
   "execution_count": 34,
=======
   "execution_count": 35,
>>>>>>> 835c6aaef1b5901dd22b752a4302c0f20ab57772
   "metadata": {},
   "outputs": [
    {
     "data": {
      "text/html": [
       "<div>\n",
       "<style scoped>\n",
       "    .dataframe tbody tr th:only-of-type {\n",
       "        vertical-align: middle;\n",
       "    }\n",
       "\n",
       "    .dataframe tbody tr th {\n",
       "        vertical-align: top;\n",
       "    }\n",
       "\n",
       "    .dataframe thead th {\n",
       "        text-align: right;\n",
       "    }\n",
       "</style>\n",
       "<table border=\"1\" class=\"dataframe\">\n",
       "  <thead>\n",
       "    <tr style=\"text-align: right;\">\n",
       "      <th></th>\n",
       "      <th>2020</th>\n",
       "      <th>1900</th>\n",
       "      <th>2005</th>\n",
       "      <th>2000</th>\n",
       "    </tr>\n",
       "  </thead>\n",
       "  <tbody>\n",
       "    <tr>\n",
       "      <th>서울</th>\n",
       "      <td>9668465</td>\n",
       "      <td>0</td>\n",
       "      <td>9762546</td>\n",
       "      <td>9545231</td>\n",
       "    </tr>\n",
       "    <tr>\n",
       "      <th>부산</th>\n",
       "      <td>3391946</td>\n",
       "      <td>0</td>\n",
       "      <td>3512547</td>\n",
       "      <td>3456286</td>\n",
       "    </tr>\n",
       "    <tr>\n",
       "      <th>인천</th>\n",
       "      <td>2942828</td>\n",
       "      <td>0</td>\n",
       "      <td>2517680</td>\n",
       "      <td>2412569</td>\n",
       "    </tr>\n",
       "    <tr>\n",
       "      <th>광주</th>\n",
       "      <td>1450062</td>\n",
       "      <td>0</td>\n",
       "      <td>1456016</td>\n",
       "      <td>1495456</td>\n",
       "    </tr>\n",
       "  </tbody>\n",
       "</table>\n",
       "</div>"
      ],
      "text/plain": [
       "       2020  1900     2005     2000\n",
       "서울  9668465     0  9762546  9545231\n",
       "부산  3391946     0  3512547  3456286\n",
       "인천  2942828     0  2517680  2412569\n",
       "광주  1450062     0  1456016  1495456"
      ]
     },
<<<<<<< HEAD
     "execution_count": 34,
=======
     "execution_count": 35,
>>>>>>> 835c6aaef1b5901dd22b752a4302c0f20ab57772
     "metadata": {},
     "output_type": "execute_result"
    }
   ],
   "source": [
    "df3['1900'] = 0\n",
    "df3"
   ]
  },
  {
   "attachments": {
    "image.png": {
     "image/png": "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"
    }
   },
   "cell_type": "markdown",
   "metadata": {},
   "source": [
    "![image.png](attachment:image.png)"
   ]
  },
  {
   "cell_type": "code",
<<<<<<< HEAD
   "execution_count": 35,
=======
   "execution_count": 36,
>>>>>>> 835c6aaef1b5901dd22b752a4302c0f20ab57772
   "metadata": {},
   "outputs": [
    {
     "data": {
      "text/html": [
       "<div>\n",
       "<style scoped>\n",
       "    .dataframe tbody tr th:only-of-type {\n",
       "        vertical-align: middle;\n",
       "    }\n",
       "\n",
       "    .dataframe tbody tr th {\n",
       "        vertical-align: top;\n",
       "    }\n",
       "\n",
       "    .dataframe thead th {\n",
       "        text-align: right;\n",
       "    }\n",
       "</style>\n",
       "<table border=\"1\" class=\"dataframe\">\n",
       "  <thead>\n",
       "    <tr style=\"text-align: right;\">\n",
       "      <th></th>\n",
       "      <th>2020</th>\n",
       "      <th>2005</th>\n",
       "      <th>2000</th>\n",
       "    </tr>\n",
       "  </thead>\n",
       "  <tbody>\n",
       "    <tr>\n",
       "      <th>서울</th>\n",
       "      <td>9668465</td>\n",
       "      <td>9762546</td>\n",
       "      <td>9545231</td>\n",
       "    </tr>\n",
       "    <tr>\n",
       "      <th>부산</th>\n",
       "      <td>3391946</td>\n",
       "      <td>3512547</td>\n",
       "      <td>3456286</td>\n",
       "    </tr>\n",
       "    <tr>\n",
       "      <th>인천</th>\n",
       "      <td>2942828</td>\n",
       "      <td>2517680</td>\n",
       "      <td>2412569</td>\n",
       "    </tr>\n",
       "    <tr>\n",
       "      <th>광주</th>\n",
       "      <td>1450062</td>\n",
       "      <td>1456016</td>\n",
       "      <td>1495456</td>\n",
       "    </tr>\n",
       "  </tbody>\n",
       "</table>\n",
       "</div>"
      ],
      "text/plain": [
       "       2020     2005     2000\n",
       "서울  9668465  9762546  9545231\n",
       "부산  3391946  3512547  3456286\n",
       "인천  2942828  2517680  2412569\n",
       "광주  1450062  1456016  1495456"
      ]
     },
<<<<<<< HEAD
     "execution_count": 35,
=======
     "execution_count": 36,
>>>>>>> 835c6aaef1b5901dd22b752a4302c0f20ab57772
     "metadata": {},
     "output_type": "execute_result"
    }
   ],
   "source": [
    "# 1900 컬럼 삭제 \n",
    "df3.drop('1900',axis=1,inplace=True)\n",
    "# 열단위로 삭제를 하는 경우 축 설정을 해줘야한다.\n",
    "# 기본값이 axis = 0 으로 되어있는 상태  - 행단위 값\n",
    "# 0 == > index == 행단위 , 1 == columns == 열단위\n",
    "df3"
   ]
  },
  {
   "cell_type": "code",
<<<<<<< HEAD
   "execution_count": 36,
=======
   "execution_count": 37,
>>>>>>> 835c6aaef1b5901dd22b752a4302c0f20ab57772
   "metadata": {},
   "outputs": [
    {
     "data": {
      "text/html": [
       "<div>\n",
       "<style scoped>\n",
       "    .dataframe tbody tr th:only-of-type {\n",
       "        vertical-align: middle;\n",
       "    }\n",
       "\n",
       "    .dataframe tbody tr th {\n",
       "        vertical-align: top;\n",
       "    }\n",
       "\n",
       "    .dataframe thead th {\n",
       "        text-align: right;\n",
       "    }\n",
       "</style>\n",
       "<table border=\"1\" class=\"dataframe\">\n",
       "  <thead>\n",
       "    <tr style=\"text-align: right;\">\n",
       "      <th></th>\n",
       "      <th>지역</th>\n",
       "      <th>2020</th>\n",
       "      <th>2015</th>\n",
       "      <th>2010</th>\n",
       "      <th>2005</th>\n",
       "    </tr>\n",
       "    <tr>\n",
       "      <th>도시</th>\n",
       "      <th></th>\n",
       "      <th></th>\n",
       "      <th></th>\n",
       "      <th></th>\n",
       "      <th></th>\n",
       "    </tr>\n",
       "  </thead>\n",
       "  <tbody>\n",
       "    <tr>\n",
       "      <th>서울</th>\n",
       "      <td>수도권</td>\n",
       "      <td>9668465</td>\n",
       "      <td>10022181.0</td>\n",
       "      <td>10312545.0</td>\n",
       "      <td>10167344</td>\n",
       "    </tr>\n",
       "    <tr>\n",
       "      <th>부산</th>\n",
       "      <td>경상권</td>\n",
       "      <td>3391946</td>\n",
       "      <td>NaN</td>\n",
       "      <td>NaN</td>\n",
       "      <td>3628293</td>\n",
       "    </tr>\n",
       "    <tr>\n",
       "      <th>인천</th>\n",
       "      <td>수도권</td>\n",
       "      <td>2942828</td>\n",
       "      <td>2925815.0</td>\n",
       "      <td>NaN</td>\n",
       "      <td>2600495</td>\n",
       "    </tr>\n",
       "    <tr>\n",
       "      <th>광주</th>\n",
       "      <td>전라권</td>\n",
       "      <td>1450062</td>\n",
       "      <td>1474636.0</td>\n",
       "      <td>1454636.0</td>\n",
       "      <td>1401745</td>\n",
       "    </tr>\n",
       "    <tr>\n",
       "      <th>대구</th>\n",
       "      <td>경상권</td>\n",
       "      <td>2418436</td>\n",
       "      <td>2466052.0</td>\n",
       "      <td>2431774.0</td>\n",
       "      <td>2456016</td>\n",
       "    </tr>\n",
       "  </tbody>\n",
       "</table>\n",
       "</div>"
      ],
      "text/plain": [
       "     지역     2020        2015        2010      2005\n",
       "도시                                                \n",
       "서울  수도권  9668465  10022181.0  10312545.0  10167344\n",
       "부산  경상권  3391946         NaN         NaN   3628293\n",
       "인천  수도권  2942828   2925815.0         NaN   2600495\n",
       "광주  전라권  1450062   1474636.0   1454636.0   1401745\n",
       "대구  경상권  2418436   2466052.0   2431774.0   2456016"
      ]
     },
<<<<<<< HEAD
     "execution_count": 36,
=======
     "execution_count": 37,
>>>>>>> 835c6aaef1b5901dd22b752a4302c0f20ab57772
     "metadata": {},
     "output_type": "execute_result"
    }
   ],
   "source": [
    "population = pd.read_csv('./population.csv', index_col='도시')\n",
    "population"
   ]
  },
  {
   "cell_type": "code",
<<<<<<< HEAD
   "execution_count": 37,
=======
   "execution_count": 38,
>>>>>>> 835c6aaef1b5901dd22b752a4302c0f20ab57772
   "metadata": {},
   "outputs": [
    {
     "data": {
      "text/html": [
       "<div>\n",
       "<style scoped>\n",
       "    .dataframe tbody tr th:only-of-type {\n",
       "        vertical-align: middle;\n",
       "    }\n",
       "\n",
       "    .dataframe tbody tr th {\n",
       "        vertical-align: top;\n",
       "    }\n",
       "\n",
       "    .dataframe thead th {\n",
       "        text-align: right;\n",
       "    }\n",
       "</style>\n",
       "<table border=\"1\" class=\"dataframe\">\n",
       "  <thead>\n",
       "    <tr style=\"text-align: right;\">\n",
       "      <th></th>\n",
       "      <th>지역</th>\n",
       "      <th>2020</th>\n",
       "      <th>2015</th>\n",
       "      <th>2010</th>\n",
       "      <th>2005</th>\n",
       "    </tr>\n",
       "    <tr>\n",
       "      <th>도시</th>\n",
       "      <th></th>\n",
       "      <th></th>\n",
       "      <th></th>\n",
       "      <th></th>\n",
       "      <th></th>\n",
       "    </tr>\n",
       "  </thead>\n",
       "  <tbody>\n",
       "    <tr>\n",
       "      <th>광주</th>\n",
       "      <td>전라권</td>\n",
       "      <td>1450062</td>\n",
       "      <td>1474636.0</td>\n",
       "      <td>1454636.0</td>\n",
       "      <td>1401745</td>\n",
       "    </tr>\n",
       "    <tr>\n",
       "      <th>대구</th>\n",
       "      <td>경상권</td>\n",
       "      <td>2418436</td>\n",
       "      <td>2466052.0</td>\n",
       "      <td>2431774.0</td>\n",
       "      <td>2456016</td>\n",
       "    </tr>\n",
       "    <tr>\n",
       "      <th>부산</th>\n",
       "      <td>경상권</td>\n",
       "      <td>3391946</td>\n",
       "      <td>NaN</td>\n",
       "      <td>NaN</td>\n",
       "      <td>3628293</td>\n",
       "    </tr>\n",
       "    <tr>\n",
       "      <th>서울</th>\n",
       "      <td>수도권</td>\n",
       "      <td>9668465</td>\n",
       "      <td>10022181.0</td>\n",
       "      <td>10312545.0</td>\n",
       "      <td>10167344</td>\n",
       "    </tr>\n",
       "    <tr>\n",
       "      <th>인천</th>\n",
       "      <td>수도권</td>\n",
       "      <td>2942828</td>\n",
       "      <td>2925815.0</td>\n",
       "      <td>NaN</td>\n",
       "      <td>2600495</td>\n",
       "    </tr>\n",
       "  </tbody>\n",
       "</table>\n",
       "</div>"
      ],
      "text/plain": [
       "     지역     2020        2015        2010      2005\n",
       "도시                                                \n",
       "광주  전라권  1450062   1474636.0   1454636.0   1401745\n",
       "대구  경상권  2418436   2466052.0   2431774.0   2456016\n",
       "부산  경상권  3391946         NaN         NaN   3628293\n",
       "서울  수도권  9668465  10022181.0  10312545.0  10167344\n",
       "인천  수도권  2942828   2925815.0         NaN   2600495"
      ]
     },
<<<<<<< HEAD
     "execution_count": 37,
=======
     "execution_count": 38,
>>>>>>> 835c6aaef1b5901dd22b752a4302c0f20ab57772
     "metadata": {},
     "output_type": "execute_result"
    }
   ],
   "source": [
    "# 데이터 정렬하기\n",
    "# 인덱스 기준으로 정렬\n",
    "population.sort_index()"
   ]
  },
  {
   "cell_type": "code",
<<<<<<< HEAD
   "execution_count": 38,
=======
   "execution_count": 39,
>>>>>>> 835c6aaef1b5901dd22b752a4302c0f20ab57772
   "metadata": {},
   "outputs": [
    {
     "data": {
      "text/html": [
       "<div>\n",
       "<style scoped>\n",
       "    .dataframe tbody tr th:only-of-type {\n",
       "        vertical-align: middle;\n",
       "    }\n",
       "\n",
       "    .dataframe tbody tr th {\n",
       "        vertical-align: top;\n",
       "    }\n",
       "\n",
       "    .dataframe thead th {\n",
       "        text-align: right;\n",
       "    }\n",
       "</style>\n",
       "<table border=\"1\" class=\"dataframe\">\n",
       "  <thead>\n",
       "    <tr style=\"text-align: right;\">\n",
       "      <th></th>\n",
       "      <th>지역</th>\n",
       "      <th>2020</th>\n",
       "      <th>2015</th>\n",
       "      <th>2010</th>\n",
       "      <th>2005</th>\n",
       "    </tr>\n",
       "    <tr>\n",
       "      <th>도시</th>\n",
       "      <th></th>\n",
       "      <th></th>\n",
       "      <th></th>\n",
       "      <th></th>\n",
       "      <th></th>\n",
       "    </tr>\n",
       "  </thead>\n",
       "  <tbody>\n",
       "    <tr>\n",
       "      <th>광주</th>\n",
       "      <td>전라권</td>\n",
       "      <td>1450062</td>\n",
       "      <td>1474636.0</td>\n",
       "      <td>1454636.0</td>\n",
       "      <td>1401745</td>\n",
       "    </tr>\n",
       "    <tr>\n",
       "      <th>서울</th>\n",
       "      <td>수도권</td>\n",
       "      <td>9668465</td>\n",
       "      <td>10022181.0</td>\n",
       "      <td>10312545.0</td>\n",
       "      <td>10167344</td>\n",
       "    </tr>\n",
       "    <tr>\n",
       "      <th>인천</th>\n",
       "      <td>수도권</td>\n",
       "      <td>2942828</td>\n",
       "      <td>2925815.0</td>\n",
       "      <td>NaN</td>\n",
       "      <td>2600495</td>\n",
       "    </tr>\n",
       "    <tr>\n",
       "      <th>부산</th>\n",
       "      <td>경상권</td>\n",
       "      <td>3391946</td>\n",
       "      <td>NaN</td>\n",
       "      <td>NaN</td>\n",
       "      <td>3628293</td>\n",
       "    </tr>\n",
       "    <tr>\n",
       "      <th>대구</th>\n",
       "      <td>경상권</td>\n",
       "      <td>2418436</td>\n",
       "      <td>2466052.0</td>\n",
       "      <td>2431774.0</td>\n",
       "      <td>2456016</td>\n",
       "    </tr>\n",
       "  </tbody>\n",
       "</table>\n",
       "</div>"
      ],
      "text/plain": [
       "     지역     2020        2015        2010      2005\n",
       "도시                                                \n",
       "광주  전라권  1450062   1474636.0   1454636.0   1401745\n",
       "서울  수도권  9668465  10022181.0  10312545.0  10167344\n",
       "인천  수도권  2942828   2925815.0         NaN   2600495\n",
       "부산  경상권  3391946         NaN         NaN   3628293\n",
       "대구  경상권  2418436   2466052.0   2431774.0   2456016"
      ]
     },
<<<<<<< HEAD
     "execution_count": 38,
=======
     "execution_count": 39,
>>>>>>> 835c6aaef1b5901dd22b752a4302c0f20ab57772
     "metadata": {},
     "output_type": "execute_result"
    }
   ],
   "source": [
    "# column을 기준으로 하는 경우 기준값을 설정해야한다.\n",
    "# by= 를 통해 어떤 기준을 하기 위해서는\n",
    "population.sort_values(by=['지역','2020'], ascending=False)"
   ]
  },
  {
   "cell_type": "code",
<<<<<<< HEAD
   "execution_count": 39,
=======
   "execution_count": 40,
>>>>>>> 835c6aaef1b5901dd22b752a4302c0f20ab57772
   "metadata": {},
   "outputs": [
    {
     "data": {
      "text/plain": [
       "지역      5\n",
       "2020    5\n",
       "2015    4\n",
       "2010    3\n",
       "2005    5\n",
       "dtype: int64"
      ]
     },
<<<<<<< HEAD
     "execution_count": 39,
=======
     "execution_count": 40,
>>>>>>> 835c6aaef1b5901dd22b752a4302c0f20ab57772
     "metadata": {},
     "output_type": "execute_result"
    }
   ],
   "source": [
    "# count 함수\n",
    "population.count()"
   ]
  },
  {
   "cell_type": "code",
<<<<<<< HEAD
   "execution_count": 40,
=======
   "execution_count": 41,
>>>>>>> 835c6aaef1b5901dd22b752a4302c0f20ab57772
   "metadata": {},
   "outputs": [
    {
     "data": {
      "text/plain": [
       "도시\n",
       "서울    5\n",
       "부산    3\n",
       "인천    4\n",
       "광주    5\n",
       "대구    5\n",
       "dtype: int64"
      ]
     },
<<<<<<< HEAD
     "execution_count": 40,
=======
     "execution_count": 41,
>>>>>>> 835c6aaef1b5901dd22b752a4302c0f20ab57772
     "metadata": {},
     "output_type": "execute_result"
    }
   ],
   "source": [
    "# 축 설정을 번경하면, 열 데이터를 카운트 --- 몇개의 열이 존재하는지 \n",
    "population.count(axis=1)\n"
   ]
  },
  {
   "cell_type": "code",
<<<<<<< HEAD
   "execution_count": 41,
=======
   "execution_count": 42,
>>>>>>> 835c6aaef1b5901dd22b752a4302c0f20ab57772
   "metadata": {},
   "outputs": [
    {
     "data": {
      "text/html": [
       "<div>\n",
       "<style scoped>\n",
       "    .dataframe tbody tr th:only-of-type {\n",
       "        vertical-align: middle;\n",
       "    }\n",
       "\n",
       "    .dataframe tbody tr th {\n",
       "        vertical-align: top;\n",
       "    }\n",
       "\n",
       "    .dataframe thead th {\n",
       "        text-align: right;\n",
       "    }\n",
       "</style>\n",
       "<table border=\"1\" class=\"dataframe\">\n",
       "  <thead>\n",
       "    <tr style=\"text-align: right;\">\n",
       "      <th></th>\n",
       "      <th>지역</th>\n",
       "      <th>2020</th>\n",
       "      <th>2015</th>\n",
       "      <th>2010</th>\n",
       "      <th>2005</th>\n",
       "    </tr>\n",
       "    <tr>\n",
       "      <th>도시</th>\n",
       "      <th></th>\n",
       "      <th></th>\n",
       "      <th></th>\n",
       "      <th></th>\n",
       "      <th></th>\n",
       "    </tr>\n",
       "  </thead>\n",
       "  <tbody>\n",
       "    <tr>\n",
       "      <th>서울</th>\n",
       "      <td>수도권</td>\n",
       "      <td>9668465</td>\n",
       "      <td>10022181.0</td>\n",
       "      <td>10312545.0</td>\n",
       "      <td>10167344</td>\n",
       "    </tr>\n",
       "    <tr>\n",
       "      <th>부산</th>\n",
       "      <td>경상권</td>\n",
       "      <td>3391946</td>\n",
       "      <td>0.0</td>\n",
       "      <td>0.0</td>\n",
       "      <td>3628293</td>\n",
       "    </tr>\n",
       "    <tr>\n",
       "      <th>인천</th>\n",
       "      <td>수도권</td>\n",
       "      <td>2942828</td>\n",
       "      <td>2925815.0</td>\n",
       "      <td>0.0</td>\n",
       "      <td>2600495</td>\n",
       "    </tr>\n",
       "    <tr>\n",
       "      <th>광주</th>\n",
       "      <td>전라권</td>\n",
       "      <td>1450062</td>\n",
       "      <td>1474636.0</td>\n",
       "      <td>1454636.0</td>\n",
       "      <td>1401745</td>\n",
       "    </tr>\n",
       "    <tr>\n",
       "      <th>대구</th>\n",
       "      <td>경상권</td>\n",
       "      <td>2418436</td>\n",
       "      <td>2466052.0</td>\n",
       "      <td>2431774.0</td>\n",
       "      <td>2456016</td>\n",
       "    </tr>\n",
       "  </tbody>\n",
       "</table>\n",
       "</div>"
      ],
      "text/plain": [
       "     지역     2020        2015        2010      2005\n",
       "도시                                                \n",
       "서울  수도권  9668465  10022181.0  10312545.0  10167344\n",
       "부산  경상권  3391946         0.0         0.0   3628293\n",
       "인천  수도권  2942828   2925815.0         0.0   2600495\n",
       "광주  전라권  1450062   1474636.0   1454636.0   1401745\n",
       "대구  경상권  2418436   2466052.0   2431774.0   2456016"
      ]
     },
<<<<<<< HEAD
     "execution_count": 41,
=======
     "execution_count": 42,
>>>>>>> 835c6aaef1b5901dd22b752a4302c0f20ab57772
     "metadata": {},
     "output_type": "execute_result"
    }
   ],
   "source": [
    "# 결측치 데이터 채우기 \n",
    "# fillna 함수\n",
    "population.fillna(0)\n",
    "# 데이터 타입 변경??\n"
   ]
  },
  {
   "cell_type": "code",
<<<<<<< HEAD
   "execution_count": 42,
=======
   "execution_count": 43,
>>>>>>> 835c6aaef1b5901dd22b752a4302c0f20ab57772
   "metadata": {},
   "outputs": [
    {
     "data": {
      "text/html": [
       "<div>\n",
       "<style scoped>\n",
       "    .dataframe tbody tr th:only-of-type {\n",
       "        vertical-align: middle;\n",
       "    }\n",
       "\n",
       "    .dataframe tbody tr th {\n",
       "        vertical-align: top;\n",
       "    }\n",
       "\n",
       "    .dataframe thead th {\n",
       "        text-align: right;\n",
       "    }\n",
       "</style>\n",
       "<table border=\"1\" class=\"dataframe\">\n",
       "  <thead>\n",
       "    <tr style=\"text-align: right;\">\n",
       "      <th></th>\n",
       "      <th>1반</th>\n",
       "      <th>2반</th>\n",
       "      <th>3반</th>\n",
       "      <th>4반</th>\n",
       "    </tr>\n",
       "    <tr>\n",
       "      <th>과목</th>\n",
       "      <th></th>\n",
       "      <th></th>\n",
       "      <th></th>\n",
       "      <th></th>\n",
       "    </tr>\n",
       "  </thead>\n",
       "  <tbody>\n",
       "    <tr>\n",
       "      <th>파이썬</th>\n",
       "      <td>45</td>\n",
       "      <td>44</td>\n",
       "      <td>73</td>\n",
       "      <td>39</td>\n",
       "    </tr>\n",
       "    <tr>\n",
       "      <th>DB</th>\n",
       "      <td>76</td>\n",
       "      <td>92</td>\n",
       "      <td>45</td>\n",
       "      <td>69</td>\n",
       "    </tr>\n",
       "    <tr>\n",
       "      <th>자바</th>\n",
       "      <td>47</td>\n",
       "      <td>92</td>\n",
       "      <td>45</td>\n",
       "      <td>69</td>\n",
       "    </tr>\n",
       "    <tr>\n",
       "      <th>크롤링</th>\n",
       "      <td>92</td>\n",
       "      <td>81</td>\n",
       "      <td>85</td>\n",
       "      <td>40</td>\n",
       "    </tr>\n",
       "    <tr>\n",
       "      <th>Web</th>\n",
       "      <td>11</td>\n",
       "      <td>79</td>\n",
       "      <td>47</td>\n",
       "      <td>26</td>\n",
       "    </tr>\n",
       "  </tbody>\n",
       "</table>\n",
       "</div>"
      ],
      "text/plain": [
       "     1반  2반  3반  4반\n",
       "과목                 \n",
       "파이썬  45  44  73  39\n",
       "DB   76  92  45  69\n",
       "자바   47  92  45  69\n",
       "크롤링  92  81  85  40\n",
       "Web  11  79  47  26"
      ]
     },
<<<<<<< HEAD
     "execution_count": 42,
=======
     "execution_count": 43,
>>>>>>> 835c6aaef1b5901dd22b752a4302c0f20ab57772
     "metadata": {},
     "output_type": "execute_result"
    }
   ],
   "source": [
    "scores  = pd.read_csv('./score.csv', encoding='euc-kr' , index_col='과목')\n",
    "scores\n"
   ]
  },
  {
   "cell_type": "code",
<<<<<<< HEAD
   "execution_count": 43,
=======
   "execution_count": 44,
>>>>>>> 835c6aaef1b5901dd22b752a4302c0f20ab57772
   "metadata": {},
   "outputs": [
    {
     "data": {
      "text/html": [
       "<div>\n",
       "<style scoped>\n",
       "    .dataframe tbody tr th:only-of-type {\n",
       "        vertical-align: middle;\n",
       "    }\n",
       "\n",
       "    .dataframe tbody tr th {\n",
       "        vertical-align: top;\n",
       "    }\n",
       "\n",
       "    .dataframe thead th {\n",
       "        text-align: right;\n",
       "    }\n",
       "</style>\n",
       "<table border=\"1\" class=\"dataframe\">\n",
       "  <thead>\n",
       "    <tr style=\"text-align: right;\">\n",
       "      <th></th>\n",
       "      <th>1반</th>\n",
       "      <th>2반</th>\n",
       "      <th>3반</th>\n",
       "      <th>4반</th>\n",
       "      <th>합계</th>\n",
       "    </tr>\n",
       "    <tr>\n",
       "      <th>과목</th>\n",
       "      <th></th>\n",
       "      <th></th>\n",
       "      <th></th>\n",
       "      <th></th>\n",
       "      <th></th>\n",
       "    </tr>\n",
       "  </thead>\n",
       "  <tbody>\n",
       "    <tr>\n",
       "      <th>파이썬</th>\n",
       "      <td>45</td>\n",
       "      <td>44</td>\n",
       "      <td>73</td>\n",
       "      <td>39</td>\n",
       "      <td>201</td>\n",
       "    </tr>\n",
       "    <tr>\n",
       "      <th>DB</th>\n",
       "      <td>76</td>\n",
       "      <td>92</td>\n",
       "      <td>45</td>\n",
       "      <td>69</td>\n",
       "      <td>282</td>\n",
       "    </tr>\n",
       "    <tr>\n",
       "      <th>자바</th>\n",
       "      <td>47</td>\n",
       "      <td>92</td>\n",
       "      <td>45</td>\n",
       "      <td>69</td>\n",
       "      <td>253</td>\n",
       "    </tr>\n",
       "    <tr>\n",
       "      <th>크롤링</th>\n",
       "      <td>92</td>\n",
       "      <td>81</td>\n",
       "      <td>85</td>\n",
       "      <td>40</td>\n",
       "      <td>298</td>\n",
       "    </tr>\n",
       "    <tr>\n",
       "      <th>Web</th>\n",
       "      <td>11</td>\n",
       "      <td>79</td>\n",
       "      <td>47</td>\n",
       "      <td>26</td>\n",
       "      <td>163</td>\n",
       "    </tr>\n",
       "  </tbody>\n",
       "</table>\n",
       "</div>"
      ],
      "text/plain": [
       "     1반  2반  3반  4반   합계\n",
       "과목                      \n",
       "파이썬  45  44  73  39  201\n",
       "DB   76  92  45  69  282\n",
       "자바   47  92  45  69  253\n",
       "크롤링  92  81  85  40  298\n",
       "Web  11  79  47  26  163"
      ]
     },
<<<<<<< HEAD
     "execution_count": 43,
=======
     "execution_count": 44,
>>>>>>> 835c6aaef1b5901dd22b752a4302c0f20ab57772
     "metadata": {},
     "output_type": "execute_result"
    }
   ],
   "source": [
    "# 문제1 . 과목별 합계를 구해서 DataFrame에 추가\n",
    "scores['합계'] =scores.sum(axis=1)\n",
    "scores"
   ]
  },
  {
   "cell_type": "code",
<<<<<<< HEAD
   "execution_count": 44,
=======
   "execution_count": 45,
>>>>>>> 835c6aaef1b5901dd22b752a4302c0f20ab57772
   "metadata": {},
   "outputs": [
    {
     "data": {
      "text/html": [
       "<div>\n",
       "<style scoped>\n",
       "    .dataframe tbody tr th:only-of-type {\n",
       "        vertical-align: middle;\n",
       "    }\n",
       "\n",
       "    .dataframe tbody tr th {\n",
       "        vertical-align: top;\n",
       "    }\n",
       "\n",
       "    .dataframe thead th {\n",
       "        text-align: right;\n",
       "    }\n",
       "</style>\n",
       "<table border=\"1\" class=\"dataframe\">\n",
       "  <thead>\n",
       "    <tr style=\"text-align: right;\">\n",
       "      <th></th>\n",
       "      <th>1반</th>\n",
       "      <th>2반</th>\n",
       "      <th>3반</th>\n",
       "      <th>4반</th>\n",
       "      <th>합계</th>\n",
       "      <th>평균</th>\n",
       "    </tr>\n",
       "    <tr>\n",
       "      <th>과목</th>\n",
       "      <th></th>\n",
       "      <th></th>\n",
       "      <th></th>\n",
       "      <th></th>\n",
       "      <th></th>\n",
       "      <th></th>\n",
       "    </tr>\n",
       "  </thead>\n",
       "  <tbody>\n",
       "    <tr>\n",
       "      <th>파이썬</th>\n",
       "      <td>45</td>\n",
       "      <td>44</td>\n",
       "      <td>73</td>\n",
       "      <td>39</td>\n",
       "      <td>201</td>\n",
       "      <td>50.25</td>\n",
       "    </tr>\n",
       "    <tr>\n",
       "      <th>DB</th>\n",
       "      <td>76</td>\n",
       "      <td>92</td>\n",
       "      <td>45</td>\n",
       "      <td>69</td>\n",
       "      <td>282</td>\n",
       "      <td>70.50</td>\n",
       "    </tr>\n",
       "    <tr>\n",
       "      <th>자바</th>\n",
       "      <td>47</td>\n",
       "      <td>92</td>\n",
       "      <td>45</td>\n",
       "      <td>69</td>\n",
       "      <td>253</td>\n",
       "      <td>63.25</td>\n",
       "    </tr>\n",
       "    <tr>\n",
       "      <th>크롤링</th>\n",
       "      <td>92</td>\n",
       "      <td>81</td>\n",
       "      <td>85</td>\n",
       "      <td>40</td>\n",
       "      <td>298</td>\n",
       "      <td>74.50</td>\n",
       "    </tr>\n",
       "    <tr>\n",
       "      <th>Web</th>\n",
       "      <td>11</td>\n",
       "      <td>79</td>\n",
       "      <td>47</td>\n",
       "      <td>26</td>\n",
       "      <td>163</td>\n",
       "      <td>40.75</td>\n",
       "    </tr>\n",
       "  </tbody>\n",
       "</table>\n",
       "</div>"
      ],
      "text/plain": [
       "     1반  2반  3반  4반   합계     평균\n",
       "과목                             \n",
       "파이썬  45  44  73  39  201  50.25\n",
       "DB   76  92  45  69  282  70.50\n",
       "자바   47  92  45  69  253  63.25\n",
       "크롤링  92  81  85  40  298  74.50\n",
       "Web  11  79  47  26  163  40.75"
      ]
     },
<<<<<<< HEAD
     "execution_count": 44,
=======
     "execution_count": 45,
>>>>>>> 835c6aaef1b5901dd22b752a4302c0f20ab57772
     "metadata": {},
     "output_type": "execute_result"
    }
   ],
   "source": [
    "# 문제 2 평균점수 '평균' 컬럼 추가\n",
    "scores['평균'] = scores.loc[:,'1반':'4반'].mean(axis=1)\n",
    "scores"
   ]
  },
  {
   "cell_type": "code",
<<<<<<< HEAD
   "execution_count": 45,
=======
   "execution_count": 46,
>>>>>>> 835c6aaef1b5901dd22b752a4302c0f20ab57772
   "metadata": {},
   "outputs": [],
   "source": [
    "# 문제 3 판평균 계산 후에 반 평균 행 추가하기 -- 행을 추가하는 방법 - 행 인덱싱은 loc를 활용해서 가능!!!!!!\n",
    "scores.loc['반평균'] = scores.mean()\n"
   ]
  },
  {
   "cell_type": "code",
<<<<<<< HEAD
   "execution_count": 46,
=======
   "execution_count": 47,
>>>>>>> 835c6aaef1b5901dd22b752a4302c0f20ab57772
   "metadata": {},
   "outputs": [
    {
     "data": {
      "text/html": [
       "<div>\n",
       "<style scoped>\n",
       "    .dataframe tbody tr th:only-of-type {\n",
       "        vertical-align: middle;\n",
       "    }\n",
       "\n",
       "    .dataframe tbody tr th {\n",
       "        vertical-align: top;\n",
       "    }\n",
       "\n",
       "    .dataframe thead th {\n",
       "        text-align: right;\n",
       "    }\n",
       "</style>\n",
       "<table border=\"1\" class=\"dataframe\">\n",
       "  <thead>\n",
       "    <tr style=\"text-align: right;\">\n",
       "      <th></th>\n",
       "      <th>1반</th>\n",
       "      <th>2반</th>\n",
       "      <th>3반</th>\n",
       "      <th>4반</th>\n",
       "      <th>합계</th>\n",
       "      <th>평균</th>\n",
       "    </tr>\n",
       "    <tr>\n",
       "      <th>과목</th>\n",
       "      <th></th>\n",
       "      <th></th>\n",
       "      <th></th>\n",
       "      <th></th>\n",
       "      <th></th>\n",
       "      <th></th>\n",
       "    </tr>\n",
       "  </thead>\n",
       "  <tbody>\n",
       "    <tr>\n",
       "      <th>파이썬</th>\n",
       "      <td>45.0</td>\n",
       "      <td>44.0</td>\n",
       "      <td>73.0</td>\n",
       "      <td>39.0</td>\n",
       "      <td>201.0</td>\n",
       "      <td>50.25</td>\n",
       "    </tr>\n",
       "    <tr>\n",
       "      <th>DB</th>\n",
       "      <td>76.0</td>\n",
       "      <td>92.0</td>\n",
       "      <td>45.0</td>\n",
       "      <td>69.0</td>\n",
       "      <td>282.0</td>\n",
       "      <td>70.50</td>\n",
       "    </tr>\n",
       "    <tr>\n",
       "      <th>자바</th>\n",
       "      <td>47.0</td>\n",
       "      <td>92.0</td>\n",
       "      <td>45.0</td>\n",
       "      <td>69.0</td>\n",
       "      <td>253.0</td>\n",
       "      <td>63.25</td>\n",
       "    </tr>\n",
       "    <tr>\n",
       "      <th>크롤링</th>\n",
       "      <td>92.0</td>\n",
       "      <td>81.0</td>\n",
       "      <td>85.0</td>\n",
       "      <td>40.0</td>\n",
       "      <td>298.0</td>\n",
       "      <td>74.50</td>\n",
       "    </tr>\n",
       "    <tr>\n",
       "      <th>Web</th>\n",
       "      <td>11.0</td>\n",
       "      <td>79.0</td>\n",
       "      <td>47.0</td>\n",
       "      <td>26.0</td>\n",
       "      <td>163.0</td>\n",
       "      <td>40.75</td>\n",
       "    </tr>\n",
       "    <tr>\n",
       "      <th>반평균</th>\n",
       "      <td>54.2</td>\n",
       "      <td>77.6</td>\n",
       "      <td>59.0</td>\n",
       "      <td>48.6</td>\n",
       "      <td>239.4</td>\n",
       "      <td>59.85</td>\n",
       "    </tr>\n",
       "  </tbody>\n",
       "</table>\n",
       "</div>"
      ],
      "text/plain": [
       "       1반    2반    3반    4반     합계     평균\n",
       "과목                                       \n",
       "파이썬  45.0  44.0  73.0  39.0  201.0  50.25\n",
       "DB   76.0  92.0  45.0  69.0  282.0  70.50\n",
       "자바   47.0  92.0  45.0  69.0  253.0  63.25\n",
       "크롤링  92.0  81.0  85.0  40.0  298.0  74.50\n",
       "Web  11.0  79.0  47.0  26.0  163.0  40.75\n",
       "반평균  54.2  77.6  59.0  48.6  239.4  59.85"
      ]
     },
<<<<<<< HEAD
     "execution_count": 46,
=======
     "execution_count": 47,
>>>>>>> 835c6aaef1b5901dd22b752a4302c0f20ab57772
     "metadata": {},
     "output_type": "execute_result"
    }
   ],
   "source": [
    "scores"
   ]
  },
  {
   "cell_type": "code",
<<<<<<< HEAD
   "execution_count": 47,
=======
   "execution_count": 48,
>>>>>>> 835c6aaef1b5901dd22b752a4302c0f20ab57772
   "metadata": {},
   "outputs": [],
   "source": [
    "scores.loc['반평균','합계':'평균']='-'"
   ]
  },
  {
   "cell_type": "code",
<<<<<<< HEAD
   "execution_count": 48,
=======
   "execution_count": 49,
>>>>>>> 835c6aaef1b5901dd22b752a4302c0f20ab57772
   "metadata": {},
   "outputs": [
    {
     "data": {
      "text/html": [
       "<div>\n",
       "<style scoped>\n",
       "    .dataframe tbody tr th:only-of-type {\n",
       "        vertical-align: middle;\n",
       "    }\n",
       "\n",
       "    .dataframe tbody tr th {\n",
       "        vertical-align: top;\n",
       "    }\n",
       "\n",
       "    .dataframe thead th {\n",
       "        text-align: right;\n",
       "    }\n",
       "</style>\n",
       "<table border=\"1\" class=\"dataframe\">\n",
       "  <thead>\n",
       "    <tr style=\"text-align: right;\">\n",
       "      <th></th>\n",
       "      <th>1반</th>\n",
       "      <th>2반</th>\n",
       "      <th>3반</th>\n",
       "      <th>4반</th>\n",
       "      <th>합계</th>\n",
       "      <th>평균</th>\n",
       "    </tr>\n",
       "    <tr>\n",
       "      <th>과목</th>\n",
       "      <th></th>\n",
       "      <th></th>\n",
       "      <th></th>\n",
       "      <th></th>\n",
       "      <th></th>\n",
       "      <th></th>\n",
       "    </tr>\n",
       "  </thead>\n",
       "  <tbody>\n",
       "    <tr>\n",
       "      <th>파이썬</th>\n",
       "      <td>45.0</td>\n",
       "      <td>44.0</td>\n",
       "      <td>73.0</td>\n",
       "      <td>39.0</td>\n",
       "      <td>201.0</td>\n",
       "      <td>50.25</td>\n",
       "    </tr>\n",
       "    <tr>\n",
       "      <th>DB</th>\n",
       "      <td>76.0</td>\n",
       "      <td>92.0</td>\n",
       "      <td>45.0</td>\n",
       "      <td>69.0</td>\n",
       "      <td>282.0</td>\n",
       "      <td>70.5</td>\n",
       "    </tr>\n",
       "    <tr>\n",
       "      <th>자바</th>\n",
       "      <td>47.0</td>\n",
       "      <td>92.0</td>\n",
       "      <td>45.0</td>\n",
       "      <td>69.0</td>\n",
       "      <td>253.0</td>\n",
       "      <td>63.25</td>\n",
       "    </tr>\n",
       "    <tr>\n",
       "      <th>크롤링</th>\n",
       "      <td>92.0</td>\n",
       "      <td>81.0</td>\n",
       "      <td>85.0</td>\n",
       "      <td>40.0</td>\n",
       "      <td>298.0</td>\n",
       "      <td>74.5</td>\n",
       "    </tr>\n",
       "    <tr>\n",
       "      <th>Web</th>\n",
       "      <td>11.0</td>\n",
       "      <td>79.0</td>\n",
       "      <td>47.0</td>\n",
       "      <td>26.0</td>\n",
       "      <td>163.0</td>\n",
       "      <td>40.75</td>\n",
       "    </tr>\n",
       "    <tr>\n",
       "      <th>반평균</th>\n",
       "      <td>54.2</td>\n",
       "      <td>77.6</td>\n",
       "      <td>59.0</td>\n",
       "      <td>48.6</td>\n",
       "      <td>-</td>\n",
       "      <td>-</td>\n",
       "    </tr>\n",
       "  </tbody>\n",
       "</table>\n",
       "</div>"
      ],
      "text/plain": [
       "       1반    2반    3반    4반     합계     평균\n",
       "과목                                       \n",
       "파이썬  45.0  44.0  73.0  39.0  201.0  50.25\n",
       "DB   76.0  92.0  45.0  69.0  282.0   70.5\n",
       "자바   47.0  92.0  45.0  69.0  253.0  63.25\n",
       "크롤링  92.0  81.0  85.0  40.0  298.0   74.5\n",
       "Web  11.0  79.0  47.0  26.0  163.0  40.75\n",
       "반평균  54.2  77.6  59.0  48.6      -      -"
      ]
     },
<<<<<<< HEAD
     "execution_count": 48,
=======
     "execution_count": 49,
>>>>>>> 835c6aaef1b5901dd22b752a4302c0f20ab57772
     "metadata": {},
     "output_type": "execute_result"
    }
   ],
   "source": [
    "scores"
   ]
  },
  {
   "cell_type": "code",
   "execution_count": 50,
   "metadata": {},
   "outputs": [
    {
     "name": "stdout",
     "output_type": "stream",
     "text": [
      "과목\n",
      "파이썬    73.0\n",
      "DB     92.0\n",
      "자바     92.0\n",
      "크롤링    92.0\n",
      "Web    79.0\n",
      "dtype: float64\n",
      "과목\n",
      "파이썬    39.0\n",
      "DB     45.0\n",
      "자바     45.0\n",
      "크롤링    40.0\n",
      "Web    11.0\n",
      "dtype: float64\n",
      "과목\n",
      "파이썬    34.0\n",
      "DB     47.0\n",
      "자바     47.0\n",
      "크롤링    52.0\n",
      "Web    68.0\n",
      "dtype: float64\n"
     ]
    }
   ],
   "source": [
    "# 과목별 가장 높은 점수와 가장 낮은 점수의 차이\n",
    "# 가장 높은 점수를 MaxScore 변수에 담아주기 -> 변수명.max()\n",
    "# 가장 낮은 점수를 minScore 변수에 담아주기 --> .min()\n",
    "maxScore = scores.loc['파이썬':'Web','1반':'4반'].max(axis=1)\n",
    "print(maxScore)\n",
    "minScore = scores.loc['파이썬':'Web','1반':'4반'].min(axis=1)\n",
    "print(minScore)\n",
    "print(maxScore - minScore)"
   ]
  },
  {
   "attachments": {},
   "cell_type": "markdown",
   "metadata": {},
   "source": [
    "# apply 함수\n",
    "- 행 또는 열 단위로 함수를 적용하고 싶을 때 사용한다.\n",
    "- pandas 객체 (Series, DataFrame)  ----> 다른 함수를 적용할 때(apply)\n",
    "- df.apply(함수,axis = 0 or 1 ) default 값은 0"
   ]
  },
  {
   "cell_type": "code",
   "execution_count": 51,
   "metadata": {},
   "outputs": [],
   "source": [
    "def max_min(x):\n",
    "    return x.max() - x.min()"
   ]
  },
  {
   "cell_type": "code",
   "execution_count": 52,
   "metadata": {},
   "outputs": [
    {
     "data": {
      "text/plain": [
       "과목\n",
       "파이썬    34.0\n",
       "DB     47.0\n",
       "자바     47.0\n",
       "크롤링    52.0\n",
       "Web    68.0\n",
       "dtype: float64"
      ]
     },
     "execution_count": 52,
     "metadata": {},
     "output_type": "execute_result"
    }
   ],
   "source": [
    "scores.loc['파이썬':'Web','1반':'4반'].apply(max_min,axis=1)"
   ]
  },
  {
   "cell_type": "code",
   "execution_count": 55,
   "metadata": {},
   "outputs": [
    {
     "data": {
      "text/plain": [
       "['안녕하세요', '즐거운', '수요일', ':', '파이썬', '시간']"
      ]
     },
     "execution_count": 55,
     "metadata": {},
     "output_type": "execute_result"
    }
   ],
   "source": [
    "# appply 추가 예제\n",
    "# 문자열을 나누는\n",
    "s1 = '안녕하세요 즐거운 수요일 : 파이썬 시간'\n",
    "strings = s1.split(' ')\n",
    "strings"
   ]
  },
  {
   "cell_type": "code",
   "execution_count": 69,
   "metadata": {},
   "outputs": [
    {
     "data": {
      "text/html": [
       "<div>\n",
       "<style scoped>\n",
       "    .dataframe tbody tr th:only-of-type {\n",
       "        vertical-align: middle;\n",
       "    }\n",
       "\n",
       "    .dataframe tbody tr th {\n",
       "        vertical-align: top;\n",
       "    }\n",
       "\n",
       "    .dataframe thead th {\n",
       "        text-align: right;\n",
       "    }\n",
       "</style>\n",
       "<table border=\"1\" class=\"dataframe\">\n",
       "  <thead>\n",
       "    <tr style=\"text-align: right;\">\n",
       "      <th></th>\n",
       "      <th>yyyy-mm-dd</th>\n",
       "    </tr>\n",
       "  </thead>\n",
       "  <tbody>\n",
       "    <tr>\n",
       "      <th>0</th>\n",
       "      <td>2003-03-13</td>\n",
       "    </tr>\n",
       "    <tr>\n",
       "      <th>1</th>\n",
       "      <td>2017-10-20</td>\n",
       "    </tr>\n",
       "    <tr>\n",
       "      <th>2</th>\n",
       "      <td>2022-05-28</td>\n",
       "    </tr>\n",
       "  </tbody>\n",
       "</table>\n",
       "</div>"
      ],
      "text/plain": [
       "   yyyy-mm-dd\n",
       "0  2003-03-13\n",
       "1  2017-10-20\n",
       "2  2022-05-28"
      ]
     },
     "execution_count": 69,
     "metadata": {},
     "output_type": "execute_result"
    }
   ],
   "source": [
    "date_list = [{'yyyy-mm-dd': '2003-03-13'},\n",
    "            {'yyyy-mm-dd': '2017-10-20'},\n",
    "            {'yyyy-mm-dd': '2022-05-28'}]\n",
    "\n",
    "\n",
    "df = pd.DataFrame(date_list)\n",
    "df"
   ]
  },
  {
   "cell_type": "code",
   "execution_count": 66,
   "metadata": {},
   "outputs": [],
   "source": [
    "def s_year(x):\n",
    "    return x.split('-')[0]"
   ]
  },
  {
   "cell_type": "code",
   "execution_count": 76,
   "metadata": {},
   "outputs": [
    {
     "data": {
      "text/html": [
       "<div>\n",
       "<style scoped>\n",
       "    .dataframe tbody tr th:only-of-type {\n",
       "        vertical-align: middle;\n",
       "    }\n",
       "\n",
       "    .dataframe tbody tr th {\n",
       "        vertical-align: top;\n",
       "    }\n",
       "\n",
       "    .dataframe thead th {\n",
       "        text-align: right;\n",
       "    }\n",
       "</style>\n",
       "<table border=\"1\" class=\"dataframe\">\n",
       "  <thead>\n",
       "    <tr style=\"text-align: right;\">\n",
       "      <th></th>\n",
       "      <th>yyyy-mm-dd</th>\n",
       "      <th>year</th>\n",
       "    </tr>\n",
       "  </thead>\n",
       "  <tbody>\n",
       "    <tr>\n",
       "      <th>0</th>\n",
       "      <td>2003-03-13</td>\n",
       "      <td>2003</td>\n",
       "    </tr>\n",
       "    <tr>\n",
       "      <th>1</th>\n",
       "      <td>2017-10-20</td>\n",
       "      <td>2017</td>\n",
       "    </tr>\n",
       "    <tr>\n",
       "      <th>2</th>\n",
       "      <td>2022-05-28</td>\n",
       "      <td>2022</td>\n",
       "    </tr>\n",
       "  </tbody>\n",
       "</table>\n",
       "</div>"
      ],
      "text/plain": [
       "   yyyy-mm-dd  year\n",
       "0  2003-03-13  2003\n",
       "1  2017-10-20  2017\n",
       "2  2022-05-28  2022"
      ]
     },
     "execution_count": 76,
     "metadata": {},
     "output_type": "execute_result"
    }
   ],
   "source": [
    "# 새로 만들어진 데이터 df ['year']라는 새로운 컬럼을 출력\n",
    "\n",
    "df['year'] = df['yyyy-mm-dd'].apply(s_year)\n",
    "df"
   ]
  },
  {
   "cell_type": "code",
   "execution_count": 79,
   "metadata": {},
   "outputs": [
    {
     "data": {
      "text/html": [
       "<div>\n",
       "<style scoped>\n",
       "    .dataframe tbody tr th:only-of-type {\n",
       "        vertical-align: middle;\n",
       "    }\n",
       "\n",
       "    .dataframe tbody tr th {\n",
       "        vertical-align: top;\n",
       "    }\n",
       "\n",
       "    .dataframe thead th {\n",
       "        text-align: right;\n",
       "    }\n",
       "</style>\n",
       "<table border=\"1\" class=\"dataframe\">\n",
       "  <thead>\n",
       "    <tr style=\"text-align: right;\">\n",
       "      <th></th>\n",
       "      <th>A</th>\n",
       "      <th>B</th>\n",
       "      <th>C</th>\n",
       "    </tr>\n",
       "  </thead>\n",
       "  <tbody>\n",
       "    <tr>\n",
       "      <th>0</th>\n",
       "      <td>1</td>\n",
       "      <td>1</td>\n",
       "      <td>1</td>\n",
       "    </tr>\n",
       "    <tr>\n",
       "      <th>1</th>\n",
       "      <td>3</td>\n",
       "      <td>2</td>\n",
       "      <td>2</td>\n",
       "    </tr>\n",
       "    <tr>\n",
       "      <th>2</th>\n",
       "      <td>3</td>\n",
       "      <td>2</td>\n",
       "      <td>4</td>\n",
       "    </tr>\n",
       "    <tr>\n",
       "      <th>3</th>\n",
       "      <td>4</td>\n",
       "      <td>3</td>\n",
       "      <td>4</td>\n",
       "    </tr>\n",
       "    <tr>\n",
       "      <th>4</th>\n",
       "      <td>4</td>\n",
       "      <td>3</td>\n",
       "      <td>5</td>\n",
       "    </tr>\n",
       "  </tbody>\n",
       "</table>\n",
       "</div>"
      ],
      "text/plain": [
       "   A  B  C\n",
       "0  1  1  1\n",
       "1  3  2  2\n",
       "2  3  2  4\n",
       "3  4  3  4\n",
       "4  4  3  5"
      ]
     },
     "execution_count": 79,
     "metadata": {},
     "output_type": "execute_result"
    }
   ],
   "source": [
    "df = pd.DataFrame({'A':[1,3,3,4,4],\n",
    "                   'B':[1,2,2,3,3],\n",
    "                   'C':[1,2,4,4,5]})\n",
    "df"
   ]
  },
  {
   "cell_type": "code",
   "execution_count": 84,
   "metadata": {},
   "outputs": [
    {
     "data": {
      "text/plain": [
       "3    2\n",
       "4    2\n",
       "1    1\n",
       "Name: A, dtype: int64"
      ]
     },
     "execution_count": 84,
     "metadata": {},
     "output_type": "execute_result"
    }
   ],
   "source": [
    "# value_counts value들을 분포를 구한다.? 즉 어떤 값이 몇개인지 판단한다..\n",
    "# ex\n",
    "df['A'].value_counts()\n",
    "# 아래의 의미 3개의 값이 2개 4의 값이 2개 1의 값이 1개\n"
   ]
  },
  {
   "attachments": {},
   "cell_type": "markdown",
   "metadata": {},
   "source": [
    "# 카테고리를 생성하는 기능\n",
    "- 카테고리란 범주화 해주는 것? 라벨링? 기준을 정하고 묶어준다"
   ]
  },
  {
   "cell_type": "code",
   "execution_count": 88,
   "metadata": {},
   "outputs": [
    {
     "data": {
      "text/plain": [
       "['미성년자', '미성년자', '미성년자', '미성년자', '청년', ..., '노년', '노년', '노년', '중년', '노년']\n",
       "Length: 14\n",
       "Categories (4, object): ['미성년자' < '청년' < '중년' < '노년']"
      ]
     },
     "execution_count": 88,
     "metadata": {},
     "output_type": "execute_result"
    }
   ],
   "source": [
    "# 나이데이터로 카테고리를 생성\n",
    "# 데이터 생성\n",
    "ages = [0,2,10,15,21,30,24,29,40,66,90,81,53,77]\n",
    "# 범주를 어떻게 할 것인가?\n",
    "# bins(범주) 데이터를 나누는 기준(범위)\n",
    "# 범위를 정하는 경우 (시작기준 +1 , 끝 기준) 이렇게 범위를 나눔 그러므로 범위는 시작 기준 -1 해서 표현할 것\n",
    "bins = [-1,19,39,59,100]\n",
    "labels = ['미성년자', '청년', '중년', '노년']\n",
    "# 0~ 19 미성년\n",
    "# 20~ 39 청년\n",
    "# 40 ~ 59 중년\n",
    "# 60~ 100 노년\n",
    "cate= pd.cut(ages,bins,labels = labels)\n",
    "cate"
   ]
  },
  {
   "cell_type": "code",
   "execution_count": 95,
   "metadata": {},
   "outputs": [],
   "source": [
    "# ages 데이터를 데이터 프레임으로 생성하기\n",
    "# 리스트데이터를 가지고 데이터 프레임 생성\n",
    "# 리스트 columns 의 경우 column이 여러개일 경우가 존재 ----> 컬럼 자체도 리스트화 해서 입력해줘야한다. \n",
    "categories = pd.DataFrame(ages, columns=['ages'])"
   ]
  },
  {
   "cell_type": "code",
   "execution_count": 99,
   "metadata": {},
   "outputs": [
    {
     "data": {
      "text/html": [
       "<div>\n",
       "<style scoped>\n",
       "    .dataframe tbody tr th:only-of-type {\n",
       "        vertical-align: middle;\n",
       "    }\n",
       "\n",
       "    .dataframe tbody tr th {\n",
       "        vertical-align: top;\n",
       "    }\n",
       "\n",
       "    .dataframe thead th {\n",
       "        text-align: right;\n",
       "    }\n",
       "</style>\n",
       "<table border=\"1\" class=\"dataframe\">\n",
       "  <thead>\n",
       "    <tr style=\"text-align: right;\">\n",
       "      <th></th>\n",
       "      <th>ages</th>\n",
       "      <th>카테고리</th>\n",
       "    </tr>\n",
       "  </thead>\n",
       "  <tbody>\n",
       "    <tr>\n",
       "      <th>0</th>\n",
       "      <td>0</td>\n",
       "      <td>미성년자</td>\n",
       "    </tr>\n",
       "    <tr>\n",
       "      <th>1</th>\n",
       "      <td>2</td>\n",
       "      <td>미성년자</td>\n",
       "    </tr>\n",
       "    <tr>\n",
       "      <th>2</th>\n",
       "      <td>10</td>\n",
       "      <td>미성년자</td>\n",
       "    </tr>\n",
       "    <tr>\n",
       "      <th>3</th>\n",
       "      <td>15</td>\n",
       "      <td>미성년자</td>\n",
       "    </tr>\n",
       "    <tr>\n",
       "      <th>4</th>\n",
       "      <td>21</td>\n",
       "      <td>청년</td>\n",
       "    </tr>\n",
       "    <tr>\n",
       "      <th>5</th>\n",
       "      <td>30</td>\n",
       "      <td>청년</td>\n",
       "    </tr>\n",
       "    <tr>\n",
       "      <th>6</th>\n",
       "      <td>24</td>\n",
       "      <td>청년</td>\n",
       "    </tr>\n",
       "    <tr>\n",
       "      <th>7</th>\n",
       "      <td>29</td>\n",
       "      <td>청년</td>\n",
       "    </tr>\n",
       "    <tr>\n",
       "      <th>8</th>\n",
       "      <td>40</td>\n",
       "      <td>중년</td>\n",
       "    </tr>\n",
       "    <tr>\n",
       "      <th>9</th>\n",
       "      <td>66</td>\n",
       "      <td>노년</td>\n",
       "    </tr>\n",
       "    <tr>\n",
       "      <th>10</th>\n",
       "      <td>90</td>\n",
       "      <td>노년</td>\n",
       "    </tr>\n",
       "    <tr>\n",
       "      <th>11</th>\n",
       "      <td>81</td>\n",
       "      <td>노년</td>\n",
       "    </tr>\n",
       "    <tr>\n",
       "      <th>12</th>\n",
       "      <td>53</td>\n",
       "      <td>중년</td>\n",
       "    </tr>\n",
       "    <tr>\n",
       "      <th>13</th>\n",
       "      <td>77</td>\n",
       "      <td>노년</td>\n",
       "    </tr>\n",
       "  </tbody>\n",
       "</table>\n",
       "</div>"
      ],
      "text/plain": [
       "    ages  카테고리\n",
       "0      0  미성년자\n",
       "1      2  미성년자\n",
       "2     10  미성년자\n",
       "3     15  미성년자\n",
       "4     21    청년\n",
       "5     30    청년\n",
       "6     24    청년\n",
       "7     29    청년\n",
       "8     40    중년\n",
       "9     66    노년\n",
       "10    90    노년\n",
       "11    81    노년\n",
       "12    53    중년\n",
       "13    77    노년"
      ]
     },
     "execution_count": 99,
     "metadata": {},
     "output_type": "execute_result"
    }
   ],
   "source": [
    "# 각 나이데이터에 부합하는 카테고리화된 결과를 컬럼추가 해주자\n",
    "categories['카테고리'] = cate\n",
    "categories\n",
    "\n"
   ]
  },
  {
   "cell_type": "code",
   "execution_count": 101,
   "metadata": {},
   "outputs": [
    {
     "data": {
      "text/plain": [
       "미성년자    4\n",
       "청년      4\n",
       "노년      4\n",
       "중년      2\n",
       "Name: 카테고리, dtype: int64"
      ]
     },
     "execution_count": 101,
     "metadata": {},
     "output_type": "execute_result"
    }
   ],
   "source": [
    "# 카테고리 별로 나이대 몇명인지 확인\n",
    "categories['카테고리'].value_counts()"
   ]
  },
  {
   "cell_type": "code",
   "execution_count": 104,
   "metadata": {},
   "outputs": [
    {
     "name": "stdout",
     "output_type": "stream",
     "text": [
      "    A   B   C\n",
      "0  A0  B0  C0\n",
      "1  A1  B1  C1\n",
      "2  A2  B2  C2\n",
      "3  A3  B3  C3\n",
      "    A   B   C\n",
      "4  A4  B4  C4\n",
      "5  A5  B5  C5\n",
      "6  A6  B6  C6\n",
      "7  A7  B7  C7\n",
      "      A    B    C\n",
      "8    A8   B8   C8\n",
      "9    A9   B9   C9\n",
      "10  A10  B10  C10\n",
      "11  A11  B11  C11\n"
     ]
    }
   ],
   "source": [
    "# 데이터 프레임 병합하기\n",
    "# concat([df1,df2,df3])\n",
    "# concat(s1,s2,s3)\n",
    "df1 = pd.DataFrame({'A':['A0','A1','A2','A3'],\n",
    "                    'B':['B0','B1','B2','B3'],\n",
    "                    'C':['C0','C1','C2','C3']\n",
    "                   }, index = [0,1,2,3])\n",
    "\n",
    "df2 = pd.DataFrame({'A':['A4','A5','A6','A7'],\n",
    "                    'B':['B4','B5','B6','B7'],\n",
    "                    'C':['C4','C5','C6','C7']},\n",
    "                  index= [4,5,6,7])\n",
    "\n",
    "df3 = pd.DataFrame({'A':['A8','A9','A10','A11'],\n",
    "                    'B':['B8','B9','B10','B11'],\n",
    "                    'C':['C8','C9','C10','C11']},\n",
    "                  index= [8,9,10,11])\n",
    "print(df1)\n",
    "print(df2)\n",
    "print(df3)"
   ]
  },
  {
   "cell_type": "code",
   "execution_count": 106,
   "metadata": {},
   "outputs": [
    {
     "data": {
      "text/html": [
       "<div>\n",
       "<style scoped>\n",
       "    .dataframe tbody tr th:only-of-type {\n",
       "        vertical-align: middle;\n",
       "    }\n",
       "\n",
       "    .dataframe tbody tr th {\n",
       "        vertical-align: top;\n",
       "    }\n",
       "\n",
       "    .dataframe thead th {\n",
       "        text-align: right;\n",
       "    }\n",
       "</style>\n",
       "<table border=\"1\" class=\"dataframe\">\n",
       "  <thead>\n",
       "    <tr style=\"text-align: right;\">\n",
       "      <th></th>\n",
       "      <th>A</th>\n",
       "      <th>B</th>\n",
       "      <th>C</th>\n",
       "    </tr>\n",
       "  </thead>\n",
       "  <tbody>\n",
       "    <tr>\n",
       "      <th>0</th>\n",
       "      <td>A0</td>\n",
       "      <td>B0</td>\n",
       "      <td>C0</td>\n",
       "    </tr>\n",
       "    <tr>\n",
       "      <th>1</th>\n",
       "      <td>A1</td>\n",
       "      <td>B1</td>\n",
       "      <td>C1</td>\n",
       "    </tr>\n",
       "    <tr>\n",
       "      <th>2</th>\n",
       "      <td>A2</td>\n",
       "      <td>B2</td>\n",
       "      <td>C2</td>\n",
       "    </tr>\n",
       "    <tr>\n",
       "      <th>3</th>\n",
       "      <td>A3</td>\n",
       "      <td>B3</td>\n",
       "      <td>C3</td>\n",
       "    </tr>\n",
       "    <tr>\n",
       "      <th>4</th>\n",
       "      <td>A4</td>\n",
       "      <td>B4</td>\n",
       "      <td>C4</td>\n",
       "    </tr>\n",
       "    <tr>\n",
       "      <th>5</th>\n",
       "      <td>A5</td>\n",
       "      <td>B5</td>\n",
       "      <td>C5</td>\n",
       "    </tr>\n",
       "    <tr>\n",
       "      <th>6</th>\n",
       "      <td>A6</td>\n",
       "      <td>B6</td>\n",
       "      <td>C6</td>\n",
       "    </tr>\n",
       "    <tr>\n",
       "      <th>7</th>\n",
       "      <td>A7</td>\n",
       "      <td>B7</td>\n",
       "      <td>C7</td>\n",
       "    </tr>\n",
       "    <tr>\n",
       "      <th>8</th>\n",
       "      <td>A8</td>\n",
       "      <td>B8</td>\n",
       "      <td>C8</td>\n",
       "    </tr>\n",
       "    <tr>\n",
       "      <th>9</th>\n",
       "      <td>A9</td>\n",
       "      <td>B9</td>\n",
       "      <td>C9</td>\n",
       "    </tr>\n",
       "    <tr>\n",
       "      <th>10</th>\n",
       "      <td>A10</td>\n",
       "      <td>B10</td>\n",
       "      <td>C10</td>\n",
       "    </tr>\n",
       "    <tr>\n",
       "      <th>11</th>\n",
       "      <td>A11</td>\n",
       "      <td>B11</td>\n",
       "      <td>C11</td>\n",
       "    </tr>\n",
       "  </tbody>\n",
       "</table>\n",
       "</div>"
      ],
      "text/plain": [
       "      A    B    C\n",
       "0    A0   B0   C0\n",
       "1    A1   B1   C1\n",
       "2    A2   B2   C2\n",
       "3    A3   B3   C3\n",
       "4    A4   B4   C4\n",
       "5    A5   B5   C5\n",
       "6    A6   B6   C6\n",
       "7    A7   B7   C7\n",
       "8    A8   B8   C8\n",
       "9    A9   B9   C9\n",
       "10  A10  B10  C10\n",
       "11  A11  B11  C11"
      ]
     },
     "execution_count": 106,
     "metadata": {},
     "output_type": "execute_result"
    }
   ],
   "source": [
    "# 병합하기\n",
    "pd.concat([df1,df2,df3])"
   ]
  },
  {
   "cell_type": "code",
   "execution_count": 117,
   "metadata": {},
   "outputs": [],
   "source": [
    "# 계층적으로 데이터를 관리하기 위해\n",
    "# 다중 인덱스 부여하기\n",
    "df4 =pd.concat([df1,df2,df3],keys = ['x','y','z'])"
   ]
  },
  {
   "cell_type": "code",
   "execution_count": 113,
   "metadata": {},
   "outputs": [
    {
     "data": {
      "text/html": [
       "<div>\n",
       "<style scoped>\n",
       "    .dataframe tbody tr th:only-of-type {\n",
       "        vertical-align: middle;\n",
       "    }\n",
       "\n",
       "    .dataframe tbody tr th {\n",
       "        vertical-align: top;\n",
       "    }\n",
       "\n",
       "    .dataframe thead th {\n",
       "        text-align: right;\n",
       "    }\n",
       "</style>\n",
       "<table border=\"1\" class=\"dataframe\">\n",
       "  <thead>\n",
       "    <tr style=\"text-align: right;\">\n",
       "      <th></th>\n",
       "      <th>A</th>\n",
       "      <th>B</th>\n",
       "      <th>C</th>\n",
       "      <th>A</th>\n",
       "      <th>B</th>\n",
       "      <th>C</th>\n",
       "      <th>A</th>\n",
       "      <th>B</th>\n",
       "      <th>C</th>\n",
       "    </tr>\n",
       "  </thead>\n",
       "  <tbody>\n",
       "  </tbody>\n",
       "</table>\n",
       "</div>"
      ],
      "text/plain": [
       "Empty DataFrame\n",
       "Columns: [A, B, C, A, B, C, A, B, C]\n",
       "Index: []"
      ]
     },
     "execution_count": 113,
     "metadata": {},
     "output_type": "execute_result"
    }
   ],
   "source": [
    "# concat() 병합해주는 축설정 기본값이 0 으로 행단위 병합이 된다.\n",
    "# 열단위로 병합해주고 싶을 때에는 axis = 1\n",
    "\n",
    "pd.concat([df1,df2,df3],axis=1)\n",
    "pd.concat([df1,df2,df3],axis=1, join = 'inner')"
   ]
  },
  {
   "attachments": {
    "image.png": {
     "image/png": "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"
    }
   },
   "cell_type": "markdown",
   "metadata": {},
   "source": [
    "![image.png](attachment:image.png)"
   ]
  },
  {
   "cell_type": "code",
   "execution_count": 115,
   "metadata": {},
   "outputs": [],
   "source": [
    "# innerjoin"
   ]
  },
  {
   "cell_type": "code",
   "execution_count": 119,
   "metadata": {},
   "outputs": [
    {
     "data": {
      "text/html": [
       "<div>\n",
       "<style scoped>\n",
       "    .dataframe tbody tr th:only-of-type {\n",
       "        vertical-align: middle;\n",
       "    }\n",
       "\n",
       "    .dataframe tbody tr th {\n",
       "        vertical-align: top;\n",
       "    }\n",
       "\n",
       "    .dataframe thead th {\n",
       "        text-align: right;\n",
       "    }\n",
       "</style>\n",
       "<table border=\"1\" class=\"dataframe\">\n",
       "  <thead>\n",
       "    <tr style=\"text-align: right;\">\n",
       "      <th></th>\n",
       "      <th>A</th>\n",
       "      <th>B</th>\n",
       "      <th>C</th>\n",
       "    </tr>\n",
       "  </thead>\n",
       "  <tbody>\n",
       "    <tr>\n",
       "      <th>0</th>\n",
       "      <td>A0</td>\n",
       "      <td>B0</td>\n",
       "      <td>C0</td>\n",
       "    </tr>\n",
       "    <tr>\n",
       "      <th>1</th>\n",
       "      <td>A1</td>\n",
       "      <td>B1</td>\n",
       "      <td>C1</td>\n",
       "    </tr>\n",
       "    <tr>\n",
       "      <th>2</th>\n",
       "      <td>A2</td>\n",
       "      <td>B2</td>\n",
       "      <td>C2</td>\n",
       "    </tr>\n",
       "    <tr>\n",
       "      <th>3</th>\n",
       "      <td>A3</td>\n",
       "      <td>B3</td>\n",
       "      <td>C3</td>\n",
       "    </tr>\n",
       "    <tr>\n",
       "      <th>4</th>\n",
       "      <td>A0</td>\n",
       "      <td>B0</td>\n",
       "      <td>C0</td>\n",
       "    </tr>\n",
       "    <tr>\n",
       "      <th>5</th>\n",
       "      <td>A1</td>\n",
       "      <td>B1</td>\n",
       "      <td>C1</td>\n",
       "    </tr>\n",
       "    <tr>\n",
       "      <th>6</th>\n",
       "      <td>A2</td>\n",
       "      <td>B2</td>\n",
       "      <td>C2</td>\n",
       "    </tr>\n",
       "    <tr>\n",
       "      <th>7</th>\n",
       "      <td>A3</td>\n",
       "      <td>B3</td>\n",
       "      <td>C3</td>\n",
       "    </tr>\n",
       "    <tr>\n",
       "      <th>8</th>\n",
       "      <td>A4</td>\n",
       "      <td>B4</td>\n",
       "      <td>C4</td>\n",
       "    </tr>\n",
       "    <tr>\n",
       "      <th>9</th>\n",
       "      <td>A5</td>\n",
       "      <td>B5</td>\n",
       "      <td>C5</td>\n",
       "    </tr>\n",
       "    <tr>\n",
       "      <th>10</th>\n",
       "      <td>A6</td>\n",
       "      <td>B6</td>\n",
       "      <td>C6</td>\n",
       "    </tr>\n",
       "    <tr>\n",
       "      <th>11</th>\n",
       "      <td>A7</td>\n",
       "      <td>B7</td>\n",
       "      <td>C7</td>\n",
       "    </tr>\n",
       "    <tr>\n",
       "      <th>12</th>\n",
       "      <td>A8</td>\n",
       "      <td>B8</td>\n",
       "      <td>C8</td>\n",
       "    </tr>\n",
       "    <tr>\n",
       "      <th>13</th>\n",
       "      <td>A9</td>\n",
       "      <td>B9</td>\n",
       "      <td>C9</td>\n",
       "    </tr>\n",
       "    <tr>\n",
       "      <th>14</th>\n",
       "      <td>A10</td>\n",
       "      <td>B10</td>\n",
       "      <td>C10</td>\n",
       "    </tr>\n",
       "    <tr>\n",
       "      <th>15</th>\n",
       "      <td>A11</td>\n",
       "      <td>B11</td>\n",
       "      <td>C11</td>\n",
       "    </tr>\n",
       "  </tbody>\n",
       "</table>\n",
       "</div>"
      ],
      "text/plain": [
       "      A    B    C\n",
       "0    A0   B0   C0\n",
       "1    A1   B1   C1\n",
       "2    A2   B2   C2\n",
       "3    A3   B3   C3\n",
       "4    A0   B0   C0\n",
       "5    A1   B1   C1\n",
       "6    A2   B2   C2\n",
       "7    A3   B3   C3\n",
       "8    A4   B4   C4\n",
       "9    A5   B5   C5\n",
       "10   A6   B6   C6\n",
       "11   A7   B7   C7\n",
       "12   A8   B8   C8\n",
       "13   A9   B9   C9\n",
       "14  A10  B10  C10\n",
       "15  A11  B11  C11"
      ]
     },
     "execution_count": 119,
     "metadata": {},
     "output_type": "execute_result"
    }
   ],
   "source": [
    "# 기존의 인덱스 번호를 무시하ㅗㄱ 새로운 번호를 부여하는 방법\n",
    "pd.concat([df1,df4],join='inner',ignore_index=True)"
   ]
  },
  {
   "cell_type": "code",
   "execution_count": null,
   "metadata": {},
   "outputs": [],
   "source": []
  }
 ],
 "metadata": {
  "kernelspec": {
   "display_name": "Python 3",
   "language": "python",
   "name": "python3"
  },
  "language_info": {
   "codemirror_mode": {
    "name": "ipython",
    "version": 3
   },
   "file_extension": ".py",
   "mimetype": "text/x-python",
   "name": "python",
   "nbconvert_exporter": "python",
   "pygments_lexer": "ipython3",
   "version": "3.10.10"
  },
  "orig_nbformat": 4
 },
 "nbformat": 4,
 "nbformat_minor": 2
}
