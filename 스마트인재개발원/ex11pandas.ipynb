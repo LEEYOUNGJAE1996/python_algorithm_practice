{
 "cells": [
  {
   "attachments": {},
   "cell_type": "markdown",
   "metadata": {},
   "source": [
    "# Pandas(Panel datas)\n",
    "표 형태의 데이터\n",
    "    <br>\n",
    "    <br>\n",
    "    <br>\n",
    "- series data\n",
    "\n",
    "\n",
    "- DataFrame class 2차원 : 행과 열을 가지는 표와 같은 형태\n"
   ]
  },
  {
   "cell_type": "code",
   "execution_count": 2,
   "metadata": {},
   "outputs": [
    {
     "data": {
      "text/plain": [
       "0    9668465\n",
       "1    3391946\n",
       "2    2942828\n",
       "3    1450062\n",
       "dtype: int64"
      ]
     },
     "execution_count": 2,
     "metadata": {},
     "output_type": "execute_result"
    }
   ],
   "source": [
    "# series 데이터 생성\n",
    "import pandas as pd\n",
    "population = pd.Series([9668465,3391946,2942828,1450062])\n",
    "population"
   ]
  },
  {
   "cell_type": "code",
   "execution_count": 4,
   "metadata": {},
   "outputs": [
    {
     "data": {
      "text/plain": [
       "서울    9668465\n",
       "부산    3391946\n",
       "인천    2942828\n",
       "광주    1450062\n",
       "dtype: int64"
      ]
     },
     "execution_count": 4,
     "metadata": {},
     "output_type": "execute_result"
    }
   ],
   "source": [
    "# 인덱스에 이름을 지정하면서 생성\n",
    "population = pd.Series([9668465,3391946,2942828,1450062],index = ['서울','부산','인천','광주'])\n",
    "population"
   ]
  },
  {
   "cell_type": "code",
   "execution_count": 6,
   "metadata": {},
   "outputs": [
    {
     "data": {
      "text/plain": [
       "array([9668465, 3391946, 2942828, 1450062], dtype=int64)"
      ]
     },
     "execution_count": 6,
     "metadata": {},
     "output_type": "execute_result"
    }
   ],
   "source": [
    "# Series 데이터 확인하기\n",
    "# Series에 값만 확인하기\n",
    "population.values"
   ]
  },
  {
   "cell_type": "code",
   "execution_count": 8,
   "metadata": {},
   "outputs": [
    {
     "data": {
      "text/plain": [
       "Index(['서울', '부산', '인천', '광주'], dtype='object')"
      ]
     },
     "execution_count": 8,
     "metadata": {},
     "output_type": "execute_result"
    }
   ],
   "source": [
    "# Seires에 인덱스값 확인하기\n",
    "population.index"
   ]
  },
  {
   "cell_type": "code",
   "execution_count": 12,
   "metadata": {},
   "outputs": [
    {
     "data": {
      "text/plain": [
       "dtype('int64')"
      ]
     },
     "execution_count": 12,
     "metadata": {},
     "output_type": "execute_result"
    }
   ],
   "source": [
    "# Series 데이터 타입 확인하기\n",
    "# Series의 데이터 타입은 실제 value 값을 기준으로 출력\n",
    "population.dtype\n",
    "# print(type(population.values))"
   ]
  },
  {
   "cell_type": "code",
   "execution_count": 15,
   "metadata": {},
   "outputs": [
    {
     "data": {
      "text/plain": [
       "서울    9668465\n",
       "부산    3391946\n",
       "인천    2942828\n",
       "광주    1450062\n",
       "Name: 인구, dtype: int64"
      ]
     },
     "execution_count": 15,
     "metadata": {},
     "output_type": "execute_result"
    }
   ],
   "source": [
    "# Serues  데이터 이름 지정하기\n",
    "population.name = '인구'\n",
    "population"
   ]
  },
  {
   "cell_type": "code",
   "execution_count": 18,
   "metadata": {},
   "outputs": [],
   "source": [
    "# Series 데이터 인덱스 이름 지정하기\n",
    "population.index.name = '도시'\n",
    "\n",
    "# values 값 확인\n",
    "# index 인덱스 확인\n",
    "# dtype 데이터 타입 확인 - values 기준\n",
    "# name : Series의 이름 지정\n",
    "# index.name : 인덱스의 이름 지정"
   ]
  },
  {
   "cell_type": "code",
   "execution_count": 20,
   "metadata": {},
   "outputs": [
    {
     "data": {
      "text/plain": [
       "도시\n",
       "서울    9.668465\n",
       "부산    3.391946\n",
       "인천    2.942828\n",
       "광주    1.450062\n",
       "Name: 인구, dtype: float64"
      ]
     },
     "execution_count": 20,
     "metadata": {},
     "output_type": "execute_result"
    }
   ],
   "source": [
    "# Series 데이터 연산\n",
    "# 100만 나눠주기\n",
    "# 넘파이 파입의 배열 형태를 가지고 있기에 요소별 연산이 가능\n",
    "population/1000000"
   ]
  },
  {
   "cell_type": "code",
   "execution_count": 23,
   "metadata": {},
   "outputs": [
    {
     "data": {
      "text/plain": [
       "3391946"
      ]
     },
     "execution_count": 23,
     "metadata": {},
     "output_type": "execute_result"
    }
   ],
   "source": [
    "# indexing slicing\n",
    "population.values[1]"
   ]
  },
  {
   "cell_type": "code",
   "execution_count": 31,
   "metadata": {},
   "outputs": [
    {
     "data": {
      "text/plain": [
       "도시\n",
       "서울    9668465\n",
       "광주    1450062\n",
       "부산    3391946\n",
       "Name: 인구, dtype: int64"
      ]
     },
     "execution_count": 31,
     "metadata": {},
     "output_type": "execute_result"
    }
   ],
   "source": [
    "# 인덱싱을 활용하여 특정데이터를 가져오기 - 특정 데이터들을 가져오는 경우 리스트 형태로 묶어서 인덱싱\n",
    "population[['서울','광주','부산']]"
   ]
  },
  {
   "cell_type": "code",
   "execution_count": 34,
   "metadata": {},
   "outputs": [
    {
     "data": {
      "text/plain": [
       "도시\n",
       "부산    3391946\n",
       "인천    2942828\n",
       "Name: 인구, dtype: int64"
      ]
     },
     "execution_count": 34,
     "metadata": {},
     "output_type": "execute_result"
    }
   ],
   "source": [
    "# slicing\n",
    "population[1:3]"
   ]
  },
  {
   "cell_type": "code",
   "execution_count": 36,
   "metadata": {},
   "outputs": [
    {
     "data": {
      "text/plain": [
       "도시\n",
       "부산    3391946\n",
       "인천    2942828\n",
       "Name: 인구, dtype: int64"
      ]
     },
     "execution_count": 36,
     "metadata": {},
     "output_type": "execute_result"
    }
   ],
   "source": [
    "# index 이름을 지정한 경우 이름 데이터로도 슬라이싱 가능\n",
    "population['부산':'인천']"
   ]
  },
  {
   "cell_type": "code",
   "execution_count": 46,
   "metadata": {},
   "outputs": [
    {
     "data": {
      "text/plain": [
       "도시\n",
       "부산    3391946\n",
       "인천    2942828\n",
       "Name: 인구, dtype: int64"
      ]
     },
     "execution_count": 46,
     "metadata": {},
     "output_type": "execute_result"
    }
   ],
   "source": [
    "# 불리언 인덱싱\n",
    "# 조건에 따라서 참인 값만 추출하는 방식\n",
    "# 250만 이상인 데이터만 추출\n",
    "# 2개 이상의 조건을 and 나 or 을 하는 경우 연산자로 대체  & |\n",
    "# 그리고 순서를 정해서 알려줘야 한다.\n",
    "population[(population>=2500000) & (population <= 5000000)]\n",
    "# population[population>=2500000]"
   ]
  },
  {
   "cell_type": "code",
   "execution_count": 49,
   "metadata": {},
   "outputs": [
    {
     "data": {
      "text/plain": [
       "피카츄     1\n",
       "잠만보     2\n",
       "치코리타    3\n",
       "리자몽     4\n",
       "dtype: int64"
      ]
     },
     "execution_count": 49,
     "metadata": {},
     "output_type": "execute_result"
    }
   ],
   "source": [
    "# dictionary 자료구조를 활용하여 Series 생성\n",
    "poketmon = pd.Series({'피카츄':1 , '잠만보':2 , '치코리타':3,'리자몽':4})\n",
    "poketmon"
   ]
  },
  {
   "cell_type": "code",
   "execution_count": 52,
   "metadata": {},
   "outputs": [],
   "source": [
    "# 레벨업한 데이터가 들어가 있는 poketmon_up\n",
    "poketmon_up = pd.Series({'거북왕':1923 , '피죤': 231,'피카츄':999 , '잠만보':1111 , '치코리타':2222,'리자몽':11115})\n",
    "# 인덱스 이름이 같은 데이터끼리 연산을 각각 진행\n",
    "# 인덱스 이름이 같은 것이 없는 경우 NaN(결측치)를 반환\n",
    "state =poketmon_up - poketmon"
   ]
  },
  {
   "cell_type": "code",
   "execution_count": 57,
   "metadata": {},
   "outputs": [
    {
     "data": {
      "text/plain": [
       "리자몽     11111.0\n",
       "잠만보      1109.0\n",
       "치코리타     2219.0\n",
       "피카츄       998.0\n",
       "dtype: float64"
      ]
     },
     "execution_count": 57,
     "metadata": {},
     "output_type": "execute_result"
    }
   ],
   "source": [
    "# 비어있지 않은 데이터만 확인 -> notnull()\n",
    "state[state.notnull()]"
   ]
  },
  {
   "cell_type": "code",
   "execution_count": 59,
   "metadata": {},
   "outputs": [
    {
     "data": {
      "text/plain": [
       "거북왕   NaN\n",
       "피죤    NaN\n",
       "dtype: float64"
      ]
     },
     "execution_count": 59,
     "metadata": {},
     "output_type": "execute_result"
    }
   ],
   "source": [
    "# 비어있는 Nan 데이터만 출력 -> .isnull()\n",
    "state[state.isnull()]"
   ]
  },
  {
   "attachments": {},
   "cell_type": "markdown",
   "metadata": {},
   "source": [
    "# DataFrame\n",
    "- 행과 열로 구성되어있는 표와 같은 형태\n",
    "- Series 데이터들이 모여서 생성된다.\n"
   ]
  },
  {
   "cell_type": "code",
   "execution_count": 61,
   "metadata": {},
   "outputs": [
    {
     "data": {
      "text/html": [
       "<div>\n",
       "<style scoped>\n",
       "    .dataframe tbody tr th:only-of-type {\n",
       "        vertical-align: middle;\n",
       "    }\n",
       "\n",
       "    .dataframe tbody tr th {\n",
       "        vertical-align: top;\n",
       "    }\n",
       "\n",
       "    .dataframe thead th {\n",
       "        text-align: right;\n",
       "    }\n",
       "</style>\n",
       "<table border=\"1\" class=\"dataframe\">\n",
       "  <thead>\n",
       "    <tr style=\"text-align: right;\">\n",
       "      <th></th>\n",
       "      <th>2020</th>\n",
       "      <th>2010</th>\n",
       "    </tr>\n",
       "  </thead>\n",
       "  <tbody>\n",
       "    <tr>\n",
       "      <th>0</th>\n",
       "      <td>9668465</td>\n",
       "      <td>10312545</td>\n",
       "    </tr>\n",
       "    <tr>\n",
       "      <th>1</th>\n",
       "      <td>3391946</td>\n",
       "      <td>3567910</td>\n",
       "    </tr>\n",
       "    <tr>\n",
       "      <th>2</th>\n",
       "      <td>2942828</td>\n",
       "      <td>2758296</td>\n",
       "    </tr>\n",
       "    <tr>\n",
       "      <th>3</th>\n",
       "      <td>1450062</td>\n",
       "      <td>1454636</td>\n",
       "    </tr>\n",
       "  </tbody>\n",
       "</table>\n",
       "</div>"
      ],
      "text/plain": [
       "      2020      2010\n",
       "0  9668465  10312545\n",
       "1  3391946   3567910\n",
       "2  2942828   2758296\n",
       "3  1450062   1454636"
      ]
     },
     "execution_count": 61,
     "metadata": {},
     "output_type": "execute_result"
    }
   ],
   "source": [
    "data = {'2020': [9668465,3391946,2942828,1450062],\n",
    "        '2010': [10312545,3567910,2758296,1454636]}\n",
    "population = pd.DataFrame(data)\n",
    "# 키값은 column으로 value는 value로 튜플 형태로\n",
    "population"
   ]
  },
  {
   "cell_type": "code",
   "execution_count": 64,
   "metadata": {},
   "outputs": [
    {
     "data": {
      "text/html": [
       "<div>\n",
       "<style scoped>\n",
       "    .dataframe tbody tr th:only-of-type {\n",
       "        vertical-align: middle;\n",
       "    }\n",
       "\n",
       "    .dataframe tbody tr th {\n",
       "        vertical-align: top;\n",
       "    }\n",
       "\n",
       "    .dataframe thead th {\n",
       "        text-align: right;\n",
       "    }\n",
       "</style>\n",
       "<table border=\"1\" class=\"dataframe\">\n",
       "  <thead>\n",
       "    <tr style=\"text-align: right;\">\n",
       "      <th></th>\n",
       "      <th>2020</th>\n",
       "      <th>2010</th>\n",
       "    </tr>\n",
       "  </thead>\n",
       "  <tbody>\n",
       "    <tr>\n",
       "      <th>서울</th>\n",
       "      <td>9668465</td>\n",
       "      <td>10312545</td>\n",
       "    </tr>\n",
       "    <tr>\n",
       "      <th>부산</th>\n",
       "      <td>3391946</td>\n",
       "      <td>3567910</td>\n",
       "    </tr>\n",
       "    <tr>\n",
       "      <th>인천</th>\n",
       "      <td>2942828</td>\n",
       "      <td>2758296</td>\n",
       "    </tr>\n",
       "    <tr>\n",
       "      <th>광주</th>\n",
       "      <td>1450062</td>\n",
       "      <td>1454636</td>\n",
       "    </tr>\n",
       "  </tbody>\n",
       "</table>\n",
       "</div>"
      ],
      "text/plain": [
       "       2020      2010\n",
       "서울  9668465  10312545\n",
       "부산  3391946   3567910\n",
       "인천  2942828   2758296\n",
       "광주  1450062   1454636"
      ]
     },
     "execution_count": 64,
     "metadata": {},
     "output_type": "execute_result"
    }
   ],
   "source": [
    "population.index = ['서울','부산','인천','광주']\n",
    "population"
   ]
  },
  {
   "cell_type": "code",
   "execution_count": 66,
   "metadata": {},
   "outputs": [
    {
     "data": {
      "text/plain": [
       "array([[ 9668465, 10312545],\n",
       "       [ 3391946,  3567910],\n",
       "       [ 2942828,  2758296],\n",
       "       [ 1450062,  1454636]], dtype=int64)"
      ]
     },
     "execution_count": 66,
     "metadata": {},
     "output_type": "execute_result"
    }
   ],
   "source": [
    "# data 값 확ㅇ니\n",
    "population.values"
   ]
  },
  {
   "cell_type": "code",
   "execution_count": 68,
   "metadata": {},
   "outputs": [
    {
     "data": {
      "text/plain": [
       "Index(['서울', '부산', '인천', '광주'], dtype='object')"
      ]
     },
     "execution_count": 68,
     "metadata": {},
     "output_type": "execute_result"
    }
   ],
   "source": [
    "# 인덱스 확인\n",
    "population.index"
   ]
  },
  {
   "cell_type": "code",
   "execution_count": 70,
   "metadata": {},
   "outputs": [
    {
     "data": {
      "text/plain": [
       "Index(['2020', '2010'], dtype='object')"
      ]
     },
     "execution_count": 70,
     "metadata": {},
     "output_type": "execute_result"
    }
   ],
   "source": [
    "# column 확인\n",
    "population.columns"
   ]
  },
  {
   "cell_type": "code",
   "execution_count": null,
   "metadata": {},
   "outputs": [],
   "source": [
    "# "
   ]
  }
 ],
 "metadata": {
  "kernelspec": {
   "display_name": "Python 3",
   "language": "python",
   "name": "python3"
  },
  "language_info": {
   "codemirror_mode": {
    "name": "ipython",
    "version": 3
   },
   "file_extension": ".py",
   "mimetype": "text/x-python",
   "name": "python",
   "nbconvert_exporter": "python",
   "pygments_lexer": "ipython3",
   "version": "3.10.10"
  },
  "orig_nbformat": 4
 },
 "nbformat": 4,
 "nbformat_minor": 2
}
