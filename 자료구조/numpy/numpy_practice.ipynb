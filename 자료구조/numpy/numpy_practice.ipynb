{
 "cells": [
  {
   "cell_type": "code",
   "execution_count": 2,
   "metadata": {},
   "outputs": [],
   "source": [
    "import numpy as np"
   ]
  },
  {
   "cell_type": "code",
   "execution_count": 3,
   "metadata": {},
   "outputs": [],
   "source": [
    "x =np.array(((11, 12, 13), (21, 22, 23), (31, 32, 33)))"
   ]
  },
  {
   "cell_type": "code",
   "execution_count": 4,
   "metadata": {},
   "outputs": [
    {
     "data": {
      "text/plain": [
       "2"
      ]
     },
     "execution_count": 4,
     "metadata": {},
     "output_type": "execute_result"
    }
   ],
   "source": [
    "x.ndim"
   ]
  },
  {
   "cell_type": "code",
   "execution_count": null,
   "metadata": {},
   "outputs": [],
   "source": []
  },
  {
   "cell_type": "code",
   "execution_count": 6,
   "metadata": {},
   "outputs": [
    {
     "name": "stdout",
     "output_type": "stream",
     "text": [
      "[1 2 3]\n",
      "[2 4 6]\n",
      "[11 12 13]\n",
      "[1.         1.41421356 1.73205081]\n",
      "[ 0.54030231 -0.41614684 -0.9899925 ]\n",
      "[-2 -2 -2]\n",
      "[ 1 10 10]\n",
      "[ 0.54030231 -0.41614684 -0.9899925 ]\n",
      "[[1 2 3]\n",
      " [3 4 5]\n",
      " [1 2 3]]\n",
      "[[1 3 1]\n",
      " [2 4 2]\n",
      " [3 5 3]]\n",
      "[[0. 0. 0. 0. 0. 0. 0. 0. 0. 0.]\n",
      " [0. 0. 0. 0. 0. 0. 0. 0. 0. 0.]\n",
      " [0. 0. 0. 0. 0. 0. 0. 0. 0. 0.]\n",
      " [0. 0. 0. 0. 0. 0. 0. 0. 0. 0.]\n",
      " [0. 0. 0. 0. 0. 0. 0. 0. 0. 0.]\n",
      " [0. 0. 0. 0. 0. 0. 0. 0. 0. 0.]\n",
      " [0. 0. 0. 0. 0. 0. 0. 0. 0. 0.]\n",
      " [0. 0. 0. 0. 0. 0. 0. 0. 0. 0.]\n",
      " [0. 0. 0. 0. 0. 0. 0. 0. 0. 0.]\n",
      " [0. 0. 0. 0. 0. 0. 0. 0. 0. 0.]]\n",
      "[[1. 1. 1. 1. 1. 1. 1. 1. 1. 1.]\n",
      " [1. 1. 1. 1. 1. 1. 1. 1. 1. 1.]\n",
      " [1. 1. 1. 1. 1. 1. 1. 1. 1. 1.]\n",
      " [1. 1. 1. 1. 1. 1. 1. 1. 1. 1.]\n",
      " [1. 1. 1. 1. 1. 1. 1. 1. 1. 1.]\n",
      " [1. 1. 1. 1. 1. 1. 1. 1. 1. 1.]\n",
      " [1. 1. 1. 1. 1. 1. 1. 1. 1. 1.]\n",
      " [1. 1. 1. 1. 1. 1. 1. 1. 1. 1.]\n",
      " [1. 1. 1. 1. 1. 1. 1. 1. 1. 1.]\n",
      " [1. 1. 1. 1. 1. 1. 1. 1. 1. 1.]]\n",
      "[10. 10. 10. 10. 10. 10. 10. 10. 10. 10.]\n",
      "[2. 2. 2. 2. 2. 2. 2. 2. 2. 2.]\n"
     ]
    }
   ],
   "source": [
    "#예시를 사용함으로써 파악\n",
    "\n",
    "import numpy as np\n",
    "\n",
    "def test():\n",
    "    \"\"\"test numpy\"\"\"\n",
    "    ax = np.array([1,2,3])\n",
    "    ay = np.array([3,4,5])\n",
    "    print(ax)\n",
    "    print(ax*2)\n",
    "    print(ax+10)\n",
    "    print(np.sqrt(ax))\n",
    "    print(np.cos(ax))\n",
    "    print(ax-ay)\n",
    "\n",
    "    # 무슨 기능을 할까?\n",
    "    # 조건이 참일 경우 1번쨰 출력 아닐 경우 두 번째를\n",
    "    print(np.where(ax<2, ax,10))\n",
    "    print(np.cos(ax))\n",
    "    # matrix 생성\n",
    "    m = np.matrix([ax,ay,ax])\n",
    "    print(m)\n",
    "    # 역배열??\n",
    "    print(m.T)\n",
    "\n",
    "    # 다차원 배열 생성\n",
    "    grid1 = np.zeros(shape=(10,10),dtype=float)\n",
    "    grid2 = np.ones(shape=(10,10),dtype=float)\n",
    "\n",
    "    print(grid1)\n",
    "    print(grid2)\n",
    "    print(grid1[1]+10)\n",
    "    print(grid2[:,2]*2)\n",
    "\n",
    "test()"
   ]
  },
  {
   "cell_type": "code",
   "execution_count": 10,
   "metadata": {},
   "outputs": [
    {
     "name": "stdout",
     "output_type": "stream",
     "text": [
      "2.00705885887146\n",
      "0.04516792297363281\n"
     ]
    }
   ],
   "source": [
    "import numpy as np\n",
    "import time\n",
    "\n",
    "def trad_version():\n",
    "    t1 = time.time()\n",
    "    X = range(10000000)\n",
    "    Y = range(10000000)\n",
    "    z = []\n",
    "    for i in range(len(X)):\n",
    "        z.append(X[i]+Y[i])\n",
    "    return time.time() - t1\n",
    "def numpy_version():\n",
    "    t1 = time.time()\n",
    "    X = np.arange(10000000)\n",
    "    Y = np.arange(10000000)\n",
    "    z= X+Y\n",
    "    return time.time() - t1\n",
    "\n",
    "print(trad_version())\n",
    "print(numpy_version())"
   ]
  },
  {
   "cell_type": "code",
   "execution_count": null,
   "metadata": {},
   "outputs": [],
   "source": []
  }
 ],
 "metadata": {
  "kernelspec": {
   "display_name": "Python 3",
   "language": "python",
   "name": "python3"
  },
  "language_info": {
   "codemirror_mode": {
    "name": "ipython",
    "version": 3
   },
   "file_extension": ".py",
   "mimetype": "text/x-python",
   "name": "python",
   "nbconvert_exporter": "python",
   "pygments_lexer": "ipython3",
   "version": "3.10.10"
  },
  "orig_nbformat": 4
 },
 "nbformat": 4,
 "nbformat_minor": 2
}
