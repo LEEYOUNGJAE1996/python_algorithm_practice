{
 "cells": [
  {
   "attachments": {},
   "cell_type": "markdown",
   "metadata": {},
   "source": [
    "#  객체지향설계\n",
    "\n",
    "\n",
    "## 1. 클래스와 객체\n",
    "\n",
    "클래스는 사전에 저으이도니 특별한 데이터와 메서드의 집합이다. 클래스에 선언된 모양 그대로 생성된 실체를 객체라고 한다. 객체가 소프트웨어에 실체화될 때, 이 실체를 인스턴스라고 한다. 객체는 인스턴스를 포함할 수 있으며, 포괄적인 의미를 지닌다. 파이썬에서 가장 간단한 형태의 클래스는 다음과 같은 형태를 가진다."
   ]
  },
  {
   "cell_type": "code",
   "execution_count": 2,
   "metadata": {},
   "outputs": [
    {
     "data": {
      "text/plain": [
       "<__main__.ClassName at 0x208a0202530>"
      ]
     },
     "execution_count": 2,
     "metadata": {},
     "output_type": "execute_result"
    }
   ],
   "source": [
    "class ClassName():\n",
    "    # 문장 n\n",
    "    pass\n",
    "x  = ClassName() # 클래스 저으이에 따라 인스턴스 생성\n",
    "x"
   ]
  },
  {
   "attachments": {},
   "cell_type": "markdown",
   "metadata": {},
   "source": [
    "클래스 인스턴스 생성은 함수 표기법을 사용하여 초기 상태의 객체를 생성하는 일\n",
    "\n",
    "여러 이름을 같은 객체에 바인딩(또는 에일리어싱) 할 수 있다. Hello 라는 클래스가 있다고 하면,\n",
    "Hello()를 호출하여 객체를 생성하는데, 이때 Hello()를 생성자라고 한다. 생성자를 호출하면 Hello.__new__()라는 특수 메서드가 호출되어 객체가 할당되고 그다음 Hello.__init__() 메서드가 객체를 초기화한다.\n",
    "\n",
    "### 속성\n",
    "\n",
    "객체에는 데이터와 메서드로 이루어지는 클래스 속성을 가진다.\n",
    "메서드 속성은 함수와 동일한 형태를 가진다. 그 첫 번째 인수는 호출된 인스턴스 자신이다.(self 라는 키워드를 이용하여 사용한다.)\n",
    "\n",
    "속성은 (.)을 활용하여 사용한다.\n",
    "\n",
    "### 네임스페이스\n",
    "\n",
    "네임스페이스는 이름을 객체로 매핑하는 것이다. 대부분 네임스페이스는 파이썬 딕셔너리로 구현되어 있다. 네임스페이스의 예로는 내장된 이름 셋 모듈의 전역 이름, 함수의 지역 이름 등이 있다. 스크립트 파일이나 대화식 인터프리터의 최상위 호출에 의해 실행되는 명령문은 __main__ 이라는 모듈의 일부로 간주되어, 고유의 전역 네임스페이스를 갖는다.\n",
    "\n",
    "### 스코프\n",
    "\n",
    "스코프는 네임스페이스에 직접 접근할 수 있는 파이썬 프로그램의 텍스트 영역이다. 스코프는 정적으로 결정되지만, 동적으로 사용된다. 즉 스코프는 텍스트에 따라 결정된다. 즉 한 모듈에 정의된 함수의 전역 스코프는 해당 모듈의 네임스페이스다. 클래스 정의가 실행되면, 새로운 네임스페이스가 만들어지고, 지역 스코프로 사용된다.\n",
    "\n",
    "\n",
    "# 객체지향 프로그래밍의 원리\n",
    "\n",
    "## 특수화\n",
    "\n",
    "특수화(specialization)는 슈퍼클래스의 모든 속성을 상속하여 새 클래스를 만드는 절차다. 모든 메서드는 서브클래스에서 재정의(override)될 수 있다. 상속은 is-a 관계다. 사람 클래스와 이를 상속 받는 학생 클래스가 있다고 하자. 이때 '모든 학생은 사람이다.'라는 명제가 성립하며 이것이 is-a 관계다. 반대로 '모든 사람은 학생이다.'는 성립하지 않는다.\n",
    "\n",
    "----------\n",
    "구글 파이썬 스타일 가이드에서는 한 클래가 다른 클래스를 상속받지 않으면 파이썬의 최상위 클래스인 object를 명시적으로 표기하는 것을 권장\n",
    "\n",
    "----------\n",
    "\n",
    "\n",
    "\n",
    "\n"
   ]
  },
  {
   "cell_type": "code",
   "execution_count": 3,
   "metadata": {},
   "outputs": [
    {
     "ename": "NameError",
     "evalue": "name 'ParentClass' is not defined",
     "output_type": "error",
     "traceback": [
      "\u001b[1;31m---------------------------------------------------------------------------\u001b[0m",
      "\u001b[1;31mNameError\u001b[0m                                 Traceback (most recent call last)",
      "Cell \u001b[1;32mIn[3], line 8\u001b[0m\n\u001b[0;32m      5\u001b[0m         \u001b[39mclass\u001b[39;00m \u001b[39mInnerClass\u001b[39;00m(\u001b[39mobject\u001b[39m):\n\u001b[0;32m      6\u001b[0m               \u001b[39mpass\u001b[39;00m\n\u001b[1;32m----> 8\u001b[0m \u001b[39mclass\u001b[39;00m \u001b[39mChildClass\u001b[39;00m(ParentClass):\n\u001b[0;32m      9\u001b[0m \u001b[39m      \u001b[39m\u001b[39m\"\"\"부모 클래스 상속\"\"\"\u001b[39;00m\n",
      "\u001b[1;31mNameError\u001b[0m: name 'ParentClass' is not defined"
     ]
    }
   ],
   "source": [
    "class SampleClass(object):\n",
    "    pass\n",
    "\n",
    "class OuterClass(object):\n",
    "        class InnerClass(object):\n",
    "              pass\n",
    "        \n",
    "class ChildClass(ParentClass):\n",
    "      \"\"\"부모 클래스 상속\"\"\"\n",
    "              "
   ]
  },
  {
   "attachments": {},
   "cell_type": "markdown",
   "metadata": {},
   "source": [
    "## 다형성\n",
    "\n",
    "다형성(또는 동적 메서드 바인딩)은 메서드가 서브 클래스 내에서 재정의될 수 있다는 원리이다.\n",
    "즉, 서브 클래스 객체에서 슈퍼 클래스와 동명의 메서드를 호출하면, 파이썬은 서브 클래스에 정의된 메서드를 사용한다는 뜻이다.\n",
    "\n",
    "슈퍼 클래스의 메서드를 호출해야 한다면, 내장된 super() 메서드를 사용하여 쉽게 호출할 수 있다.\n",
    "\n",
    "예를 들어 파이썬에서 사용자 정의 클래스의 모든 객체는 기본적으로 해시 가능하다. 객체가 해시 가능하다는 것은 hash() 속성을 호출할 수 있다는 뜻이며 불변 객체임을 의미한다. "
   ]
  },
  {
   "cell_type": "code",
   "execution_count": 6,
   "metadata": {},
   "outputs": [
    {
     "name": "stdout",
     "output_type": "stream",
     "text": [
      "False\n",
      "False\n",
      "2\n"
     ]
    }
   ],
   "source": [
    "class Exam1(object):\n",
    "    # 생성시 한 번 동작\n",
    "    def __init__(self, value):\n",
    "        self.value = value\n",
    "\n",
    "if __name__ == \"__main__\":\n",
    "    x = Exam1(\"Py\")\n",
    "    y = Exam1(\"Py\")\n",
    "\n",
    "    symbols = set()\n",
    "    symbols.add(x)\n",
    "    symbols.add(y)\n",
    "\n",
    "    print(x is y)\n",
    "    print(x == y)\n",
    "    print(len(symbols))"
   ]
  },
  {
   "attachments": {},
   "cell_type": "markdown",
   "metadata": {},
   "source": [
    "위의 의미는 다음과 같다. \n",
    "\n",
    "두 변수 x, y의 참조가 다르므로 첫 번째 결과(x is y)는 예상대로 False가 나왔다. 그런데, x, y의 값이 같으니 두 번째 조건 (x == y)은 True가 아닌 False의 결과가 나왔다. 세 번째 결과 역시 셋은 중복 항목이 없으므로 길이는 2가 나온다. \n",
    "\n"
   ]
  },
  {
   "cell_type": "code",
   "execution_count": 9,
   "metadata": {},
   "outputs": [
    {
     "ename": "TypeError",
     "evalue": "unhashable type: 'Exam1'",
     "output_type": "error",
     "traceback": [
      "\u001b[1;31m---------------------------------------------------------------------------\u001b[0m",
      "\u001b[1;31mTypeError\u001b[0m                                 Traceback (most recent call last)",
      "Cell \u001b[1;32mIn[9], line 16\u001b[0m\n\u001b[0;32m     13\u001b[0m y \u001b[39m=\u001b[39m Exam1(\u001b[39m\"\u001b[39m\u001b[39mPy\u001b[39m\u001b[39m\"\u001b[39m)\n\u001b[0;32m     15\u001b[0m symbols \u001b[39m=\u001b[39m \u001b[39mset\u001b[39m()\n\u001b[1;32m---> 16\u001b[0m symbols\u001b[39m.\u001b[39;49madd(x)\n\u001b[0;32m     17\u001b[0m symbols\u001b[39m.\u001b[39madd(y)\n\u001b[0;32m     19\u001b[0m \u001b[39mprint\u001b[39m(x \u001b[39mis\u001b[39;00m y)\n",
      "\u001b[1;31mTypeError\u001b[0m: unhashable type: 'Exam1'"
     ]
    }
   ],
   "source": [
    "class Exam1(object):\n",
    "    # 생성시 한 번 동작\n",
    "    def __init__(self, value):\n",
    "        self.value = value\n",
    "    def __eq__(self, other):\n",
    "        if isinstance(self, other.__class__):\n",
    "            return self.value == other.value\n",
    "        else:\n",
    "            return NotImplemented\n",
    "\n",
    "if __name__ == \"__main__\":\n",
    "    x = Exam1(\"Py\")\n",
    "    y = Exam1(\"Py\")\n",
    "\n",
    "    symbols = set()\n",
    "    symbols.add(x)\n",
    "    symbols.add(y)\n",
    "\n",
    "    print(x is y)\n",
    "    print(x == y)\n",
    "    print(len(symbols))"
   ]
  },
  {
   "attachments": {},
   "cell_type": "markdown",
   "metadata": {},
   "source": [
    "위의 의미\n",
    "\n",
    " __eq__() 메서드를 재정의하자 Exam1 클래스가 해시 가능하지 않다고 에러가 발생한다. 객체가 해시 가능하지 않다는 것은 가변 객체임을 의미하는데, 셋은 불변 객체다. 에러를 고치기 위해 __hash__() 메서드르 추가한다."
   ]
  },
  {
   "cell_type": "code",
   "execution_count": 10,
   "metadata": {},
   "outputs": [
    {
     "name": "stdout",
     "output_type": "stream",
     "text": [
      "False\n",
      "True\n",
      "1\n"
     ]
    }
   ],
   "source": [
    "class Exam1(object):\n",
    "    # 생성시 한 번 동작\n",
    "    def __init__(self, value):\n",
    "        self.value = value\n",
    "    def __eq__(self, other):\n",
    "        if isinstance(self, other.__class__):\n",
    "            return self.value == other.value\n",
    "        else:\n",
    "            return NotImplemented\n",
    "    def __hash__(self):\n",
    "        return hash(self.value)\n",
    "    \n",
    "    \n",
    "if __name__ == \"__main__\":\n",
    "    x = Exam1(\"Py\")\n",
    "    y = Exam1(\"Py\")\n",
    "\n",
    "    symbols = set()\n",
    "    symbols.add(x)\n",
    "    symbols.add(y)\n",
    "\n",
    "    print(x is y)\n",
    "    print(x == y)\n",
    "    print(len(symbols))"
   ]
  },
  {
   "attachments": {},
   "cell_type": "markdown",
   "metadata": {},
   "source": [
    "## 합성과 집합화\n",
    "\n",
    "합성은 한 클래스에서 다른 클래스의 인스턴스 변수를 포함하는 것을 말하며, 클래스 간의 관계를 나타낸다. 파이썬의 모든 클래스는 상속을 사용한다. 대부분 클래스는 다양한 타임의 인스턴스 변수를 가지며, 합성과 집합화를 사용한다.\n",
    "\n",
    "두 클래스 A,B가 있다고 가정한다. 합성은 A와 B가 강한 연관 관계를 맺으며, 강한 생명주기를 갖는다. 즉, 의존성이 강하다.\n",
    "\n",
    "집합화는 A와 B가 연관 관계가 있지만, 생명주기가 약하며 독립적이다."
   ]
  },
  {
   "cell_type": "code",
   "execution_count": 13,
   "metadata": {},
   "outputs": [],
   "source": [
    "# 클래스 예제 \n",
    "\n",
    "import math\n",
    "\n",
    "class Point(object):\n",
    "    def __init__(self, x = 0 , y = 0):\n",
    "        self.x = x # 데이터 속성 attribute\n",
    "        self.y = y\n",
    "\n",
    "    # 메서드 속성\n",
    "    def distance(self):\n",
    "        return math.hypot(self.x,self.y)\n",
    "    \n",
    "    def __eq__(self, other):\n",
    "        return self.x == other.x and self.y == other.y\n",
    "    \n",
    "    def __repr__(self):\n",
    "        return \"point ({0.x!r}, {0.y!r})\".foramt(self)\n",
    "    \n",
    "    def __str__(self):\n",
    "        return \"({0.x!r}, {0.y!r})\".format(self)\n",
    "    \n",
    "\n",
    "class Circle(Point):\n",
    "    def __init__(self, radius, x= 0 , y = 0):\n",
    "        # 생성 및 초기화\n",
    "        super().__init__(x,y) \n",
    "        self.radius = radius\n",
    "\n",
    "\n",
    "    def edge_distance(self):\n",
    "        return abs(self.distance() - self.radius)\n",
    "    \n",
    "    def area(self):\n",
    "        return math.pi*(self.radius**2)\n",
    "    \n",
    "    def circumference(self):\n",
    "        return 2*math.pi*self.radius\n",
    "    def __eq__(self,other):\n",
    "        return self.radius == other.radius and super().__eq__(other)\n",
    "    \n",
    "    def __repr__(self):\n",
    "        return \"Circle ({0.radius!r},  {0.x!r})\".format(self)\n",
    "    \n",
    "    def __str__(self):\n",
    "        return repr(self)\n",
    "    \n"
   ]
  },
  {
   "attachments": {},
   "cell_type": "markdown",
   "metadata": {},
   "source": [
    "# 디자인 패턴 \n",
    "\n",
    "디자인 패턴은 잘 설계된 구조의 형식적 정의를 소프트웨어 엔지니어링으로 옮긴 것\n",
    "\n",
    "## 데커레이터 패턴\n",
    "\n",
    "데커레이터 패턴은 @표기를 사용해 함수 또는 메서드의 변환을 우아하게 지정해주는 도구다. 데커레이터 패턴은 함수의 객체와 함수를 변경하는 다른 객체의 래핑을 허용한다.\n",
    "\n",
    "class C(object):\n",
    "    @my_decorator\n",
    "    def method(self):\n",
    "        #메서드내용\n",
    "\n",
    "위의 코드가 말하는 바는 아래와 같다.\n",
    "\n",
    "class C(object):\n",
    "    def method(self):\n",
    "        #메서드내용\n",
    "    method = my_decorator(method)\n",
    "\n"
   ]
  },
  {
   "cell_type": "code",
   "execution_count": 28,
   "metadata": {},
   "outputs": [
    {
     "name": "stdout",
     "output_type": "stream",
     "text": [
      "random_tree 0.0164641000010306\n"
     ]
    }
   ],
   "source": [
    "import random\n",
    "import time\n",
    "\n",
    "def benchmark(func):\n",
    "    def wrapper(*args, **kwargs):\n",
    "        t = time.perf_counter()\n",
    "        res = func(*args, **kwargs)\n",
    "        print(\"{0} {1}\".format(func.__name__,time.perf_counter()-t))\n",
    "        return res\n",
    "    return wrapper\n",
    "\n",
    "@benchmark\n",
    "def random_tree(n):\n",
    "    temp = [n for n in range(n)]\n",
    "    for i in  range(n+1):\n",
    "        temp[random.choice(temp)] = random.choice(temp)\n",
    "    return temp\n",
    "\n",
    "if __name__ == '__main__':\n",
    "    random_tree(10000)"
   ]
  },
  {
   "attachments": {},
   "cell_type": "markdown",
   "metadata": {},
   "source": [
    "파이썬에서 일반적으로 사용하는 데커레이터는 @ classmethod와 @static-method가 있다. 이들은 각각 메서드를 클래스와 정적 메서드로 변환한다. 다음 코드에서 두 데커레이터의 차이점을 살펴보면 다음과 같다. \n",
    "@classmethod는 첫 번째 인수로 클래스를 사용하고 , @staticmethod는 첫 번째 인수에 self 혹은 cls가 없다. 클래스 내 변수에 접근하려면 @classmethod의 첫 번째 인수를 사용할 수 있다.\n",
    "\n",
    "\n",
    "## 옵저버 패턴\n",
    "\n",
    "업저버 패턴은 특정 값을 유지하는 핵심 객체를 갖고, 직렬화된 객체의 복사본을 생성하는 일부 옵저버(관찰자)가 있는 경우 유용하다. 즉, 객체의 일대다 의존 관계에서 한 객체의 상태가 변경되면, 그 객체에 종속된 모든 객체에 그 내용을 통지하여 자동으로 상태를 갱신하는 방식이다. 옵저버 패턴은 @property 데커레이터를 사용하여 구현할 있다. 예를 들어 속성을 읽기 전용으로 설정하는 것과 같은 속성 접근을 제어할 수 있다. 속성은 접근자나 getter/setter 메서드 대신 사용된다. "
   ]
  },
  {
   "cell_type": "code",
   "execution_count": 31,
   "metadata": {},
   "outputs": [
    {
     "name": "stdout",
     "output_type": "stream",
     "text": [
      "astin, 점심시간입니다.\n",
      "james, 점심시간입니다.\n",
      "jeff, 점심시간입니다.\n",
      "\n",
      "astin, 퇴근시간입니다.\n",
      "james, 퇴근시간입니다.\n"
     ]
    }
   ],
   "source": [
    "class Subscriber(object):\n",
    "    def __init__(self, name):\n",
    "        self.name = name\n",
    "    def update(self, message):\n",
    "        print(\"{0}, {1}\".format(self.name, message))\n",
    "\n",
    "class Publisher(object):\n",
    "    def __init__(self):\n",
    "        self.subscribers = set()\n",
    "\n",
    "    def register(self, who):\n",
    "        self.subscribers.add(who)\n",
    "    \n",
    "    def unregister(self, who):\n",
    "        self.subscribers.discard(who)\n",
    "\n",
    "    def dispatch(self, message):\n",
    "        for subscriber in self.subscribers:\n",
    "            subscriber.update(message)\n",
    "\n",
    "if __name__ == \"__main__\":\n",
    "    pub = Publisher()\n",
    "\n",
    "    astin = Subscriber(\"astin\")\n",
    "    james = Subscriber(\"james\")\n",
    "    jeff = Subscriber(\"jeff\")\n",
    "\n",
    "\n",
    "    pub.register(astin)\n",
    "    pub.register(james)\n",
    "    pub.register(jeff)\n",
    "\n",
    "    pub.dispatch(\"점심시간입니다.\")\n",
    "    pub.unregister(jeff)\n",
    "    print()\n",
    "    pub.dispatch(\"퇴근시간입니다.\")"
   ]
  },
  {
   "cell_type": "code",
   "execution_count": 33,
   "metadata": {},
   "outputs": [
    {
     "name": "stdout",
     "output_type": "stream",
     "text": [
      "astin, 점심시간입니다.\n",
      "james, 점심시간입니다.\n",
      "jeff, 점심시간입니다.\n",
      "\n",
      "astin, 퇴근시간입니다.\n",
      "james, 퇴근시간입니다.\n"
     ]
    }
   ],
   "source": [
    "class Subscriber(object):\n",
    "    def __init__(self, name):\n",
    "        self.name = name\n",
    "    def update(self, message):\n",
    "        print(\"{0}, {1}\".format(self.name, message))\n",
    "\n",
    "class SubscriberTwo(object):\n",
    "    def __init__(self, name):\n",
    "        self.name = name\n",
    "\n",
    "    def receive(self, message):\n",
    "        print(\"{0}, {1}\".format(self.name, message))\n",
    "\n",
    "class Publisher(object):\n",
    "    def __init__(self):\n",
    "        self.subscribers = dict()\n",
    "\n",
    "    def register(self, who, callback = None):\n",
    "        if callback is None:\n",
    "            callback  = getattr(who, 'update')\n",
    "        self.subscribers[who] = callback\n",
    "\n",
    "    def unregister(self, who):\n",
    "        del self.subscribers[who]\n",
    "    def dispatch(self, message):\n",
    "        for subscriber, callback in self.subscribers.items():\n",
    "            callback(message)\n",
    "\n",
    "if __name__ == \"__main__\":\n",
    "    pub = Publisher()\n",
    "\n",
    "    astin = Subscriber(\"astin\")\n",
    "    james = SubscriberTwo(\"james\")\n",
    "    jeff = Subscriber(\"jeff\")\n",
    "\n",
    "\n",
    "    pub.register(astin, astin.update)\n",
    "    pub.register(james, james.receive)\n",
    "    pub.register(jeff)\n",
    "\n",
    "    pub.dispatch(\"점심시간입니다.\")\n",
    "    pub.unregister(jeff)\n",
    "    print()\n",
    "    pub.dispatch(\"퇴근시간입니다.\")"
   ]
  },
  {
   "attachments": {},
   "cell_type": "markdown",
   "metadata": {},
   "source": [
    "## 싱글턴 패턴\n",
    "\n",
    "초기화된 객체의 인스턴스를 전역에서 사용하기 위해서는 싱글턴패턴을 사용한다.\n",
    "\n",
    "이 객체의 인스턴스는 하나만 존재한다. 파이썬에서는 private 접근 제한자가 없기 때문에 __new__() 클래스 메서드를 가지고 하나의 인스턴스만 생성되도록 구현한다.\n",
    "\n",
    "먼저 싱글턴 인스턴스가 생성되었는지 확인한다.(이미 싱글턴 인스턴스가 생성되었는데, 또 생성을 시도했는지 확인)\n",
    "\n",
    "싱글턴 인스턴스가 없다면, 슈퍼 클래스를 호출하여 싱글턴 인스턴스를 생성한다.\n",
    "\n",
    "예제"
   ]
  },
  {
   "cell_type": "code",
   "execution_count": 34,
   "metadata": {},
   "outputs": [
    {
     "ename": "AttributeError",
     "evalue": "'super' object has no attribute '_SinEx__new_'",
     "output_type": "error",
     "traceback": [
      "\u001b[1;31m---------------------------------------------------------------------------\u001b[0m",
      "\u001b[1;31mAttributeError\u001b[0m                            Traceback (most recent call last)",
      "Cell \u001b[1;32mIn[34], line 9\u001b[0m\n\u001b[0;32m      7\u001b[0m             \u001b[39mself\u001b[39m\u001b[39m.\u001b[39m_sing \u001b[39m=\u001b[39m \u001b[39msuper\u001b[39m(SinEx,\u001b[39mself\u001b[39m)\u001b[39m.\u001b[39m__new_(\u001b[39mself\u001b[39m,\u001b[39m*\u001b[39margs,\u001b[39m*\u001b[39m\u001b[39m*\u001b[39mkwargs)\n\u001b[0;32m      8\u001b[0m         \u001b[39mreturn\u001b[39;00m \u001b[39mself\u001b[39m\u001b[39m.\u001b[39m_sing\n\u001b[1;32m----> 9\u001b[0m x \u001b[39m=\u001b[39m SinEx()\n\u001b[0;32m     10\u001b[0m \u001b[39mprint\u001b[39m(x)\n\u001b[0;32m     12\u001b[0m y \u001b[39m=\u001b[39m SinEx()\n",
      "Cell \u001b[1;32mIn[34], line 7\u001b[0m, in \u001b[0;36mSinEx.__new__\u001b[1;34m(self, *args, **kwargs)\u001b[0m\n\u001b[0;32m      5\u001b[0m \u001b[39mdef\u001b[39;00m \u001b[39m__new__\u001b[39m(\u001b[39mself\u001b[39m, \u001b[39m*\u001b[39margs, \u001b[39m*\u001b[39m\u001b[39m*\u001b[39mkwargs):\n\u001b[0;32m      6\u001b[0m     \u001b[39mif\u001b[39;00m \u001b[39mnot\u001b[39;00m \u001b[39mself\u001b[39m\u001b[39m.\u001b[39m_sing:\n\u001b[1;32m----> 7\u001b[0m         \u001b[39mself\u001b[39m\u001b[39m.\u001b[39m_sing \u001b[39m=\u001b[39m \u001b[39msuper\u001b[39;49m(SinEx,\u001b[39mself\u001b[39;49m)\u001b[39m.\u001b[39;49m__new_(\u001b[39mself\u001b[39m,\u001b[39m*\u001b[39margs,\u001b[39m*\u001b[39m\u001b[39m*\u001b[39mkwargs)\n\u001b[0;32m      8\u001b[0m     \u001b[39mreturn\u001b[39;00m \u001b[39mself\u001b[39m\u001b[39m.\u001b[39m_sing\n",
      "\u001b[1;31mAttributeError\u001b[0m: 'super' object has no attribute '_SinEx__new_'"
     ]
    }
   ],
   "source": [
    "# 예제 \n",
    "\n",
    "class SinEx:\n",
    "    _sing = None\n",
    "    def __new__(self, *args, **kwargs):\n",
    "        if not self._sing:\n",
    "            self._sing = super(SinEx,self).__new_(self,*args,**kwargs)\n",
    "        return self._sing\n",
    "x = SinEx()\n",
    "print(x)\n",
    "\n",
    "y = SinEx()\n",
    "print(x == y)"
   ]
  }
 ],
 "metadata": {
  "kernelspec": {
   "display_name": "Python 3",
   "language": "python",
   "name": "python3"
  },
  "language_info": {
   "codemirror_mode": {
    "name": "ipython",
    "version": 3
   },
   "file_extension": ".py",
   "mimetype": "text/x-python",
   "name": "python",
   "nbconvert_exporter": "python",
   "pygments_lexer": "ipython3",
   "version": "3.10.11"
  },
  "orig_nbformat": 4
 },
 "nbformat": 4,
 "nbformat_minor": 2
}
