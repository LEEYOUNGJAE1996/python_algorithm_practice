{
 "cells": [
  {
   "cell_type": "code",
   "execution_count": 2,
   "metadata": {},
   "outputs": [
    {
     "data": {
      "text/plain": [
       "10.0"
      ]
     },
     "execution_count": 2,
     "metadata": {},
     "output_type": "execute_result"
    }
   ],
   "source": [
    "# f 람다함수\n",
    "\n",
    "# ㄹ람다 함수를 쓰면 코드 내에서 함수를 간결하게 동적으로 사용할 수 있다.\n",
    "\n",
    "def area(b,h):\n",
    "    return 0.5 * b *h\n",
    "\n",
    "area(5,4)"
   ]
  },
  {
   "cell_type": "code",
   "execution_count": 3,
   "metadata": {},
   "outputs": [
    {
     "data": {
      "text/plain": [
       "10.0"
      ]
     },
     "execution_count": 3,
     "metadata": {},
     "output_type": "execute_result"
    }
   ],
   "source": [
    "area = lambda b, h : 0.5 * h  * b\n",
    "\n",
    "area(5,4)"
   ]
  },
  {
   "cell_type": "code",
   "execution_count": 5,
   "metadata": {},
   "outputs": [],
   "source": [
    "# 파일 읽고 쓰기\n",
    "import sys \n",
    "def read_data(filename):\n",
    "    lines = []\n",
    "    with open(filename) as fh:\n",
    "        for line in fh : \n",
    "            if line.strip():\n",
    "                lines.append(line)\n",
    "    return lines\n",
    "\n",
    "def write_data(lines, filename):\n",
    "    fh = None\n",
    "    with open(filename, 'w') as fh :\n",
    "        for line in lines:\n",
    "            fh.write(line)\n",
    "def remove_blank_lines():\n",
    "    if len(sys.argv) < 2:\n",
    "        print(\"Usage: python {0} [file ...]\".format(sys.argv[0]))\n",
    "\n",
    "    for filename in sys.argv[1:]:\n",
    "        lines = read_data(filename)\n",
    "        if lines:\n",
    "            write_data(lines,filename)\n",
    "if __name__ == \"__main__\":\n",
    "    remove_blank_lines()"
   ]
  },
  {
   "cell_type": "code",
   "execution_count": null,
   "metadata": {},
   "outputs": [],
   "source": []
  }
 ],
 "metadata": {
  "kernelspec": {
   "display_name": "Python 3",
   "language": "python",
   "name": "python3"
  },
  "language_info": {
   "codemirror_mode": {
    "name": "ipython",
    "version": 3
   },
   "file_extension": ".py",
   "mimetype": "text/x-python",
   "name": "python",
   "nbconvert_exporter": "python",
   "pygments_lexer": "ipython3",
   "version": "3.10.11"
  },
  "orig_nbformat": 4
 },
 "nbformat": 4,
 "nbformat_minor": 2
}
