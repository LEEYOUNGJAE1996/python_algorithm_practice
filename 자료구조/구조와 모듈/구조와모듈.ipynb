{
 "cells": [
  {
   "cell_type": "code",
   "execution_count": 2,
   "metadata": {},
   "outputs": [
    {
     "data": {
      "text/plain": [
       "10.0"
      ]
     },
     "execution_count": 2,
     "metadata": {},
     "output_type": "execute_result"
    }
   ],
   "source": [
    "# f 람다함수\n",
    "\n",
    "# ㄹ람다 함수를 쓰면 코드 내에서 함수를 간결하게 동적으로 사용할 수 있다.\n",
    "\n",
    "def area(b,h):\n",
    "    return 0.5 * b *h\n",
    "\n",
    "area(5,4)"
   ]
  },
  {
   "cell_type": "code",
   "execution_count": 3,
   "metadata": {},
   "outputs": [
    {
     "data": {
      "text/plain": [
       "10.0"
      ]
     },
     "execution_count": 3,
     "metadata": {},
     "output_type": "execute_result"
    }
   ],
   "source": [
    "area = lambda b, h : 0.5 * h  * b\n",
    "\n",
    "area(5,4)"
   ]
  },
  {
   "cell_type": "code",
   "execution_count": 6,
   "metadata": {},
   "outputs": [
    {
     "ename": "FileNotFoundError",
     "evalue": "[Errno 2] No such file or directory: '--ip=127.0.0.1'",
     "output_type": "error",
     "traceback": [
      "\u001b[1;31m---------------------------------------------------------------------------\u001b[0m",
      "\u001b[1;31mFileNotFoundError\u001b[0m                         Traceback (most recent call last)",
      "Cell \u001b[1;32mIn[6], line 25\u001b[0m\n\u001b[0;32m     23\u001b[0m             write_data(lines,filename)\n\u001b[0;32m     24\u001b[0m \u001b[39mif\u001b[39;00m \u001b[39m__name__\u001b[39m \u001b[39m==\u001b[39m \u001b[39m\"\u001b[39m\u001b[39m__main__\u001b[39m\u001b[39m\"\u001b[39m:\n\u001b[1;32m---> 25\u001b[0m     remove_blank_lines()\n",
      "Cell \u001b[1;32mIn[6], line 21\u001b[0m, in \u001b[0;36mremove_blank_lines\u001b[1;34m()\u001b[0m\n\u001b[0;32m     18\u001b[0m     \u001b[39mprint\u001b[39m(\u001b[39m\"\u001b[39m\u001b[39mUsage: python \u001b[39m\u001b[39m{0}\u001b[39;00m\u001b[39m [file ...]\u001b[39m\u001b[39m\"\u001b[39m\u001b[39m.\u001b[39mformat(sys\u001b[39m.\u001b[39margv[\u001b[39m0\u001b[39m]))\n\u001b[0;32m     20\u001b[0m \u001b[39mfor\u001b[39;00m filename \u001b[39min\u001b[39;00m sys\u001b[39m.\u001b[39margv[\u001b[39m1\u001b[39m:]:\n\u001b[1;32m---> 21\u001b[0m     lines \u001b[39m=\u001b[39m read_data(filename)\n\u001b[0;32m     22\u001b[0m     \u001b[39mif\u001b[39;00m lines:\n\u001b[0;32m     23\u001b[0m         write_data(lines,filename)\n",
      "Cell \u001b[1;32mIn[6], line 5\u001b[0m, in \u001b[0;36mread_data\u001b[1;34m(filename)\u001b[0m\n\u001b[0;32m      3\u001b[0m \u001b[39mdef\u001b[39;00m \u001b[39mread_data\u001b[39m(filename):\n\u001b[0;32m      4\u001b[0m     lines \u001b[39m=\u001b[39m []\n\u001b[1;32m----> 5\u001b[0m     \u001b[39mwith\u001b[39;00m \u001b[39mopen\u001b[39;49m(filename) \u001b[39mas\u001b[39;00m fh:\n\u001b[0;32m      6\u001b[0m         \u001b[39mfor\u001b[39;00m line \u001b[39min\u001b[39;00m fh : \n\u001b[0;32m      7\u001b[0m             \u001b[39mif\u001b[39;00m line\u001b[39m.\u001b[39mstrip():\n",
      "File \u001b[1;32m~\\AppData\\Local\\Packages\\PythonSoftwareFoundation.Python.3.10_qbz5n2kfra8p0\\LocalCache\\local-packages\\Python310\\site-packages\\IPython\\core\\interactiveshell.py:282\u001b[0m, in \u001b[0;36m_modified_open\u001b[1;34m(file, *args, **kwargs)\u001b[0m\n\u001b[0;32m    275\u001b[0m \u001b[39mif\u001b[39;00m file \u001b[39min\u001b[39;00m {\u001b[39m0\u001b[39m, \u001b[39m1\u001b[39m, \u001b[39m2\u001b[39m}:\n\u001b[0;32m    276\u001b[0m     \u001b[39mraise\u001b[39;00m \u001b[39mValueError\u001b[39;00m(\n\u001b[0;32m    277\u001b[0m         \u001b[39mf\u001b[39m\u001b[39m\"\u001b[39m\u001b[39mIPython won\u001b[39m\u001b[39m'\u001b[39m\u001b[39mt let you open fd=\u001b[39m\u001b[39m{\u001b[39;00mfile\u001b[39m}\u001b[39;00m\u001b[39m by default \u001b[39m\u001b[39m\"\u001b[39m\n\u001b[0;32m    278\u001b[0m         \u001b[39m\"\u001b[39m\u001b[39mas it is likely to crash IPython. If you know what you are doing, \u001b[39m\u001b[39m\"\u001b[39m\n\u001b[0;32m    279\u001b[0m         \u001b[39m\"\u001b[39m\u001b[39myou can use builtins\u001b[39m\u001b[39m'\u001b[39m\u001b[39m open.\u001b[39m\u001b[39m\"\u001b[39m\n\u001b[0;32m    280\u001b[0m     )\n\u001b[1;32m--> 282\u001b[0m \u001b[39mreturn\u001b[39;00m io_open(file, \u001b[39m*\u001b[39margs, \u001b[39m*\u001b[39m\u001b[39m*\u001b[39mkwargs)\n",
      "\u001b[1;31mFileNotFoundError\u001b[0m: [Errno 2] No such file or directory: '--ip=127.0.0.1'"
     ]
    }
   ],
   "source": [
    "# 파일 읽고 쓰기\n",
    "import sys \n",
    "def read_data(filename):\n",
    "    lines = []\n",
    "    with open(filename) as fh:\n",
    "        for line in fh : \n",
    "            if line.strip():\n",
    "                lines.append(line)\n",
    "    return lines\n",
    "\n",
    "def write_data(lines, filename):\n",
    "    fh = None\n",
    "    with open(filename, 'w') as fh :\n",
    "        for line in lines:\n",
    "            fh.write(line)\n",
    "def remove_blank_lines():\n",
    "    if len(sys.argv) < 2:\n",
    "        print(\"Usage: python {0} [file ...]\".format(sys.argv[0]))\n",
    "\n",
    "    for filename in sys.argv[1:]:\n",
    "        lines = read_data(filename)\n",
    "        if lines:\n",
    "            write_data(lines,filename)\n",
    "if __name__ == \"__main__\":\n",
    "    remove_blank_lines()"
   ]
  },
  {
   "attachments": {},
   "cell_type": "markdown",
   "metadata": {},
   "source": [
    "# 파일 처리 메서드\n",
    "\n",
    "# open()\n",
    "\n",
    "open(filename, mode, encoding) 메서드는 파일 객체를 반홚나다. 모드와 인코딩 옵션이며, 생략하면 텍스트 읽기 모드와 시스템 기본 형식 인코딩이 적용된ㄷ다. \n",
    "\n",
    "모드 \n",
    "r : read\n",
    "w : write\n",
    "a : append\n",
    "r+ : read & wrtie\n",
    "t : text \n",
    "b : binary\n",
    "\n",
    "# read()\n",
    "\n",
    "read(size) 메서드는 파일 에서 size만큼의 내요을 읽고, 문자열로 반환한다. \n",
    "\n",
    "# readline()\n",
    "\n",
    "파일에서  한 줄을 읽는다.\n",
    "\n",
    "# readlines()\n",
    "\n",
    "파일의 모든 데이터 행을 포함한 리스트를 반환한다. readlines(size) 메서드에 size를 지정하면 ,파일에서 해당 바이트 수만큼 읽고, 한 행을 완성하는데 필요한 만큼 더 읽어서 반환한다. readlines() 메서드는 메모리에 전체 파일을 불러올 필요 없이 준단위로 효율적으로 읽을 수 있으며, 완전한 행을 반환한다.\n",
    "\n",
    "# write()\n",
    "데이터 파일에 쓰고, None을 반환한다. 바이너리 모드에서는  바이트 또는 바이트 배열 객체를 쓰고 특스트 모드에서는 문자열 객체를 쓴다.\n",
    "\n",
    "\n",
    "# tell(), seek()\n",
    "\n",
    "tell() 메서드는 파일의 현재 위치를 나타내는 정수를 반환한다. 파일의 위치는 시작 부분에서 바이트 단위로 측정\n",
    "seek(offset, from-what) 메서드는 파일 내 탐색 위치를 변경할 때 사용\n",
    "파일 위치는 기준이 되는 참조 포인트 from-what에 오프셋을 더한 값으로 계산된다. from-what 인수를 0으로 지정하면 기준이  파일의 처음 위치가 되고, 1은 파일의 현재 위치, 2는 파일의 마지막 위치를 기준으로 삼게 된다.???\n",
    "\n",
    "# close() \n",
    "파일을 닫고, 열린 파일이 차지하는 시스템의 자원을 해제한다.\n",
    "\n",
    "# input()\n",
    "\n",
    "input() 함수는 사용자의 입력을 받는다. 콘솔에 출력될 문자열을 선택적으로 지정할 수 있다. 사용자가 텍스트를 입력하고 엔터키를 누를 때까지 기다린다.\n",
    "사용자가 텍스트를 입력하지 않고 엔터 키만 누르면, 빈 문자열을 반환한다. 텍스트를 입력하고 엔터 키를 누르면, 사용자가 입력한 내용잉 담긴 문자열*(엔턴키 제외)을 반환한다.\n",
    "\n",
    "# peek()\n",
    "\n",
    "peek(n) 메서드는 파일 포이넡 위치를 이동하지 않고, n바이트를 반환한다.(반환된 바이트 수는 요청한 것보다 적거나 많을 수 있다.)\n",
    "\n",
    "# fileno()\n",
    "파일 서술자를 반환한다."
   ]
  },
  {
   "cell_type": "code",
   "execution_count": 7,
   "metadata": {},
   "outputs": [
    {
     "name": "stdout",
     "output_type": "stream",
     "text": [
      "--ip=127.0.0.--stdin=9003\n",
      "[Errno 2] No such file or directory: '--ip=127.0.0.1'\n"
     ]
    }
   ],
   "source": [
    "# shutil 모듈\n",
    "\n",
    "# 시스템에서 파일을 조작할 때 유용\n",
    "# 터미널에서 파일 및 확장자를 지정하면  새 확장자의 이름을 복사본을 만든다.\n",
    "\n",
    "import os\n",
    "import sys\n",
    "import shutil\n",
    "def change_file_ext():\n",
    "    if len(sys.argv) < 2:\n",
    "        print(\"Usage : python {0} filename.old_ext 'new_ext'\".format(sys.argv[0]))\n",
    "        sys.exit()\n",
    "\n",
    "    name = os.path.splitext(sys.argv[1])[0] + \".\" + sys.argv[2]\n",
    "    print(name)\n",
    "\n",
    "    try :\n",
    "        shutil.copyfile(sys.argv[1],name)\n",
    "    except OSError as err:\n",
    "        print(err)\n",
    "if __name__ == \"__main__\":\n",
    "    change_file_ext()"
   ]
  },
  {
   "cell_type": "code",
   "execution_count": 9,
   "metadata": {},
   "outputs": [
    {
     "data": {
      "text/plain": [
       "{'name': 'bo', 'age': 24}"
      ]
     },
     "execution_count": 9,
     "metadata": {},
     "output_type": "execute_result"
    }
   ],
   "source": [
    "# pickle 모듈\n",
    "\n",
    "\n",
    "# pickle 모듈은  파이썬 객체를 가져와서 문자열 표현으로 변환한다.\n",
    "# 이러한 과정을 피클링(직렬화)이라 한다. 반대로, 문자열 표현을 객체로 재구성하는 것을 언피클링(역직렬화)이라 한다.\n",
    "import pickle\n",
    "x = {}\n",
    "x['name'] = 'bo'\n",
    "x['age'] = 24\n",
    "# 피클링\n",
    "with open('name.pkl','wb') as f:\n",
    "    pickle.dump(x,f)\n",
    "with open('name.pkl','rb') as f:\n",
    "    name = pickle.load(f)\n",
    "\n",
    "name "
   ]
  },
  {
   "cell_type": "code",
   "execution_count": 10,
   "metadata": {},
   "outputs": [
    {
     "name": "stdout",
     "output_type": "stream",
     "text": [
      "b'\\x00\\x01\\x00\\x02\\x00\\x00\\x00\\x03'\n",
      "(1, 2, 3)\n",
      "8\n"
     ]
    }
   ],
   "source": [
    "# struct 모듈\n",
    "\n",
    "# struct 모듈을 사용하면서 파이썬 객체를 이진 표현으로 변환하거나, 이진 표현을 파이썬 객체로 변환할 수 있다. 객체는 특정 길이의 문자열만 처리할 수 있다.\n",
    "# struct 모듈의 함수를 간단하게 살펴보면\n",
    "# struct.pack() 함수는 struct 형식의 문자열과 값ㅇ르 취하여 바이트 객체를 반환\n",
    "# struct.unpack() 함수는 struct 형식의 문자열과 바이트 또는 바이트 배열 객체를 취하여 값을 반환\n",
    "# struct.calcsize() 함수는 struct 형식의 문자열 취하여, strcut 형식이 차지할 바이트 수를 반환한다.\n",
    "\n",
    "import  struct \n",
    "# >hhl 의미하는 바 '>' big-endian을 의미(< q반대로 little-endian)\n",
    "# h는 C 타입으로 short를 나타내고 l은 long을 의미\n",
    "abc = struct.pack('>hhl',1,2,3)\n",
    "print(abc)\n",
    "print(struct.unpack('>hhl',abc))\n",
    "print(struct.calcsize('>hhl'))"
   ]
  }
 ],
 "metadata": {
  "kernelspec": {
   "display_name": "Python 3",
   "language": "python",
   "name": "python3"
  },
  "language_info": {
   "codemirror_mode": {
    "name": "ipython",
    "version": 3
   },
   "file_extension": ".py",
   "mimetype": "text/x-python",
   "name": "python",
   "nbconvert_exporter": "python",
   "pygments_lexer": "ipython3",
   "version": "3.10.11"
  },
  "orig_nbformat": 4
 },
 "nbformat": 4,
 "nbformat_minor": 2
}
