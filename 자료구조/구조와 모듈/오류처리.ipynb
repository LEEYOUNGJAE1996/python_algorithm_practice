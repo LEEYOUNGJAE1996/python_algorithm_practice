{
 "cells": [
  {
   "attachments": {},
   "cell_type": "markdown",
   "metadata": {},
   "source": [
    "# 오류처리\n",
    "\n",
    "파이썬 코드를 컴파일할 때, 발생할 수 있는 두 가지 종류의 오류가 있다. 구문 오류(syntax error)와 예외다. 구문 오류가 있으면 컴파일이 아예 안되지만, 예외는 실행 중에야 발견할 수 있으므로 신중하게 처리\n",
    "\n",
    "\n",
    "1. 예외 처리\n",
    "\n",
    "예외가 발생했는데 이를 코드 내에서 처리하지 않았다면, 파이썬은 예외의 오류 메세지와 함계 트레이스백을 출력한다.\n",
    "트레이스백은 처리되지 않은 예외가 발생한 지점에서 호출 스택 맨 위까지 수행된 모든 호출 목록을 포함한다. \n",
    "파이썬에서는 try-except-finally문을 사용하여 예측 가능한 예외를 처리할 수 있다.\n",
    "\n",
    "try :\n",
    "    예외 발생이 예측되는 코드\n",
    "except 예외1 as  예외변수1:\n",
    "    예외 처리\n",
    "    ...\n",
    "except 예외n as 예외변수n:\n",
    "    예외 처리 n\n",
    "\n",
    "try 문의 예외 발생이 예측되는 코드가 예외를 발생시키지 않고 실행되면, except문을 건너뛴다.\n",
    "try문 블록에서 예외가 발생해ㅆ다면, 해당 예외의 EXCEPT문으로 즉시 건너뛰어 예외 처리 코드가 싱행된다.\n",
    "즉 TRY문 블록에서 예외가 발생된 코드 다음에 나오는 코드는 실행되지 않는다."
   ]
  },
  {
   "cell_type": "code",
   "execution_count": 1,
   "metadata": {},
   "outputs": [
    {
     "name": "stdout",
     "output_type": "stream",
     "text": [
      "숫자가 아닙니다. 다시 입력해주세요!\n",
      "숫자가 아닙니다. 다시 입력해주세요!\n"
     ]
    }
   ],
   "source": [
    "while True:\n",
    "    try:\n",
    "        x = int(input(\"숫자를 입력하세요: \"))\n",
    "        break\n",
    "    except ValueError:\n",
    "        print(\"숫자가 아닙니다. 다시 입력해주세요!\")"
   ]
  },
  {
   "attachments": {},
   "cell_type": "markdown",
   "metadata": {},
   "source": [
    "raise문을 사용하여 다음과 같이 특정 예외를 의도적으로 발생시킬 수 있다."
   ]
  },
  {
   "cell_type": "code",
   "execution_count": 2,
   "metadata": {},
   "outputs": [
    {
     "name": "stdout",
     "output_type": "stream",
     "text": [
      "예외 발생 : <class 'ZeroDivisionError'>\n"
     ]
    },
    {
     "ename": "ZeroDivisionError",
     "evalue": "division by zero",
     "output_type": "error",
     "traceback": [
      "\u001b[1;31m---------------------------------------------------------------------------\u001b[0m",
      "\u001b[1;31mZeroDivisionError\u001b[0m                         Traceback (most recent call last)",
      "Cell \u001b[1;32mIn[2], line 4\u001b[0m\n\u001b[0;32m      2\u001b[0m \u001b[39mimport\u001b[39;00m \u001b[39msys\u001b[39;00m\n\u001b[0;32m      3\u001b[0m \u001b[39mtry\u001b[39;00m :\n\u001b[1;32m----> 4\u001b[0m     \u001b[39m1\u001b[39;49m\u001b[39m/\u001b[39;49m\u001b[39m0\u001b[39;49m \u001b[39m# ZeroDivisionError 발생\u001b[39;00m\n\u001b[0;32m      5\u001b[0m     f \u001b[39m=\u001b[39m \u001b[39mopen\u001b[39m(\u001b[39m'\u001b[39m\u001b[39mmyfile.txt\u001b[39m\u001b[39m'\u001b[39m)\n\u001b[0;32m      6\u001b[0m     s \u001b[39m=\u001b[39m f\u001b[39m.\u001b[39mreadline()\n",
      "\u001b[1;31mZeroDivisionError\u001b[0m: division by zero"
     ]
    }
   ],
   "source": [
    "import string\n",
    "import sys\n",
    "try :\n",
    "    1/0 # ZeroDivisionError 발생\n",
    "    f = open('myfile.txt')\n",
    "    s = f.readline()\n",
    "    i = int(string.strip(s))\n",
    "except IOError as err:\n",
    "    print(err)\n",
    "except ValueError:\n",
    "    print('데이터를 숫자로 변환할 수 없습니다.')\n",
    "except:\n",
    "    print('예외 발생 : {0}'.format(sys.exc_info()[0]))\n",
    "    raise"
   ]
  },
  {
   "attachments": {},
   "cell_type": "markdown",
   "metadata": {},
   "source": [
    "2. 예외 처리에 대한 구글 파이썬 스타일 가이드\n",
    "\n",
    "- raise MyError('오류 메세지') 또는 raise MyError와 같이 예외를 발생시킨다. 두 개의 인수 형식을 사용하지 않는다.\n",
    "- 내장 예외 클래스를 적절하게 사용한다. 예를 들어 어떤 함수에서 예상 인수 값이 양수이지만 음수를 전달받았다면 ValueError 예외를 발생시키면 된다. 여기서 공개 API의 인수 값을 확인하는 데  assert문은 사용하지 않는다. assert문은 정확한 사용법을 강요하거나 예상치 못한 이벤트가 발생했음을 가리키는 것이 아니라, 내부적으로 정확성을 보장하기 위해 사용하는 것이다.\n",
    "- 라이브러리 또느 패키지에 따라 자체적인 예외를 정의하는 게 좋다.\n",
    "- 몯느 예외를 처리하는 except:, except Exception, except StandardError 문을 사용하지 않는다. 예외를 다시 발생시키려 하거나 코드의 가장 바깥쪽 블록에서가 아니라면! \n",
    "- try/except블록 내 코드의 양을 최소화한다. try 문에 걸리는 코드가 많을수록, 예외를 발생시키지 않을 것을 ㅗ예상한 코드 줄에서 예외가 발생할 확룰도 높아진다. 이러한 경우 실제 오류가 발견하기 어렵다.\n",
    "- try문에서 예외가 발생하는지 여부에 관계없이 finally문을 꼭 사용ㅎ나다. 이렇게 하면 파일 닫기와 같이 자원을 정리하는데 유용하다.\n",
    " "
   ]
  },
  {
   "cell_type": "code",
   "execution_count": null,
   "metadata": {},
   "outputs": [],
   "source": []
  }
 ],
 "metadata": {
  "kernelspec": {
   "display_name": "Python 3",
   "language": "python",
   "name": "python3"
  },
  "language_info": {
   "codemirror_mode": {
    "name": "ipython",
    "version": 3
   },
   "file_extension": ".py",
   "mimetype": "text/x-python",
   "name": "python",
   "nbconvert_exporter": "python",
   "pygments_lexer": "ipython3",
   "version": "3.10.11"
  },
  "orig_nbformat": 4
 },
 "nbformat": 4,
 "nbformat_minor": 2
}
