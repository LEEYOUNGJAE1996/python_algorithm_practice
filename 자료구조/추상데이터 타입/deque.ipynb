{
 "cells": [
  {
   "attachments": {},
   "cell_type": "markdown",
   "metadata": {},
   "source": [
    "# Deque\n",
    "\n",
    "deque는 스택과 큐의 결합체로 볼 수 있다. 양쪽 끝에서 항목읠 조회, 삽입, 삭제가 가능하다."
   ]
  },
  {
   "cell_type": "code",
   "execution_count": 7,
   "metadata": {},
   "outputs": [
    {
     "name": "stdout",
     "output_type": "stream",
     "text": [
      "Deque가 비었나요? True\n",
      "deque에 숫자 0~9까지 추가합니다.\n",
      "deque size : 10\n",
      "deque peek : 0\n",
      "dequeue : 0\n",
      "deque peak : 1\n",
      "Deque가 비었나요? False\n",
      "\n",
      "deque : [9, 8, 7, 6, 5, 4, 3, 2, 1]\n",
      "deque_front : 9\n",
      "dequeue: 1\n",
      "deque : [8, 7, 6, 5, 4, 3, 2, 1]\n",
      "enqueue_back(50)을 실행합니다.\n",
      "peek : 50\n",
      "deque : [8, 7, 6, 5, 4, 3, 2, 1, 50]\n"
     ]
    }
   ],
   "source": [
    "\n",
    "\n",
    "class Queue(object):\n",
    "    def __init__(self):\n",
    "        self.items = []\n",
    "\n",
    "    def isEmpty(self):\n",
    "        return not bool(self.items)\n",
    "    \n",
    "    def enqueue(self, item):\n",
    "        self.items.insert(0,item)\n",
    "    \n",
    "    def dequeue(self):\n",
    "        value = self.items.pop()\n",
    "        if value is not None:\n",
    "            return value\n",
    "        else :\n",
    "            print('queue is empty')\n",
    "\n",
    "    def size(self):\n",
    "        return len(self.items)\n",
    "    \n",
    "    def peek(self):\n",
    "        if self.items:\n",
    "            return self.items[-1]\n",
    "        else:\n",
    "            print('Queue is empty')\n",
    "    \n",
    "    def __repr__(self):\n",
    "        return repr(self.items)\n",
    "    \n",
    "\n",
    "class Deque(Queue):\n",
    "    def __init(self):\n",
    "        super().__init__()\n",
    "    def enqueue_back(self, item):\n",
    "        self.items.append(item)\n",
    "    \n",
    "    def dequeue_front(self):\n",
    "        value = self.items.pop(0)\n",
    "        if value is not None:\n",
    "            return value\n",
    "        else:\n",
    "            print(\"Deque is empty\")\n",
    "\n",
    "if __name__ == \"__main__\":\n",
    "    deque = Deque()\n",
    "    print(f\"Deque가 비었나요? {deque.isEmpty()}\")\n",
    "    print(\"deque에 숫자 0~9까지 추가합니다.\")\n",
    "    for i in range(10):\n",
    "        deque.enqueue(i)\n",
    "    print(f\"deque size : {deque.size()}\")\n",
    "    print(f\"deque peek : {deque.peek()}\")\n",
    "    print(f\"dequeue : {deque.dequeue()}\")\n",
    "    print(f\"deque peak : {deque.peek()}\")\n",
    "    print(f\"Deque가 비었나요? {deque.isEmpty()}\")\n",
    "    print()\n",
    "    print(f'deque : {deque}')\n",
    "    print(f'deque_front : {deque.dequeue_front()}')\n",
    "    print(f'dequeue: {deque.peek()}')\n",
    "    print(f'deque : {deque}')\n",
    "    print(f'enqueue_back(50)을 실행합니다.')\n",
    "    deque.enqueue_back(50)\n",
    "    print(f'peek : {deque.peek()}')\n",
    "    print(f'deque : {deque}')"
   ]
  },
  {
   "cell_type": "code",
   "execution_count": 9,
   "metadata": {},
   "outputs": [
    {
     "name": "stdout",
     "output_type": "stream",
     "text": [
      "deque(['연규', '영재', '경민', '휘석'])\n",
      "deque(['연규', '영재', '경민', '휘석', '민재'])\n",
      "연규\n",
      "민재\n",
      "deque(['영재', '경민', '휘석'])\n",
      "deque(['보원', '영재', '경민', '휘석'])\n"
     ]
    }
   ],
   "source": [
    "# collections 패키지ㅡ이 deque 모듈을 사용하면 insert 비효율 문제를 해결할 수 있다.\n",
    "\n",
    "from collections import deque\n",
    "q = deque([\"연규\",\"영재\",\"경민\",\"휘석\"])\n",
    "print(q)\n",
    "q.append(\"민재\")\n",
    "print(q)\n",
    "print(q.popleft())\n",
    "print(q.pop())\n",
    "print(q)\n",
    "q.appendleft(\"보원\")\n",
    "print(q)\n"
   ]
  },
  {
   "cell_type": "code",
   "execution_count": null,
   "metadata": {},
   "outputs": [],
   "source": []
  }
 ],
 "metadata": {
  "kernelspec": {
   "display_name": "Python 3",
   "language": "python",
   "name": "python3"
  },
  "language_info": {
   "codemirror_mode": {
    "name": "ipython",
    "version": 3
   },
   "file_extension": ".py",
   "mimetype": "text/x-python",
   "name": "python",
   "nbconvert_exporter": "python",
   "pygments_lexer": "ipython3",
   "version": "3.10.11"
  },
  "orig_nbformat": 4
 },
 "nbformat": 4,
 "nbformat_minor": 2
}
