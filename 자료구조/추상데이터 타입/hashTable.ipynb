{
 "cells": [
  {
   "attachments": {},
   "cell_type": "markdown",
   "metadata": {},
   "source": [
    "# Hash Table\n",
    "\n",
    "해시 테이블은 키를 값에 연결하여, 하나의 키가 0 또는 1개의 값과 연관된다.\n",
    "각 키는 해시 함수를 계산할 수 있어야 한다. 해시 테이블은 해시 버킷의 배열로 구성된다.\n",
    "ex\n",
    "해시 값이 42이고 5개의 버킷이 있는 경우 나머지 연산(mod)를 이용하여, 버킷 2(=42 mod 5)에 매핑한다.\n",
    "\n",
    "두 개의 키가 동일한 버킷에 해시될 때, 문제가 발생한다. 이를 해시 충돌이라고 한다.\n",
    "이를 처리하는 한 가지 방법은, 각 버킷에 대해 키-값 쌍의 연결리스트를 저장하는 것이다.\n",
    "\n",
    "해시 테이블의 조회, 삽입, 삭제의 시간복잡도는 O(1)이다. 최악의 경우 각 키가 동일한 버킷으로 해시된다면(해시 충돌이 발생한다면),\n",
    "각 작업의 시간복잡도는 O(n)이다. 간단하게 해시 테이블을 구현하는 다음 코드를 살펴보자.ㅠ"
   ]
  },
  {
   "cell_type": "code",
   "execution_count": null,
   "metadata": {},
   "outputs": [],
   "source": []
  }
 ],
 "metadata": {
  "kernelspec": {
   "display_name": "Python 3",
   "language": "python",
   "name": "python3"
  },
  "language_info": {
   "codemirror_mode": {
    "name": "ipython",
    "version": 3
   },
   "file_extension": ".py",
   "mimetype": "text/x-python",
   "name": "python",
   "nbconvert_exporter": "python",
   "pygments_lexer": "ipython3",
   "version": "3.10.11"
  },
  "orig_nbformat": 4
 },
 "nbformat": 4,
 "nbformat_minor": 2
}
