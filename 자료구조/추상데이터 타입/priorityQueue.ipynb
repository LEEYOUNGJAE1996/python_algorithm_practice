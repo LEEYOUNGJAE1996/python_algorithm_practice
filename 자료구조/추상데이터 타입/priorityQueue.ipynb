{
 "cells": [
  {
   "attachments": {},
   "cell_type": "markdown",
   "metadata": {},
   "source": [
    "# Priority Queue\n",
    "\n",
    "우선순위 큐는 일반 스택과 큐와 비슷한 추상 데이터 타입이지만, 각 항목마다 연관된 우선순위가 있다. 두 항목의 우선순위가 같으면 큐의 순서를 따른다. \n",
    "우선순위 큐는 힙을 사용하여 구현한다. 따라서 힙을 먼저 살펴본다.\n",
    "\n",
    "# 힙(Heap)\n",
    "\n",
    "heap은 각 노드가 하위 노드보다 작은(또는 큰) 이진 트리다.\n",
    "균형 트리의 모양이 수정될 떄, 다시 이를 균형 트리로 만드는 시간복잡도는 O(log n)이다. \n",
    "힙은 일반적으로, 리스트에서 가장 작은(또는 가장 큰) 요소에 반복적으로 접근하는 프로그램에 유용하다. 최소(또는 최대) 힙을 사용하면 가장 작(또는 가장 큰)\n",
    "요소를 처리하는 시간복잡도는 O(1)이고, 그 외의 조회, 추가, 수정을 처리하는 시간복잡도는 O(log n)이다\n",
    "\n",
    "heapq 모듈\n",
    "heapq 모듈은 효율적으로 시퀀스를 힙으로 유지하면서 항목을 삽입하고 제거하는 함수를 제공한다. 다음과 같이 heapq.heapify() 함수를 사용하면 O(n) 시간에 리스트를 힙으로 변환할 수 있다.\n",
    "\n",
    "\n"
   ]
  },
  {
   "cell_type": "code",
   "execution_count": null,
   "metadata": {},
   "outputs": [],
   "source": []
  },
  {
   "cell_type": "code",
   "execution_count": null,
   "metadata": {},
   "outputs": [],
   "source": []
  },
  {
   "cell_type": "code",
   "execution_count": null,
   "metadata": {},
   "outputs": [],
   "source": []
  }
 ],
 "metadata": {
  "language_info": {
   "name": "python"
  },
  "orig_nbformat": 4
 },
 "nbformat": 4,
 "nbformat_minor": 2
}
