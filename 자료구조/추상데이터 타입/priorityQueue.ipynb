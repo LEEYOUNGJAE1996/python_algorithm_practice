{
 "cells": [
  {
   "attachments": {},
   "cell_type": "markdown",
   "metadata": {},
   "source": [
    "# Priority Queue\n",
    "\n",
    "우선순위 큐는 일반 스택과 큐와 비슷한 추상 데이터 타입이지만, 각 항목마다 연관된 우선순위가 있다. 두 항목의 우선순위가 같으면 큐의 순서를 따른다. \n",
    "우선순위 큐는 힙을 사용하여 구현한다. 따라서 힙을 먼저 살펴본다.\n",
    "\n",
    "# 힙(Heap)\n",
    "\n",
    "heap은 각 노드가 하위 노드보다 작은(또는 큰) 이진 트리다.\n",
    "균형 트리의 모양이 수정될 떄, 다시 이를 균형 트리로 만드는 시간복잡도는 O(log n)이다. \n",
    "힙은 일반적으로, 리스트에서 가장 작은(또는 가장 큰) 요소에 반복적으로 접근하는 프로그램에 유용하다. 최소(또는 최대) 힙을 사용하면 가장 작(또는 가장 큰)\n",
    "요소를 처리하는 시간복잡도는 O(1)이고, 그 외의 조회, 추가, 수정을 처리하는 시간복잡도는 O(log n)이다\n",
    "\n",
    "heapq 모듈\n",
    "heapq 모듈은 효율적으로 시퀀스를 힙으로 유지하면서 항목을 삽입하고 제거하는 함수를 제공한다. 다음과 같이 heapq.heapify() 함수를 사용하면 O(n) 시간에 리스트를 힙으로 변환할 수 있다.\n",
    "\n",
    "\n"
   ]
  },
  {
   "cell_type": "code",
   "execution_count": 2,
   "metadata": {},
   "outputs": [
    {
     "name": "stdout",
     "output_type": "stream",
     "text": [
      "[2, 12, 3, 345, 46, 72, 54]\n",
      "[(1, 'food'), (2, 'have fun'), (3, 'work'), (4, 'study')]\n"
     ]
    }
   ],
   "source": [
    "import heapq\n",
    "list1 = [12,2,72,345,46,3,54]\n",
    "heapq.heapify(list1)\n",
    "print(list1)\n",
    "# 항목을 힙에 삽입하 때는 heapq.heapush(heap,item) 을 사용한다.\n",
    "\n",
    "h = []\n",
    "heapq.heappush(h,(1,'food'))\n",
    "heapq.heappush(h,(2,'have fun'))\n",
    "heapq.heappush(h,(3,'work'))\n",
    "heapq.heappush(h,(4,'study'))\n",
    "print(h)"
   ]
  },
  {
   "cell_type": "code",
   "execution_count": 3,
   "metadata": {},
   "outputs": [
    {
     "name": "stdout",
     "output_type": "stream",
     "text": [
      "2\n",
      "[3, 12, 54, 345, 46, 72]\n"
     ]
    }
   ],
   "source": [
    "# heapq.heappop(heap) 함수는 힙에서 가장 작은 항목을 제거하고 반환한다.\n",
    "print(heapq.heappop(list1))\n",
    "print(list1)"
   ]
  },
  {
   "cell_type": "code",
   "execution_count": 5,
   "metadata": {},
   "outputs": [
    {
     "name": "stdout",
     "output_type": "stream",
     "text": [
      "1\n",
      "2\n",
      "3\n",
      "4\n",
      "5\n",
      "6\n"
     ]
    }
   ],
   "source": [
    "# heappushpop(heap, item)은 새 항목을 힙에 추가한 후, 가장 작은 항목을 제거하고 반환한다. heapq.heapreplace(heap, item)는 힙의 가장 작은 항목을 제거하고 반환한 후\n",
    "# 새 항목을 추가한다. heappush() 와 heappop() 메서드를 따로 사용하는 것보다 한 번에 heappushpop() 혹은 heapreplace() 메서드를 사용하는 것이 더 효율적이다.\n",
    "# 힙의 속성을 상ㅇ하면 많은 연산을 할 수 있다. 예를 들어 heapq.merge(*iterables)는 여러 개의 정렬된 반복 가능한 객체를 병합하여 하나의 정렬된 겨로가의 이터레이터를 반환한다.\n",
    "\n",
    "for x in heapq.merge([1,3,5],[2,4,6]):\n",
    "    print(x)\n",
    "\n",
    "# heapq.nlargest(n, iterable[,key]) 와 heapq.nsmallest(n, iteralbe [,key])는 데이터(반복 가능한 객체에 의해 정의된)에서 n개의 가장 큰요소와 가장 작은 요소가 있는 리스트를 반환한다.\n",
    "\n"
   ]
  },
  {
   "attachments": {},
   "cell_type": "markdown",
   "metadata": {},
   "source": [
    "## 최대 힙 구현하기\n",
    "\n",
    "\n",
    "힙 클래스를 직접 만들기 위해 먼저 heapq 모듈의 heapify() 함수를 구현해보자.\n",
    "최대힙(max-heap)을 예시로 리스트 [3,2,5,1,7,8,2]를 힙으로 만들어보겠다.\n",
    "\n"
   ]
  },
  {
   "cell_type": "code",
   "execution_count": 9,
   "metadata": {},
   "outputs": [
    {
     "name": "stdout",
     "output_type": "stream",
     "text": [
      "[8, 7, 5, 3, 2, 1, 2]\n",
      "test 통과\n"
     ]
    }
   ],
   "source": [
    "# max heapify\n",
    "\n",
    "class Heapify(object):\n",
    "    def __init__(self, data = None):\n",
    "        self.data = data or []\n",
    "        for i in range(len(data)//2 , -1,-1):\n",
    "            self.__max_heapify__(i)\n",
    "    def __repr__(self):\n",
    "        return repr(self.data)\n",
    "    \n",
    "    def parent(self,i):\n",
    "        if i & 1:\n",
    "            return 1 >> 1\n",
    "        else :\n",
    "            return (i >> 1) -1\n",
    "        \n",
    "    def left_child(self,i):\n",
    "        return (i<<1) -1\n",
    "    def right_child(self, i):\n",
    "        return (i<<1) +2\n",
    "    \n",
    "    def __max_heapify__(self,i):\n",
    "        largest = i # 현재 노드\n",
    "        left = self.left_child(i)\n",
    "        right = self.right_child(i)\n",
    "        n = len(self.data)\n",
    "\n",
    "        # 왼쪽 자식\n",
    "        largest = (left < n and self.data[left] > self.data[i]) and left or i\n",
    "        # 오른쪽 자식\n",
    "        largest = (right < n and self.data[right] > self.data[largest]) and right or largest\n",
    "\n",
    "        # 현재 노드가 자식들보다 크다면 Skip, 자식이 크다면 Swap\n",
    "        if i is not largest:\n",
    "            self.data[i], self.data[largest] = self.data[largest], self.data[i]\n",
    "            self.__max_heapify__(largest)\n",
    "\n",
    "    def extract_max(self):\n",
    "        n = len(self.data)\n",
    "        max_element = self.data[0]\n",
    "        # 첫 번째 노드에 마지막 노드를 삽입\n",
    "        self.data[0] = self.data[n-1]\n",
    "        self.data = self.data [ :n-1]\n",
    "        self.__max_heapify__(0)\n",
    "        return max_element\n",
    "    \n",
    "    def insert(self,item):\n",
    "        i = len(self.data)\n",
    "        self.data.append(item)\n",
    "        while (i !=0 ) and item > self.data[self.parent(i)]:\n",
    "            print(self.data)\n",
    "            self.data[i] = self.data[self.parent(i)]\n",
    "            i = self.parent(i)\n",
    "        self.data[i] = item\n",
    "\n",
    "def test_heapify():\n",
    "    l1 = [3,2,5,1,7,8,2]\n",
    "    h = Heapify(l1)\n",
    "    print(h)\n",
    "    assert(h.extract_max() == 8)\n",
    "    print('test 통과')\n",
    "\n",
    "if __name__ == \"__main__\":\n",
    "    test_heapify()"
   ]
  },
  {
   "cell_type": "code",
   "execution_count": 11,
   "metadata": {},
   "outputs": [
    {
     "name": "stdout",
     "output_type": "stream",
     "text": [
      "테스트 통과\n"
     ]
    }
   ],
   "source": [
    "# 우선순위 큐 구현하기\n",
    "\n",
    "# 마무리로 heapq 모듈을 사용하여 우선순위 큐 클래스를 구현해보겠다.\n",
    "# 숫자가 클수록 우선순위가 높다.\n",
    "\n",
    "import heapq\n",
    "class PriorityQueue(object):\n",
    "    def __init__(self):\n",
    "        self._queue = []\n",
    "        self._index = 0\n",
    "    def push(self, item, priority):\n",
    "        heapq.heappush(self._queue, (-priority,self._index,item))\n",
    "        self._index += 1\n",
    "\n",
    "    def pop(self):\n",
    "        return heapq.heappop(self._queue)[-1]\n",
    "    \n",
    "\n",
    "class Item:\n",
    "    def __init__(self, name):\n",
    "        self.name = name\n",
    "    def __repr__(self):\n",
    "        return \"Item({0!r})\".format(self.name)\n",
    "    \n",
    "def test_priority_queue():\n",
    "    '''push와 pop은 모두 O(log N)이다.'''\n",
    "    q= PriorityQueue()\n",
    "    q.push(Item('test1'),1)\n",
    "    q.push(Item('test2'),4)\n",
    "    q.push(Item('test3'),3)\n",
    "    assert(str(q.pop())==\"Item('test2')\")\n",
    "    print('테스트 통과')\n",
    "\n",
    "if __name__==\"__main__\":\n",
    "    test_priority_queue()"
   ]
  },
  {
   "cell_type": "markdown",
   "metadata": {},
   "source": []
  }
 ],
 "metadata": {
  "kernelspec": {
   "display_name": "Python 3",
   "language": "python",
   "name": "python3"
  },
  "language_info": {
   "codemirror_mode": {
    "name": "ipython",
    "version": 3
   },
   "file_extension": ".py",
   "mimetype": "text/x-python",
   "name": "python",
   "nbconvert_exporter": "python",
   "pygments_lexer": "ipython3",
   "version": "3.10.11"
  },
  "orig_nbformat": 4
 },
 "nbformat": 4,
 "nbformat_minor": 2
}
