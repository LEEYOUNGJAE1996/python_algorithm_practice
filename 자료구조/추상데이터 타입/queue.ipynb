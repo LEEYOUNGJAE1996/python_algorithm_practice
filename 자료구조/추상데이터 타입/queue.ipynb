{
 "cells": [
  {
   "attachments": {},
   "cell_type": "markdown",
   "metadata": {},
   "source": [
    "# Queue(큐)\n",
    "\n",
    "큐는 스택과 다르게 항목이 들어온 순서대로 접근 가능하다. 즉, 먼저 들어온 데이터가 먼저 나가는 선입선출 구조다. 큐 역시 배열의 인덱스 접근이 제한된다.\n",
    "큐의 동작은 다음과 같으며, 시간복잡도는 모두 O(1)"
   ]
  },
  {
   "cell_type": "code",
   "execution_count": null,
   "metadata": {},
   "outputs": [],
   "source": []
  }
 ],
 "metadata": {
  "language_info": {
   "name": "python"
  },
  "orig_nbformat": 4
 },
 "nbformat": 4,
 "nbformat_minor": 2
}
