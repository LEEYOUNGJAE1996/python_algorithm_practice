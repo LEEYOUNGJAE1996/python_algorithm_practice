{
 "cells": [
  {
   "attachments": {},
   "cell_type": "markdown",
   "metadata": {},
   "source": [
    "# Stack(스택)\n",
    "\n",
    "스택은 배열의 끝에서만 데이터를 접근할 수 있는 선형 자료구조다. 스택은 배열 인덱스 접근이 제한되며, 후입선출(LIFO)구조다. 책상 위에 쌓여 있는 책이나 싱크대에 쌓여 있는 접시를 연상하면 이해하기 ㅜ십다.\n",
    "스태의 동작은 다음과 같으며, 시간복잡도는 모드 O(1)이다.\n",
    "\n",
    "- push : 스택 맨 끝(맨 위)에 항목을 삽입한다.\n",
    "- pop : 스택 맨 끝 항목을 반환하는 동시에 제거한다.\n",
    "- top/peek : 스택 맨 끝 항목을 조회한다.\n",
    "- empty : 스택이 비어 있는지 확인한다.\n",
    "- size : 스택 크기를 확인한다.\n",
    "\n",
    "\n",
    "파이썬에서는 다음과 같이 리스트의 append()와 pop() 메서드로 스택을 구현할 수 있다.\n"
   ]
  },
  {
   "cell_type": "code",
   "execution_count": 2,
   "metadata": {},
   "outputs": [
    {
     "name": "stdout",
     "output_type": "stream",
     "text": [
      "스택이 비었나요? True\n",
      "스택에 숫자  0 ~ 9 숫자를 추가합니다.\n",
      "Stack 크기 : 10\n",
      "peek : 9\n",
      "pop : 9\n",
      "peek : 8\n",
      "스택이 비었나요? False\n",
      "[0, 1, 2, 3, 4, 5, 6, 7, 8]\n"
     ]
    }
   ],
   "source": [
    "# stack 구현\n",
    "\n",
    "class Stack(object):\n",
    "    def __init__(self):\n",
    "        self.items= []\n",
    "\n",
    "    def isEmpty(self):\n",
    "        return not bool(self.items)\n",
    "    \n",
    "    def push(self, value):\n",
    "        self.items.append(value)\n",
    "\n",
    "    def pop(self):\n",
    "        value = self.items.pop()\n",
    "        if value is not None:\n",
    "            return value\n",
    "        else :\n",
    "            print(\"Stack is empty\")\n",
    "\n",
    "\n",
    "    def size(self):\n",
    "        return len(self.items)\n",
    "    \n",
    "    def peek(self):\n",
    "        if self.items:\n",
    "            return self.items[-1]\n",
    "        else :\n",
    "            print(\"Stack is empty.\")\n",
    "\n",
    "    def __repr__(self):\n",
    "        return repr(self.items)\n",
    "    \n",
    "if __name__==\"__main__\":\n",
    "    stack = Stack()\n",
    "    print(\"스택이 비었나요? {0}\".format(stack.isEmpty()))\n",
    "    print(\"스택에 숫자  0 ~ 9 숫자를 추가합니다.\")\n",
    "    for i in range(10):\n",
    "        stack.push(i)\n",
    "    print(\"Stack 크기 : {0}\".format(stack.size()))\n",
    "    print(\"peek : {0}\".format(stack.peek()))\n",
    "    print(\"pop : {0}\".format(stack.pop()))\n",
    "    print(\"peek : {0}\".format(stack.peek()))\n",
    "    print(\"스택이 비었나요? {0}\".format(stack.isEmpty()))\n",
    "    print(stack)\n",
    "\n",
    "    # 스택은 깊이 우선 탐색(DFS)에서 유용하게 사용된다."
   ]
  },
  {
   "cell_type": "code",
   "execution_count": null,
   "metadata": {},
   "outputs": [],
   "source": []
  }
 ],
 "metadata": {
  "kernelspec": {
   "display_name": "Python 3",
   "language": "python",
   "name": "python3"
  },
  "language_info": {
   "codemirror_mode": {
    "name": "ipython",
    "version": 3
   },
   "file_extension": ".py",
   "mimetype": "text/x-python",
   "name": "python",
   "nbconvert_exporter": "python",
   "pygments_lexer": "ipython3",
   "version": "3.10.11"
  },
  "orig_nbformat": 4
 },
 "nbformat": 4,
 "nbformat_minor": 2
}
