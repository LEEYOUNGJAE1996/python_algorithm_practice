{
 "cells": [
  {
   "attachments": {},
   "cell_type": "markdown",
   "metadata": {},
   "source": [
    "# 연결리스트\n",
    "\n",
    "연결리스트는 값과 다음 노드에 대한 포인터(참조)가 포함된 노드로 이루어진 선형 리스트\n",
    "마지막 노드는 None\n",
    "\n"
   ]
  },
  {
   "cell_type": "code",
   "execution_count": 2,
   "metadata": {},
   "outputs": [
    {
     "name": "stdout",
     "output_type": "stream",
     "text": [
      "a\n",
      "b\n",
      "aa\n"
     ]
    }
   ],
   "source": [
    "# 예시\n",
    "class Node(object):\n",
    "    def __init__(self,value= None, pointer=None):\n",
    "        self.value = value\n",
    "        self.pointer = pointer\n",
    "\n",
    "    def getData(self):\n",
    "        return self.value\n",
    "    def getNext(self):\n",
    "        return self.pointer\n",
    "    \n",
    "    def setData(self, newData):\n",
    "        self.value = newData\n",
    "    def setNext(self,newPointer):\n",
    "        self.pointer = newPointer\n",
    "\n",
    "if __name__ == \"__main__\":\n",
    "    L = Node(\"a\",Node(\"b\",Node(\"c\",Node(\"d\"))))\n",
    "    print(L.getData())\n",
    "    print(L.getNext().getData())\n",
    "    L.setData(\"aa\")\n",
    "    print(L.getData())\n",
    "\n"
   ]
  },
  {
   "cell_type": "code",
   "execution_count": 5,
   "metadata": {},
   "outputs": [
    {
     "name": "stdout",
     "output_type": "stream",
     "text": [
      "연결 리스트 출력 :\n",
      "4 3 2 1 \n",
      "인덱스가 2인 노드 삭제 후, 연결 리스트 출력: \n",
      "4 3 1 \n",
      "값이 15인 노드 추가 후, 연결 리스트 출력 :\n",
      "15 4 3 1 \n"
     ]
    }
   ],
   "source": [
    "# 연결리스트를 활용한 LIFO 구현\n",
    "\n",
    "class LIFO(object):\n",
    "    def __init__(self):\n",
    "        self.head = None\n",
    "        self.length = 0\n",
    "\n",
    "    #헤드ㅜ터 각 노드의 값을 출력\n",
    "    def _printList(self):\n",
    "        node = self.head\n",
    "        while node:\n",
    "            print(node.value, end=\" \")\n",
    "            node = node.pointer\n",
    "        print()\n",
    "\n",
    "    # 이전 노드를 기반으로 노드를 삭제\n",
    "    def _delete(self,prev, node):\n",
    "        self.length = -1\n",
    "        if not prev:\n",
    "            self.head = node.pointer\n",
    "        else :\n",
    "            prev.pointer = node.pointer\n",
    "    \n",
    "    # 새 노드를 추가한다. 다음 노드로 헤드를 가리키고,\n",
    "    # 헤드는 새 노드를 가리킨다.\n",
    "\n",
    "    def _add(self, value):\n",
    "        self.length +=1 \n",
    "        self.head = Node(value, self.head)\n",
    "\n",
    "    # 인덱스로 노드를 찾는다.\n",
    "    def _find(self,index):\n",
    "        prev = None\n",
    "        node = self.head\n",
    "        i = 0 \n",
    "        while node and i < index:\n",
    "            prev = node \n",
    "            node = node.pointer\n",
    "            i += 1\n",
    "        return node, prev , i \n",
    "    \n",
    "    # 값으로 노드를 찾는다.\n",
    "    def _findByValue(self, value):\n",
    "        prev = None\n",
    "        node = self.head\n",
    "        found = False\n",
    "        while node and not found:\n",
    "            if node.value == value:\n",
    "             found = True\n",
    "            else:\n",
    "                prev = node\n",
    "                node = node.pointer\n",
    "        return node, prev, found\n",
    "    \n",
    "    # 인덱스에 해당하는 노드를 찾아서 삭제한다.\n",
    "    def deleteNode(self, index):\n",
    "        node, prev , i  = self._find(index)\n",
    "        if index == i :\n",
    "            self._delete(prev,node)\n",
    "        else :\n",
    "            print(\"인덱스에 해당하는 노드가 없습니다.\")\n",
    "\n",
    "    # 값에 해당하는 노드를 찾아서 삭제한다.\n",
    "    def deleteNodeByValue(self, value):\n",
    "        node, prev, found = self._findByValue(value)\n",
    "        if found:\n",
    "            self._delete(prev, node)\n",
    "        else:\n",
    "            print(\"값에 해당하는 노드가 없습니다.\")\n",
    "\n",
    "if __name__ == \"__main__\":\n",
    "    ll  = LIFO()\n",
    "    for i in range(1,5):\n",
    "        ll._add(i)\n",
    "    print(\"연결 리스트 출력 :\")\n",
    "    ll._printList()\n",
    "    \n",
    "    print(\"인덱스가 2인 노드 삭제 후, 연결 리스트 출력: \")\n",
    "    ll.deleteNode(2)    \n",
    "    ll._printList()\n",
    "\n",
    "    print(\"값이 15인 노드 추가 후, 연결 리스트 출력 :\")\n",
    "    ll._add(15)\n",
    "    ll._printList()\n"
   ]
  },
  {
   "cell_type": "code",
   "execution_count": null,
   "metadata": {},
   "outputs": [],
   "source": []
  }
 ],
 "metadata": {
  "kernelspec": {
   "display_name": "Python 3",
   "language": "python",
   "name": "python3"
  },
  "language_info": {
   "codemirror_mode": {
    "name": "ipython",
    "version": 3
   },
   "file_extension": ".py",
   "mimetype": "text/x-python",
   "name": "python",
   "nbconvert_exporter": "python",
   "pygments_lexer": "ipython3",
   "version": "3.10.11"
  },
  "orig_nbformat": 4
 },
 "nbformat": 4,
 "nbformat_minor": 2
}
