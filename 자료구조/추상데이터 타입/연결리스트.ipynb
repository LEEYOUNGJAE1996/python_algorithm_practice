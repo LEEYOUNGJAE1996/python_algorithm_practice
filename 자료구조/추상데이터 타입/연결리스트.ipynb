{
 "cells": [
  {
   "attachments": {},
   "cell_type": "markdown",
   "metadata": {},
   "source": [
    "# 연결리스트\n",
    "\n",
    "연결리스트는 값과 다음 노드에 대한 포인터(참조)가 포함된 노드로 이루어진 선형 리스트\n",
    "마지막 노드는 None\n",
    "\n"
   ]
  },
  {
   "cell_type": "code",
   "execution_count": 1,
   "metadata": {},
   "outputs": [
    {
     "name": "stdout",
     "output_type": "stream",
     "text": [
      "a\n",
      "b\n"
     ]
    }
   ],
   "source": [
    "# 예시\n",
    "class Node(object):\n",
    "    def __init__(self,value= None, pointer=None):\n",
    "        self.value = value\n",
    "        self.pointer = pointer\n",
    "\n",
    "    def getData(self):\n",
    "        return self.value\n",
    "    def getNext(self):\n",
    "        return self.pointer\n",
    "    \n",
    "    def setData(self, newData):\n",
    "        self.value = newData\n",
    "    def setNext(self,newPointer):\n",
    "        self.pointer = newPointer\n",
    "\n",
    "if __name__ == \"__main__\":\n",
    "    L = Node(\"a\",Node(\"b\",Node(\"c\",Node(\"d\"))))\n",
    "    print(L.getData())\n",
    "    print(L.getNext().getData())\n",
    "    L.setData(\"aa\")\n",
    "    print(L.getData())\n",
    "\n"
   ]
  }
 ],
 "metadata": {
  "kernelspec": {
   "display_name": "Python 3",
   "language": "python",
   "name": "python3"
  },
  "language_info": {
   "codemirror_mode": {
    "name": "ipython",
    "version": 3
   },
   "file_extension": ".py",
   "mimetype": "text/x-python",
   "name": "python",
   "nbconvert_exporter": "python",
   "pygments_lexer": "ipython3",
   "version": "3.10.11"
  },
  "orig_nbformat": 4
 },
 "nbformat": 4,
 "nbformat_minor": 2
}
